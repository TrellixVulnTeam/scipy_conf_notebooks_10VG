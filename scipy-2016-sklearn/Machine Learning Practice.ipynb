{
 "cells": [
  {
   "cell_type": "code",
   "execution_count": 2,
   "metadata": {},
   "outputs": [],
   "source": [
    "from scipy import sparse\n",
    "mtx = sparse.lil_matrix([[0,1,0],[1,0,1],[0,0,1]])"
   ]
  },
  {
   "cell_type": "code",
   "execution_count": 4,
   "metadata": {},
   "outputs": [
    {
     "name": "stdout",
     "output_type": "stream",
     "text": [
      "  (0, 1)\t1\n",
      "  (1, 0)\t1\n",
      "  (1, 2)\t1\n",
      "  (2, 2)\t1\n"
     ]
    }
   ],
   "source": [
    "print mtx"
   ]
  },
  {
   "cell_type": "code",
   "execution_count": 5,
   "metadata": {},
   "outputs": [
    {
     "data": {
      "text/plain": [
       "array([[0, 1, 0],\n",
       "       [1, 0, 1],\n",
       "       [0, 0, 1]])"
      ]
     },
     "execution_count": 5,
     "metadata": {},
     "output_type": "execute_result"
    }
   ],
   "source": [
    "mtx.toarray()"
   ]
  },
  {
   "cell_type": "code",
   "execution_count": 8,
   "metadata": {},
   "outputs": [],
   "source": [
    "import numpy as np\n",
    "np.random.randint?"
   ]
  },
  {
   "cell_type": "code",
   "execution_count": 9,
   "metadata": {},
   "outputs": [
    {
     "data": {
      "text/plain": [
       "array([[0, 1],\n",
       "       [3, 1],\n",
       "       [0, 3],\n",
       "       [4, 3],\n",
       "       [2, 4],\n",
       "       [0, 3],\n",
       "       [2, 0],\n",
       "       [4, 2],\n",
       "       [1, 0],\n",
       "       [4, 0],\n",
       "       [2, 1],\n",
       "       [2, 4],\n",
       "       [4, 0],\n",
       "       [0, 0],\n",
       "       [2, 4]])"
      ]
     },
     "execution_count": 9,
     "metadata": {},
     "output_type": "execute_result"
    }
   ],
   "source": [
    "np.random.randint(0, 5, (15, 2))"
   ]
  },
  {
   "cell_type": "code",
   "execution_count": 21,
   "metadata": {},
   "outputs": [],
   "source": [
    "X = np.random.rand(3,2)"
   ]
  },
  {
   "cell_type": "code",
   "execution_count": 22,
   "metadata": {},
   "outputs": [],
   "source": [
    "Y = X.T"
   ]
  },
  {
   "cell_type": "code",
   "execution_count": 23,
   "metadata": {},
   "outputs": [
    {
     "data": {
      "text/plain": [
       "array([[ 0.00788021,  0.03836558,  0.86953094],\n",
       "       [ 0.33861338,  0.29913651,  0.01805932]])"
      ]
     },
     "execution_count": 23,
     "metadata": {},
     "output_type": "execute_result"
    }
   ],
   "source": [
    "Y"
   ]
  },
  {
   "cell_type": "code",
   "execution_count": 24,
   "metadata": {},
   "outputs": [
    {
     "data": {
      "text/plain": [
       "array([[ 0.00788021,  0.33861338],\n",
       "       [ 0.03836558,  0.29913651],\n",
       "       [ 0.86953094,  0.01805932]])"
      ]
     },
     "execution_count": 24,
     "metadata": {},
     "output_type": "execute_result"
    }
   ],
   "source": [
    "X"
   ]
  },
  {
   "cell_type": "code",
   "execution_count": 20,
   "metadata": {
    "collapsed": true
   },
   "outputs": [],
   "source": [
    "np.random.rand?"
   ]
  },
  {
   "cell_type": "code",
   "execution_count": 27,
   "metadata": {},
   "outputs": [],
   "source": [
    "X1 = np.random.rand(10)\n",
    "Y1 = X1[:,np.newaxis]"
   ]
  },
  {
   "cell_type": "code",
   "execution_count": 29,
   "metadata": {},
   "outputs": [
    {
     "name": "stdout",
     "output_type": "stream",
     "text": [
      "(10, 1)\n"
     ]
    },
    {
     "data": {
      "text/plain": [
       "array([[ 0.33951954],\n",
       "       [ 0.47333829],\n",
       "       [ 0.37441375],\n",
       "       [ 0.93841992],\n",
       "       [ 0.4544864 ],\n",
       "       [ 0.6466301 ],\n",
       "       [ 0.9096649 ],\n",
       "       [ 0.34330624],\n",
       "       [ 0.40479337],\n",
       "       [ 0.94357347]])"
      ]
     },
     "execution_count": 29,
     "metadata": {},
     "output_type": "execute_result"
    }
   ],
   "source": [
    "print Y1.shape\n",
    "Y1"
   ]
  },
  {
   "cell_type": "code",
   "execution_count": 30,
   "metadata": {
    "collapsed": true
   },
   "outputs": [],
   "source": [
    "x = np.linspace(1, 12, 10)"
   ]
  },
  {
   "cell_type": "code",
   "execution_count": 31,
   "metadata": {},
   "outputs": [
    {
     "data": {
      "text/plain": [
       "array([  1.        ,   2.22222222,   3.44444444,   4.66666667,\n",
       "         5.88888889,   7.11111111,   8.33333333,   9.55555556,\n",
       "        10.77777778,  12.        ])"
      ]
     },
     "execution_count": 31,
     "metadata": {},
     "output_type": "execute_result"
    }
   ],
   "source": [
    "x"
   ]
  },
  {
   "cell_type": "code",
   "execution_count": 32,
   "metadata": {
    "collapsed": true
   },
   "outputs": [],
   "source": [
    "y = x[:, np.newaxis]"
   ]
  },
  {
   "cell_type": "code",
   "execution_count": 34,
   "metadata": {},
   "outputs": [
    {
     "data": {
      "text/plain": [
       "array([[  0.45464871,   0.42965923,  -0.16114161,  -0.53973765,\n",
       "         -0.20756183,   0.39794884,   0.47940705,  -0.0704582 ,\n",
       "         -0.52753818,  -0.28991158],\n",
       "       [ -1.13378103,  -1.07146346,   0.40184717,   1.3459717 ,\n",
       "          0.51760767,  -0.99238561,  -1.19552218,   0.17570525,\n",
       "          1.31554925,   0.72296753],\n",
       "       [ -2.76649342,  -2.61443483,   0.98053109,   3.28425133,\n",
       "          1.26299362,  -2.42148015,  -2.91714552,   0.4287313 ,\n",
       "          3.21001874,   1.76408394],\n",
       "       [ -0.17948278,  -0.16961762,   0.06361427,   0.21307355,\n",
       "          0.08193969,  -0.15709923,  -0.18925669,   0.02781495,\n",
       "          0.20825754,   0.11444911],\n",
       "       [  4.57509226,   4.32362517,  -1.62155462,  -5.43133511,\n",
       "         -2.08867742,   4.0045261 ,   4.82423337,  -0.70901498,\n",
       "         -5.30857286,  -2.91735621],\n",
       "       [  4.04746749,   3.82500096,  -1.43454804,  -4.80496371,\n",
       "         -1.84779967,   3.54270215,   4.26787628,  -0.62724748,\n",
       "         -4.69635908,  -2.58091067],\n",
       "       [ -3.23408181,  -3.05632252,   1.14625892,   3.83935036,\n",
       "          1.47646283,  -2.83075494,  -3.41019689,   0.5011948 ,\n",
       "          3.75257109,   2.06224664],\n",
       "       [ -7.97206133,  -7.53388195,   2.82554585,   9.4640576 ,\n",
       "          3.63950355,  -6.9778544 ,  -8.40618771,   1.23545288,\n",
       "          9.25014537,   5.08346965],\n",
       "       [ -1.95965833,  -1.85194693,   0.6945637 ,   2.32641453,\n",
       "          0.89464734,  -1.7152666 ,  -2.06637344,   0.30369379,\n",
       "          2.27383153,   1.24959696],\n",
       "       [  8.52094346,   8.05259512,  -3.0200867 , -10.11566474,\n",
       "         -3.89008598,   7.45828467,   8.98495975,  -1.32051469,\n",
       "         -9.88702449,  -5.43347017]])"
      ]
     },
     "execution_count": 34,
     "metadata": {},
     "output_type": "execute_result"
    }
   ],
   "source": [
    "y * np.sin(x)* np.cos(y)"
   ]
  },
  {
   "cell_type": "code",
   "execution_count": 38,
   "metadata": {},
   "outputs": [
    {
     "data": {
      "text/plain": [
       "array([[ 2,  4,  6],\n",
       "       [ 4,  8, 12],\n",
       "       [ 6, 12, 18]])"
      ]
     },
     "execution_count": 38,
     "metadata": {},
     "output_type": "execute_result"
    }
   ],
   "source": [
    " np.array([[1],[2],[3]])*np.array([1,2,3])*np.array([[2],[2],[2]])"
   ]
  },
  {
   "cell_type": "code",
   "execution_count": 42,
   "metadata": {},
   "outputs": [],
   "source": [
    "import sklearn"
   ]
  },
  {
   "cell_type": "code",
   "execution_count": 47,
   "metadata": {},
   "outputs": [],
   "source": [
    "from sklearn.datasets import load_iris"
   ]
  },
  {
   "cell_type": "code",
   "execution_count": 53,
   "metadata": {},
   "outputs": [],
   "source": [
    "bunch_obj = sklearn.datasets.fetch_california_housing()"
   ]
  },
  {
   "cell_type": "code",
   "execution_count": 54,
   "metadata": {},
   "outputs": [
    {
     "data": {
      "text/plain": [
       "['data', 'feature_names', 'DESCR', 'target']"
      ]
     },
     "execution_count": 54,
     "metadata": {},
     "output_type": "execute_result"
    }
   ],
   "source": [
    "bunch_obj.keys()"
   ]
  },
  {
   "cell_type": "code",
   "execution_count": 55,
   "metadata": {
    "collapsed": true
   },
   "outputs": [],
   "source": [
    "np.where?"
   ]
  },
  {
   "cell_type": "code",
   "execution_count": null,
   "metadata": {
    "collapsed": true
   },
   "outputs": [],
   "source": []
  }
 ],
 "metadata": {
  "kernelspec": {
   "display_name": "Python 2",
   "language": "python",
   "name": "python2"
  },
  "language_info": {
   "codemirror_mode": {
    "name": "ipython",
    "version": 2
   },
   "file_extension": ".py",
   "mimetype": "text/x-python",
   "name": "python",
   "nbconvert_exporter": "python",
   "pygments_lexer": "ipython2",
   "version": "2.7.13"
  }
 },
 "nbformat": 4,
 "nbformat_minor": 2
}
