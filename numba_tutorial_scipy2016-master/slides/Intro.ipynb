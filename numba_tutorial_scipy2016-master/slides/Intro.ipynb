{
 "cells": [
  {
   "cell_type": "markdown",
   "metadata": {
    "slideshow": {
     "slide_type": "slide"
    }
   },
   "source": [
    "## Numba: Tell those C++ bullies to get lost\n",
    "\n",
    "<br>\n",
    "### Gil Forsyth, Professor Lorena Barba\n",
    "#### The George Washington University\n",
    "\n",
    "\n",
    "<br><br>\n",
    "![scipylogo](./images/SciPy2016-Logo-450x120-01.25.png)"
   ]
  },
  {
   "cell_type": "markdown",
   "metadata": {
    "slideshow": {
     "slide_type": "slide"
    }
   },
   "source": [
    "## Getting started\n",
    "\n",
    "If you haven't already done so, please clone the tutorial repository and fire up a Jupyter notebook server.\n",
    "\n",
    "```console\n",
    "git clone https://github.com/barbagroup/numba_tutorial_scipy2016.git\n",
    "\n",
    "cd numba_tutorial_scipy2016\n",
    "\n",
    "jupyter notebook\n",
    "```\n",
    "\n",
    "If you've already cloned the repository, do a quick `git pull` to make sure you grab a few changes we pushed a few days ago.\n",
    "\n"
   ]
  },
  {
   "cell_type": "markdown",
   "metadata": {
    "slideshow": {
     "slide_type": "slide"
    }
   },
   "source": [
    "## A quick note on style\n",
    "\n",
    "We use\n",
    "\n",
    "```python\n",
    "import numpy\n",
    "from matplotlib import pyplot\n",
    "```\n",
    "\n",
    "not\n",
    "\n",
    "```python\n",
    "import numpy as np\n",
    "import matplotlib.pyplot as plt\n",
    "```\n",
    "\n",
    "(sorry?)  "
   ]
  },
  {
   "cell_type": "markdown",
   "metadata": {
    "slideshow": {
     "slide_type": "slide"
    }
   },
   "source": [
    "## What is Numba?\n",
    "\n",
    "a JIT compiler for Python that:\n",
    "\n",
    "* generates optimized machine code using LLVM\n",
    "* integrates well with the Scientific Python stack\n",
    "* is totally awesome"
   ]
  },
  {
   "cell_type": "markdown",
   "metadata": {
    "slideshow": {
     "slide_type": "slide"
    }
   },
   "source": [
    "## Numba is _not_:\n",
    "\n",
    "* a 'full' JIT replacement of CPython a la `Pyston`, `PyPy`, `Pyjion`, etc...\n",
    "* magical\n",
    "\n",
    "but it is specifically designed for math-heavy Python code and it works (we think) very well."
   ]
  },
  {
   "cell_type": "markdown",
   "metadata": {
    "slideshow": {
     "slide_type": "slide"
    }
   },
   "source": [
    "## Caveat\n",
    "\n",
    "YMMV.  Numba's JIT compilation produces code optimized for your particular CPU model so you may see better or worse speedups compared to thsoe around you, depending on what kind of processor you have.  "
   ]
  },
  {
   "cell_type": "markdown",
   "metadata": {
    "slideshow": {
     "slide_type": "slide"
    }
   },
   "source": [
    "## Testing\n",
    "\n",
    "You should really,_really_ write tests when using Numba.  "
   ]
  },
  {
   "cell_type": "markdown",
   "metadata": {
    "slideshow": {
     "slide_type": "slide"
    }
   },
   "source": [
    "## One last note\n",
    "We will write a lot of loops.  \n",
    "It will seem weird.\n",
    "\n",
    "(sorry)"
   ]
  },
  {
   "cell_type": "code",
   "execution_count": null,
   "metadata": {
    "collapsed": true
   },
   "outputs": [],
   "source": []
  }
 ],
 "metadata": {
  "celltoolbar": "Slideshow",
  "kernelspec": {
   "display_name": "Python 3",
   "language": "python",
   "name": "python3"
  },
  "language_info": {
   "codemirror_mode": {
    "name": "ipython",
    "version": 3
   },
   "file_extension": ".py",
   "mimetype": "text/x-python",
   "name": "python",
   "nbconvert_exporter": "python",
   "pygments_lexer": "ipython3",
   "version": "3.5.1"
  }
 },
 "nbformat": 4,
 "nbformat_minor": 0
}
