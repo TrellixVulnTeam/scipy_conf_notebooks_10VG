{
 "cells": [
  {
   "cell_type": "markdown",
   "metadata": {},
   "source": [
    "Cross-Validated Parameter Search\n",
    "------------------------------------\n",
    "\n",
    "In this section we present an open ended problem, cross-validated parameter search, and encourage students to try one of the previously mentioned techniques to parallelize it.  Any of `map`, `submit`, or collections like `spark` or `dask.bag` will work fine.\n",
    "\n",
    "\n",
    "### Requirements\n",
    "\n",
    "*  SciKit Learn\n",
    "*  A parallel computing framework of your choice\n"
   ]
  },
  {
   "cell_type": "markdown",
   "metadata": {},
   "source": [
    "### Application\n",
    "\n",
    "We use grid search to find the optimal parameters for tuning a machine learning model.  This is slightly more complex than a map so we use `submit`.  We train the support vector classifier on handwritten digits using cross validation to avoid over-fitting.\n",
    "\n",
    "As before we start with a sequential solution."
   ]
  },
  {
   "cell_type": "markdown",
   "metadata": {},
   "source": [
    "### Imports"
   ]
  },
  {
   "cell_type": "code",
   "execution_count": 11,
   "metadata": {
    "collapsed": true
   },
   "outputs": [],
   "source": [
    "from sklearn.datasets import load_digits\n",
    "from sklearn.svm import SVC\n",
    "from sklearn.model_selection import ParameterSampler\n",
    "import numpy as np\n",
    "import pandas as pd\n",
    "%matplotlib inline\n",
    "import matplotlib.pyplot as plt"
   ]
  },
  {
   "cell_type": "markdown",
   "metadata": {},
   "source": [
    "### Data"
   ]
  },
  {
   "cell_type": "code",
   "execution_count": 12,
   "metadata": {
    "scrolled": false
   },
   "outputs": [
    {
     "data": {
      "image/png": "[encoded data removed]",
      "text/plain": [
       "<matplotlib.figure.Figure at 0x7f3b2a7344d0>"
      ]
     },
     "metadata": {},
     "output_type": "display_data"
    }
   ],
   "source": [
    "digits = load_digits()  # Collect Data\n",
    "\n",
    "plt.imshow(digits.data[0].reshape(8, 8),  # Example element\n",
    "           interpolation='nearest', cmap='gray');"
   ]
  },
  {
   "cell_type": "markdown",
   "metadata": {},
   "source": [
    "### Utility functions"
   ]
  },
  {
   "cell_type": "markdown",
   "metadata": {},
   "source": [
    "We use three utility functions that we provide in the `cv_params_demo.py` module. The `load_cv_split` function splits the data into a training and test set. `evaluate_one` fits the model and scores it over the data for a particular set of tuning parameters. `plot_results` visualizes the model score over the sampled parameter space."
   ]
  },
  {
   "cell_type": "code",
   "execution_count": 13,
   "metadata": {
    "collapsed": true
   },
   "outputs": [],
   "source": [
    "from cv_params_demo import load_cv_split, evaluate_one, plot_results"
   ]
  },
  {
   "cell_type": "markdown",
   "metadata": {},
   "source": [
    "### Parameters\n",
    "\n",
    "`C`, `gamma`, and `tol` are all tunable parameters to the support-vector classifier, representing the penalty parameter of the error term, the kernel coefficient, and the stopping tolerance, respectively. Although `scikit-learn` can pick reasonable defaults for each of these, they can frequently be improved with additional knowledge of the data or by what we're doing here, randomly sampling the parameter space. We start with ten parameter samples, but can increase this after we've built our parallel solution."
   ]
  },
  {
   "cell_type": "code",
   "execution_count": 33,
   "metadata": {},
   "outputs": [
    {
     "data": {
      "text/plain": [
       "[{'C': 0.0001445439770745928, 'gamma': 1.148153621496884e-09, 'tol': 0.0001},\n",
       " {'C': 0.010471285480508985, 'gamma': 0.0013182567385564075, 'tol': 0.01},\n",
       " {'C': 1.0964781961431851e-08, 'gamma': 10000.0, 'tol': 0.01},\n",
       " {'C': 3.9810717055349694e-10, 'gamma': 33.113112148259077, 'tol': 0.01},\n",
       " {'C': 69183097.091893628, 'gamma': 4570881896.1487522, 'tol': 0.001},\n",
       " {'C': 104712.85480508985, 'gamma': 1.9952623149688828e-10, 'tol': 0.0001},\n",
       " {'C': 602559586.0743593, 'gamma': 2290867.65276777, 'tol': 0.001},\n",
       " {'C': 4570881896.1487522,\n",
       "  'gamma': 0.1148153621496884,\n",
       "  'tol': 0.10000000000000001},\n",
       " {'C': 1148153621.4968793,\n",
       "  'gamma': 5495408738.5762711,\n",
       "  'tol': 0.10000000000000001},\n",
       " {'C': 0.79432823472428216, 'gamma': 100000000.0, 'tol': 0.001},\n",
       " {'C': 0.008709635899560815, 'gamma': 2.7542287033381632e-10, 'tol': 0.001},\n",
       " {'C': 0.87096358995607959,\n",
       "  'gamma': 5.0118723362727147e-09,\n",
       "  'tol': 0.10000000000000001},\n",
       " {'C': 1.148153621496884e-06,\n",
       "  'gamma': 331131121.48259079,\n",
       "  'tol': 0.10000000000000001},\n",
       " {'C': 0.038018939632056124, 'gamma': 6918309709.1893625, 'tol': 0.01},\n",
       " {'C': 120226443.46174181, 'gamma': 0.38018939632056126, 'tol': 0.0001},\n",
       " {'C': 151356124.84362072,\n",
       "  'gamma': 2884031.5031266115,\n",
       "  'tol': 0.10000000000000001},\n",
       " {'C': 60.255958607435687, 'gamma': 7.5857757502918357e-07, 'tol': 0.01},\n",
       " {'C': 2.6302679918953816e-09, 'gamma': 151356124.84362072, 'tol': 0.0001},\n",
       " {'C': 2.089296130854041e-10, 'gamma': 83176.377110267087, 'tol': 0.001},\n",
       " {'C': 3.0199517204020194e-08,\n",
       "  'gamma': 8.3176377110267087e-08,\n",
       "  'tol': 0.10000000000000001},\n",
       " {'C': 4786300.9232263807,\n",
       "  'gamma': 0.41686938347033636,\n",
       "  'tol': 0.10000000000000001},\n",
       " {'C': 2.8840315031266056e-05, 'gamma': 8.7096358995607963e-10, 'tol': 0.0001},\n",
       " {'C': 0.054954087385762483, 'gamma': 1148153621.4968793, 'tol': 0.01},\n",
       " {'C': 10471285.480508985,\n",
       "  'gamma': 3.4673685045253164e-08,\n",
       "  'tol': 0.10000000000000001},\n",
       " {'C': 5.7543993733715667e-06, 'gamma': 724.43596007498911, 'tol': 0.0001},\n",
       " {'C': 91.201083935591157, 'gamma': 0.00010964781961431851, 'tol': 0.01},\n",
       " {'C': 208929.6130854041, 'gamma': 0.01995262314968883, 'tol': 0.01},\n",
       " {'C': 7585.7757502918512, 'gamma': 0.00023988329190194899, 'tol': 0.001},\n",
       " {'C': 1659586.9074375562, 'gamma': 8709.635899560797, 'tol': 0.001},\n",
       " {'C': 5011872.3362727147, 'gamma': 0.027542287033381633, 'tol': 0.0001},\n",
       " {'C': 0.00069183097091893623,\n",
       "  'gamma': 9549925.8602143694,\n",
       "  'tol': 0.10000000000000001},\n",
       " {'C': 398107.17055349692, 'gamma': 50.118723362727351, 'tol': 0.01},\n",
       " {'C': 43.651583224016655, 'gamma': 3.4673685045253168e-05, 'tol': 0.0001},\n",
       " {'C': 0.00022908676527677748,\n",
       "  'gamma': 501187233.62727147,\n",
       "  'tol': 0.10000000000000001},\n",
       " {'C': 4786300923.2263803, 'gamma': 0.00023988329190194899, 'tol': 0.0001},\n",
       " {'C': 2.5118864315095821e-08, 'gamma': 1.0964781961431852e-07, 'tol': 0.01},\n",
       " {'C': 8.3176377110267087e-07,\n",
       "  'gamma': 12.589254117941662,\n",
       "  'tol': 0.10000000000000001},\n",
       " {'C': 0.00019952623149688788,\n",
       "  'gamma': 436.51583224016656,\n",
       "  'tol': 0.10000000000000001},\n",
       " {'C': 181970085.86099899,\n",
       "  'gamma': 83.176377110267083,\n",
       "  'tol': 0.10000000000000001},\n",
       " {'C': 1148153621.4968793, 'gamma': 13.803842646028867, 'tol': 0.0001},\n",
       " {'C': 0.10000000000000001, 'gamma': 7.2443596007499058e-06, 'tol': 0.0001},\n",
       " {'C': 63.095734448019428, 'gamma': 6918.3097091893624, 'tol': 0.0001},\n",
       " {'C': 0.00021877616239495518, 'gamma': 0.00052480746024977229, 'tol': 0.0001},\n",
       " {'C': 870963589.95608318, 'gamma': 181.97008586099827, 'tol': 0.001},\n",
       " {'C': 0.01148153621496884, 'gamma': 0.63095734448019425, 'tol': 0.001},\n",
       " {'C': 33113112.148259077, 'gamma': 31.622776601683793, 'tol': 0.0001},\n",
       " {'C': 2398.832919019495, 'gamma': 7244359600.7498913, 'tol': 0.001},\n",
       " {'C': 2.8840315031266117e-10, 'gamma': 5248074.6024977118, 'tol': 0.01},\n",
       " {'C': 1.0471285480508985, 'gamma': 6606934.4800759647, 'tol': 0.01},\n",
       " {'C': 1000.0, 'gamma': 1258.9254117941662, 'tol': 0.0001},\n",
       " {'C': 6.9183097091893624e-08, 'gamma': 301.99517204020191, 'tol': 0.01},\n",
       " {'C': 1148153.6214968793, 'gamma': 1.202264434617413e-08, 'tol': 0.0001},\n",
       " {'C': 416869.38347033638,\n",
       "  'gamma': 1905.4607179632521,\n",
       "  'tol': 0.10000000000000001},\n",
       " {'C': 6.9183097091893624e-08, 'gamma': 7.2443596007498912e-10, 'tol': 0.001},\n",
       " {'C': 114815.3621496884, 'gamma': 8.3176377110267087e-09, 'tol': 0.0001},\n",
       " {'C': 3311311214.8259077,\n",
       "  'gamma': 3.1622776601683795e-05,\n",
       "  'tol': 0.10000000000000001},\n",
       " {'C': 4.7863009232263802e-09, 'gamma': 4365158.3224016652, 'tol': 0.001},\n",
       " {'C': 1.6595869074375631e-09, 'gamma': 691.83097091893626, 'tol': 0.01},\n",
       " {'C': 1.2589254117941662e-10, 'gamma': 5.7543993733715669e-09, 'tol': 0.01},\n",
       " {'C': 5011872336.2727146, 'gamma': 3019951.7204020191, 'tol': 0.01},\n",
       " {'C': 57543993.733715899, 'gamma': 190546.07179632521, 'tol': 0.01},\n",
       " {'C': 0.00026302679918953814, 'gamma': 54954.087385762483, 'tol': 0.01},\n",
       " {'C': 4.5708818961487517e-09,\n",
       "  'gamma': 173.78008287493762,\n",
       "  'tol': 0.10000000000000001},\n",
       " {'C': 4.7863009232263802e-08, 'gamma': 7585775750.2918205, 'tol': 0.001},\n",
       " {'C': 1.0964781961431829e-10, 'gamma': 4.5708818961487516, 'tol': 0.001},\n",
       " {'C': 0.00057543993733715664, 'gamma': 9.1201083935590964e-05, 'tol': 0.0001},\n",
       " {'C': 1659.586907437563, 'gamma': 60255958.607435934, 'tol': 0.01},\n",
       " {'C': 6.3095734448019293e-05, 'gamma': 15135612.484362071, 'tol': 0.01},\n",
       " {'C': 0.00018197008586099826,\n",
       "  'gamma': 3.6307805477010175e-06,\n",
       "  'tol': 0.10000000000000001},\n",
       " {'C': 870963.58995607961,\n",
       "  'gamma': 31.622776601683793,\n",
       "  'tol': 0.10000000000000001},\n",
       " {'C': 0.12589254117941662, 'gamma': 870963.58995607961, 'tol': 0.01},\n",
       " {'C': 26.302679918953814,\n",
       "  'gamma': 4.5708818961487517e-10,\n",
       "  'tol': 0.10000000000000001},\n",
       " {'C': 8.7096358995608137e-05, 'gamma': 630957344.48019433, 'tol': 0.01},\n",
       " {'C': 3.1622776601683792e-08, 'gamma': 131825673.85564101, 'tol': 0.01},\n",
       " {'C': 2.1877616239495518e-08,\n",
       "  'gamma': 4.5708818961487516e-05,\n",
       "  'tol': 0.10000000000000001},\n",
       " {'C': 1148153.6214968793, 'gamma': 27.542287033381633, 'tol': 0.001},\n",
       " {'C': 1995.2623149688829, 'gamma': 0.00072443596007499059, 'tol': 0.0001},\n",
       " {'C': 1.8197008586099825e-10, 'gamma': 0.66069344800759644, 'tol': 0.01},\n",
       " {'C': 104.71285480508985, 'gamma': 0.083176377110267083, 'tol': 0.0001},\n",
       " {'C': 72443.596007498913, 'gamma': 1.445439770745928e-09, 'tol': 0.0001},\n",
       " {'C': 0.21877616239495518, 'gamma': 0.0052480746024977229, 'tol': 0.0001},\n",
       " {'C': 4.3651583224016652e-07, 'gamma': 10964781.961431829, 'tol': 0.001},\n",
       " {'C': 0.001148153621496884, 'gamma': 1.8197008586099825, 'tol': 0.001},\n",
       " {'C': 0.030199517204020192, 'gamma': 380189396.32056284, 'tol': 0.01},\n",
       " {'C': 2.6302679918953814e-08, 'gamma': 1.3182567385564074e-06, 'tol': 0.0001},\n",
       " {'C': 23.988329190194946, 'gamma': 0.01148153621496884, 'tol': 0.01},\n",
       " {'C': 0.26302679918953814, 'gamma': 18.197008586099827, 'tol': 0.0001},\n",
       " {'C': 7.5857757502918505e-09, 'gamma': 0.12589254117941662, 'tol': 0.0001},\n",
       " {'C': 79432.823472428208, 'gamma': 0.0026302679918953813, 'tol': 0.001},\n",
       " {'C': 549540873.85762703, 'gamma': 0.00016595869074375596, 'tol': 0.0001},\n",
       " {'C': 26.302679918953814,\n",
       "  'gamma': 0.0072443596007499061,\n",
       "  'tol': 0.10000000000000001},\n",
       " {'C': 954992586.02143693, 'gamma': 22908.676527677701, 'tol': 0.0001},\n",
       " {'C': 4.7863009232263805, 'gamma': 3.981071705534969e-08, 'tol': 0.01},\n",
       " {'C': 0.00030199517204020191, 'gamma': 69.183097091893629, 'tol': 0.01},\n",
       " {'C': 1096.4781961431872, 'gamma': 11481.536214968841, 'tol': 0.0001},\n",
       " {'C': 4.5708818961487518e-06, 'gamma': 1.9054607179632444e-09, 'tol': 0.0001},\n",
       " {'C': 575.43993733715661,\n",
       "  'gamma': 4.1686938347033635,\n",
       "  'tol': 0.10000000000000001},\n",
       " {'C': 2.1877616239495519e-07,\n",
       "  'gamma': 1.5848931924611174,\n",
       "  'tol': 0.10000000000000001},\n",
       " {'C': 0.00054954087385762477,\n",
       "  'gamma': 91201.083935591159,\n",
       "  'tol': 0.10000000000000001},\n",
       " {'C': 3.8018939632056128e-06, 'gamma': 0.0060255958607435805, 'tol': 0.01}]"
      ]
     },
     "execution_count": 33,
     "metadata": {},
     "output_type": "execute_result"
    }
   ],
   "source": [
    "param_grid = {\n",
    "    'C': np.logspace(-10, 10, 1001),\n",
    "    'gamma': np.logspace(-10, 10, 1001),\n",
    "    'tol': np.logspace(-4, -1, 4),\n",
    "}\n",
    "\n",
    "param_samples = ParameterSampler(param_grid, 100)\n",
    "\n",
    "list(param_samples)"
   ]
  },
  {
   "cell_type": "markdown",
   "metadata": {},
   "source": [
    "### Split data for cross-validation\n",
    "\n",
    "For now, we'll only build two randomly-chosen splits of the data for training and testing. We can increase this number after we've built our parallel solution."
   ]
  },
  {
   "cell_type": "code",
   "execution_count": 34,
   "metadata": {},
   "outputs": [
    {
     "data": {
      "text/plain": [
       "(array([[  0.,   0.,   0., ...,  16.,  16.,   6.],\n",
       "        [  0.,   3.,  12., ...,  16.,   2.,   0.],\n",
       "        [  0.,   1.,  10., ...,   0.,   0.,   0.],\n",
       "        ..., \n",
       "        [  0.,   0.,   5., ...,   0.,   0.,   0.],\n",
       "        [  0.,   0.,   4., ...,   0.,   0.,   0.],\n",
       "        [  0.,   0.,   6., ...,  11.,   0.,   0.]]),\n",
       " array([6, 5, 3, ..., 7, 7, 8]))"
      ]
     },
     "execution_count": 34,
     "metadata": {},
     "output_type": "execute_result"
    }
   ],
   "source": [
    "from cv_params_demo import load_cv_split\n",
    "\n",
    "cv_splits = [load_cv_split(i) for i in range(2)]\n",
    "idx, (x_train, x_test, y_train, y_test) = cv_splits[0]\n",
    "x_train, y_train"
   ]
  },
  {
   "cell_type": "markdown",
   "metadata": {},
   "source": [
    "### Sequential cross validated parameter search\n",
    "\n",
    "The below code sequentially loops over the randomly created data splits and parameter samples to create a list of scored samples over the parameter space."
   ]
  },
  {
   "cell_type": "code",
   "execution_count": 35,
   "metadata": {
    "scrolled": true
   },
   "outputs": [
    {
     "name": "stdout",
     "output_type": "stream",
     "text": [
      "CPU times: user 5min 26s, sys: 35.7 ms, total: 5min 26s\n",
      "Wall time: 5min 27s\n"
     ]
    }
   ],
   "source": [
    "%%time\n",
    "\n",
    "results = []\n",
    "\n",
    "for split in cv_splits:\n",
    "    for params in param_samples:\n",
    "        result = evaluate_one(SVC, params, split)\n",
    "        results.append(result)\n",
    "#print(results)"
   ]
  },
  {
   "cell_type": "code",
   "execution_count": 36,
   "metadata": {},
   "outputs": [
    {
     "name": "stdout",
     "output_type": "stream",
     "text": [
      "CPU times: user 596 ms, sys: 589 ms, total: 1.19 s\n",
      "Wall time: 1min 30s\n"
     ]
    }
   ],
   "source": [
    "%%time\n",
    "\n",
    "from concurrent.futures import ProcessPoolExecutor\n",
    "pool = ProcessPoolExecutor()\n",
    "futures = []\n",
    "\n",
    "for split in cv_splits:\n",
    "    for params in param_samples:\n",
    "        futures.append(pool.submit(evaluate_one,SVC, params, split))\n",
    "        \n",
    "results = [future.result() for future in futures]\n",
    "#print(results)"
   ]
  },
  {
   "cell_type": "code",
   "execution_count": 38,
   "metadata": {},
   "outputs": [
    {
     "name": "stdout",
     "output_type": "stream",
     "text": [
      "CPU times: user 61.5 ms, sys: 12.1 ms, total: 73.6 ms\n",
      "Wall time: 2min 1s\n"
     ]
    }
   ],
   "source": [
    "%%time\n",
    "\n",
    "#import pyspark\n",
    "#sc = pyspark.SparkContext('local[4]')\n",
    "\n",
    "rdd = sc.parallelize(cv_splits)\n",
    "rdd2 = sc.parallelize(param_samples)\n",
    "rdd.cartesian(rdd2).map(lambda params: evaluate_one(SVC,params[1],params[0])).collect()\n",
    "#rdd_out = rdd.cartesian(param_samples).collect()#.map(lambda params: evaluate_one(SVC,params[1],params[0])).collect()"
   ]
  },
  {
   "cell_type": "markdown",
   "metadata": {},
   "source": [
    "### Plot results\n",
    "\n",
    "Which region of the parameter space is scoring well (higher is better)?  Are the number of samples we've computed sufficient to completely tune the model?  \n",
    "\n",
    "Searching over more parameters would help to improve the intuition we can gain here."
   ]
  },
  {
   "cell_type": "code",
   "execution_count": 31,
   "metadata": {},
   "outputs": [
    {
     "data": {
      "image/png": "[encoded data removed]",
      "text/plain": [
       "<matplotlib.figure.Figure at 0x7f3b2824d8d0>"
      ]
     },
     "metadata": {},
     "output_type": "display_data"
    }
   ],
   "source": [
    "from cv_params_demo import plot_results\n",
    "\n",
    "plot_results(results)"
   ]
  },
  {
   "cell_type": "markdown",
   "metadata": {},
   "source": [
    "### Exercise: Parallel cross validated parameter search\n",
    "\n",
    "Try using some of the techniques we've used before (or other techniques altogether) to parallelize the above computation.  \n",
    "\n",
    "Afterwards, increase the number of parameters to help improve our understanding of the image."
   ]
  },
  {
   "cell_type": "code",
   "execution_count": 32,
   "metadata": {
    "collapsed": true
   },
   "outputs": [],
   "source": [
    "cv_splits = [load_cv_split(i) for i in range(2)]  # Increase the number 2 after parallel computation acheived\n",
    "param_samples = ParameterSampler(param_grid, 10)    # Increase the number 10 after parallel computation acheived"
   ]
  },
  {
   "cell_type": "code",
   "execution_count": null,
   "metadata": {
    "collapsed": true
   },
   "outputs": [],
   "source": [
    "# TODO: compute results in parallel"
   ]
  },
  {
   "cell_type": "code",
   "execution_count": null,
   "metadata": {
    "collapsed": true
   },
   "outputs": [],
   "source": [
    "plot_results(results)"
   ]
  },
  {
   "cell_type": "code",
   "execution_count": null,
   "metadata": {
    "collapsed": true
   },
   "outputs": [],
   "source": [
    "# %load solutions/cvgs-1.py\n",
    "from concurrent.futures import ThreadPoolExecutor\n",
    "e = ThreadPoolExecutor()\n",
    "\n",
    "futures = []\n",
    "\n",
    "parameters = list(param_samples)\n",
    "\n",
    "for split in cv_splits:\n",
    "    for params in parameters:\n",
    "        future = e.submit(evaluate_one, SVC, params, split)\n",
    "        futures.append(future)\n",
    "\n",
    "results = [f.result() for f in futures]\n"
   ]
  },
  {
   "cell_type": "code",
   "execution_count": null,
   "metadata": {
    "collapsed": true
   },
   "outputs": [],
   "source": [
    "plot_results(results)"
   ]
  },
  {
   "cell_type": "code",
   "execution_count": null,
   "metadata": {
    "collapsed": true
   },
   "outputs": [],
   "source": [
    "# %load solutions/cvgs-2.py\n",
    "from pyspark import SparkContext\n",
    "sc = SparkContext('local[4]')\n",
    "\n",
    "cv_rdd = sc.parallelize(cv_splits)\n",
    "param_rdd = sc.parallelize(list(param_samples))\n",
    "\n",
    "rdd = param_rdd.cartesian(cv_rdd)\n",
    "results = rdd.map(lambda tup: evaluate_one(SVC, tup[0], tup[1]))\n",
    "\n",
    "results = results.collect()\n"
   ]
  },
  {
   "cell_type": "code",
   "execution_count": null,
   "metadata": {
    "collapsed": true
   },
   "outputs": [],
   "source": [
    "plot_results(results)"
   ]
  }
 ],
 "metadata": {
  "kernelspec": {
   "display_name": "Python 2",
   "language": "python",
   "name": "python2"
  },
  "language_info": {
   "codemirror_mode": {
    "name": "ipython",
    "version": 2
   },
   "file_extension": ".py",
   "mimetype": "text/x-python",
   "name": "python",
   "nbconvert_exporter": "python",
   "pygments_lexer": "ipython2",
   "version": "2.7.13"
  }
 },
 "nbformat": 4,
 "nbformat_minor": 1
}
