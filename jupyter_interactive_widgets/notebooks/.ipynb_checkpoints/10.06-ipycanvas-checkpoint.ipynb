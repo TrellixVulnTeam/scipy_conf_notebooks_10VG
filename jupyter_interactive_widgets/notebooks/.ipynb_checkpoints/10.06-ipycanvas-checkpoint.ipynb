{
 "cells": [
  {
   "cell_type": "markdown",
   "metadata": {},
   "source": [
    "# ipycanvas: Interactive Canvas\n",
    "\n",
    "## https://github.com/martinRenou/ipycanvas\n",
    "\n",
    "Interactive widgets library exposing the browser's Canvas API\n",
    "\n",
    "- BSD 3-Clause Licensed\n",
    "\n",
    "**Installation:**\n",
    "\n",
    "ipycanvas was released just a couple of days ago, so it was not included in the install instructions for the tutorial.\n",
    "\n",
    "```bash\n",
    "pip install ipycanvas\n",
    "\n",
    "# If using JupyterLab\n",
    "jupyter labextension install ipycanvas\n",
    "```"
   ]
  },
  {
   "cell_type": "code",
   "execution_count": 19,
   "metadata": {},
   "outputs": [],
   "source": [
    "from math import pi\n",
    "\n",
    "import ipycanvas"
   ]
  },
  {
   "cell_type": "code",
   "execution_count": 20,
   "metadata": {},
   "outputs": [
    {
     "data": {
      "application/vnd.jupyter.widget-view+json": {
       "model_id": "8b3cffbb528a4b6ea72d03057ac23207",
       "version_major": 2,
       "version_minor": 0
      },
      "text/plain": [
       "Canvas(layout=Layout(height='200px', width='200px'), size=(200, 200))"
      ]
     },
     "metadata": {},
     "output_type": "display_data"
    }
   ],
   "source": [
    "c = ipycanvas.Canvas(size=(200, 200))\n",
    "\n",
    "c"
   ]
  },
  {
   "cell_type": "code",
   "execution_count": 21,
   "metadata": {},
   "outputs": [],
   "source": [
    "# Draw simple triangle shape\n",
    "c.begin_path()\n",
    "c.move_to(75, 50)\n",
    "c.line_to(100, 75)\n",
    "c.line_to(100, 25)\n",
    "c.fill()"
   ]
  },
  {
   "cell_type": "code",
   "execution_count": 22,
   "metadata": {},
   "outputs": [
    {
     "data": {
      "application/vnd.jupyter.widget-view+json": {
       "model_id": "fe5affba261d4b1b9fff7f70713d258a",
       "version_major": 2,
       "version_minor": 0
      },
      "text/plain": [
       "Canvas(layout=Layout(height='200px', width='200px'), size=(200, 200))"
      ]
     },
     "metadata": {},
     "output_type": "display_data"
    }
   ],
   "source": [
    "c = ipycanvas.Canvas(stroke_style='red', size=(200, 200))\n",
    "\n",
    "# Draw smiley face\n",
    "c.begin_path()\n",
    "c.arc(75, 75, 50, 0, pi * 2, True) # Outer circle\n",
    "c.move_to(110, 75)\n",
    "c.arc(75, 75, 35, 0, pi, False) # Mouth (clockwise)\n",
    "c.move_to(65, 65)\n",
    "c.arc(60, 65, 5, 0, pi * 2, True) # Left eye\n",
    "c.move_to(95, 65)\n",
    "c.arc(90, 65, 5, 0, pi * 2, True) # Right eye\n",
    "c.stroke()\n",
    "\n",
    "c"
   ]
  },
  {
   "cell_type": "code",
   "execution_count": 23,
   "metadata": {},
   "outputs": [
    {
     "data": {
      "application/vnd.jupyter.widget-view+json": {
       "model_id": "fe5affba261d4b1b9fff7f70713d258a",
       "version_major": 2,
       "version_minor": 0
      },
      "text/plain": [
       "Canvas(layout=Layout(height='200px', width='200px'), size=(200, 200))"
      ]
     },
     "metadata": {},
     "output_type": "display_data"
    }
   ],
   "source": [
    "c"
   ]
  },
  {
   "cell_type": "code",
   "execution_count": 24,
   "metadata": {},
   "outputs": [
    {
     "data": {
      "application/vnd.jupyter.widget-view+json": {
       "model_id": "014c98d9d49343f186bba140593ea540",
       "version_major": 2,
       "version_minor": 0
      },
      "text/plain": [
       "Canvas(layout=Layout(height='200px', width='200px'), size=(200, 200))"
      ]
     },
     "metadata": {},
     "output_type": "display_data"
    }
   ],
   "source": [
    "c = ipycanvas.Canvas(size=(200, 200))\n",
    "\n",
    "# Draw bubble\n",
    "c.begin_path()\n",
    "c.move_to(75, 25)\n",
    "c.quadratic_curve_to(25, 25, 25, 62.5)\n",
    "c.quadratic_curve_to(25, 100, 50, 100)\n",
    "c.quadratic_curve_to(50, 120, 30, 125)\n",
    "c.quadratic_curve_to(60, 120, 65, 100)\n",
    "c.quadratic_curve_to(125, 100, 125, 62.5)\n",
    "c.quadratic_curve_to(125, 25, 75, 25)\n",
    "c.stroke()\n",
    "\n",
    "c"
   ]
  },
  {
   "cell_type": "code",
   "execution_count": 25,
   "metadata": {},
   "outputs": [],
   "source": [
    "def rounded_rect(c, x, y, width, height, radius):\n",
    "    c.begin_path()\n",
    "    c.move_to(x, y + radius)\n",
    "    c.line_to(x, y + height - radius)\n",
    "    c.arc_to(x, y + height, x + radius, y + height, radius)\n",
    "    c.line_to(x + width - radius, y + height)\n",
    "    c.arc_to(x + width, y + height, x + width, y + height - radius, radius)\n",
    "    c.line_to(x + width, y + radius)\n",
    "    c.arc_to(x + width, y, x + width - radius, y, radius)\n",
    "    c.line_to(x + radius, y)\n",
    "    c.arc_to(x, y, x, y + radius, radius)\n",
    "    c.stroke()"
   ]
  },
  {
   "cell_type": "code",
   "execution_count": 26,
   "metadata": {},
   "outputs": [
    {
     "data": {
      "application/vnd.jupyter.widget-view+json": {
       "model_id": "eb8a0134af544e6eb218c8dd768998c5",
       "version_major": 2,
       "version_minor": 0
      },
      "text/plain": [
       "Canvas(layout=Layout(height='150px', width='150px'), size=(150, 150))"
      ]
     },
     "metadata": {},
     "output_type": "display_data"
    }
   ],
   "source": [
    "c = ipycanvas.Canvas(size=(150, 150))\n",
    "\n",
    "rounded_rect(c, 12, 12, 150, 150, 15)\n",
    "rounded_rect(c, 19, 19, 150, 150, 9)\n",
    "rounded_rect(c, 53, 53, 49, 33, 10)\n",
    "rounded_rect(c, 53, 119, 49, 16, 6)\n",
    "rounded_rect(c, 135, 53, 49, 33, 10)\n",
    "rounded_rect(c, 135, 119, 25, 49, 10)\n",
    "\n",
    "c.begin_path()\n",
    "c.arc(37, 37, 13, pi / 7, -pi / 7, False)\n",
    "c.line_to(31, 37)\n",
    "c.fill()\n",
    "\n",
    "for i in range(8):\n",
    "    c.fill_rect(51 + i * 16, 35, 4, 4)\n",
    "\n",
    "for i in range(6):\n",
    "    c.fill_rect(115, 51 + i * 16, 4, 4)\n",
    "\n",
    "for i in range(8):\n",
    "    c.fill_rect(51 + i * 16, 99, 4, 4)\n",
    "\n",
    "c.begin_path()\n",
    "c.move_to(83, 116)\n",
    "c.line_to(83, 102)\n",
    "c.bezier_curve_to(83, 94, 89, 88, 97, 88)\n",
    "c.bezier_curve_to(105, 88, 111, 94, 111, 102)\n",
    "c.line_to(111, 116)\n",
    "c.line_to(106.333, 111.333)\n",
    "c.line_to(101.666, 116)\n",
    "c.line_to(97, 111.333)\n",
    "c.line_to(92.333, 116)\n",
    "c.line_to(87.666, 111.333)\n",
    "c.line_to(83, 116)\n",
    "c.fill()\n",
    "\n",
    "c.fill_style = 'white'\n",
    "c.begin_path()\n",
    "c.move_to(91, 96)\n",
    "c.bezier_curve_to(88, 96, 87, 99, 87, 101)\n",
    "c.bezier_curve_to(87, 103, 88, 106, 91, 106)\n",
    "c.bezier_curve_to(94, 106, 95, 103, 95, 101)\n",
    "c.bezier_curve_to(95, 99, 94, 96, 91, 96)\n",
    "c.move_to(103, 96)\n",
    "c.bezier_curve_to(100, 96, 99, 99, 99, 101)\n",
    "c.bezier_curve_to(99, 103, 100, 106, 103, 106)\n",
    "c.bezier_curve_to(106, 106, 107, 103, 107, 101)\n",
    "c.bezier_curve_to(107, 99, 106, 96, 103, 96)\n",
    "c.fill()\n",
    "\n",
    "c.fill_style = 'black'\n",
    "c.begin_path()\n",
    "c.arc(101, 102, 2, 0, pi * 2, True)\n",
    "c.fill()\n",
    "\n",
    "c.begin_path()\n",
    "c.arc(89, 102, 2, 0, pi * 2, True)\n",
    "c.fill()\n",
    "\n",
    "c"
   ]
  },
  {
   "cell_type": "code",
   "execution_count": 27,
   "metadata": {},
   "outputs": [
    {
     "data": {
      "application/vnd.jupyter.widget-view+json": {
       "model_id": "364e1cde0d46493684830e359db31cb1",
       "version_major": 2,
       "version_minor": 0
      },
      "text/plain": [
       "Canvas(layout=Layout(height='150px', width='150px'), size=(150, 150))"
      ]
     },
     "metadata": {},
     "output_type": "display_data"
    }
   ],
   "source": [
    "c = ipycanvas.Canvas(size=(150, 150))\n",
    "\n",
    "# Draw background\n",
    "c.fill_style = '#FD0'\n",
    "c.fill_rect(0, 0, 75, 75)\n",
    "c.fill_style = '#6C0'\n",
    "c.fill_rect(75, 0, 75, 75)\n",
    "c.fill_style = '#09F'\n",
    "c.fill_rect(0, 75, 75, 75)\n",
    "c.fill_style = '#F30'\n",
    "c.fill_rect(75, 75, 75, 75)\n",
    "c.fill_style = '#FFF'\n",
    "\n",
    "# Set transparency value\n",
    "c.global_alpha = 0.2;\n",
    "\n",
    "# Draw semi transparent circles\n",
    "for i in range(7):\n",
    "    c.begin_path();\n",
    "    c.arc(75, 75, 10 + 10 * i, 0, pi * 2, True);\n",
    "    c.fill();\n",
    "\n",
    "c"
   ]
  },
  {
   "cell_type": "code",
   "execution_count": 28,
   "metadata": {},
   "outputs": [
    {
     "data": {
      "application/vnd.jupyter.widget-view+json": {
       "model_id": "846f193850a049f3a2a6d7aef370cd90",
       "version_major": 2,
       "version_minor": 0
      },
      "text/plain": [
       "MultiCanvas(layout=Layout(height='200px', width='200px'), size=(200, 200))"
      ]
     },
     "metadata": {},
     "output_type": "display_data"
    }
   ],
   "source": [
    "from ipycanvas import MultiCanvas\n",
    "\n",
    "# Create a multi-layer canvas with 4 layers\n",
    "multi_canvas = MultiCanvas(4, size=(200, 200))\n",
    "multi_canvas[0] #  Access first layer (background)\n",
    "multi_canvas[3] #  Access last layer\n",
    "multi_canvas"
   ]
  },
  {
   "cell_type": "code",
   "execution_count": 29,
   "metadata": {},
   "outputs": [
    {
     "data": {
      "application/vnd.jupyter.widget-view+json": {
       "model_id": "001bbf0439854ae8b488c99a12b129c3",
       "version_major": 2,
       "version_minor": 0
      },
      "text/plain": [
       "Canvas(layout=Layout(height='500px', width='800px'), size=(800, 500))"
      ]
     },
     "metadata": {},
     "output_type": "display_data"
    }
   ],
   "source": [
    "import numpy as np\n",
    "\n",
    "from ipycanvas import Canvas\n",
    "\n",
    "n_particles = 100_000\n",
    "\n",
    "x = np.array(np.random.rayleigh(250, n_particles), dtype=np.int32)\n",
    "y = np.array(np.random.rayleigh(250, n_particles), dtype=np.int32)\n",
    "size = np.random.randint(1, 3, n_particles)\n",
    "\n",
    "canvas = Canvas(size=(800, 500))\n",
    "\n",
    "canvas.fill_style = 'green'\n",
    "canvas.fill_rects(x, y, size)\n",
    "\n",
    "canvas"
   ]
  },
  {
   "cell_type": "code",
   "execution_count": 50,
   "metadata": {},
   "outputs": [
    {
     "data": {
      "application/vnd.jupyter.widget-view+json": {
       "model_id": "0f110a3ec1244cfeb23e9938d3c81e5b",
       "version_major": 2,
       "version_minor": 0
      },
      "text/plain": [
       "Canvas(layout=Layout(height='50px', width='400px'), size=(400, 50))"
      ]
     },
     "metadata": {},
     "output_type": "display_data"
    }
   ],
   "source": [
    "canvas = Canvas(size=(400, 50))\n",
    "\n",
    "canvas.font = '32px sans-sherif'\n",
    "canvas.fill_style = 'red'\n",
    "#canvas.stroke_style = 'red'\n",
    "#canvas.shadow_color = 'yellow'\n",
    "canvas.fill_text('Drawing from Python is cool!', 10, 32)\n",
    "canvas"
   ]
  },
  {
   "cell_type": "code",
   "execution_count": 32,
   "metadata": {},
   "outputs": [
    {
     "data": {
      "application/vnd.jupyter.widget-view+json": {
       "model_id": "a37e88d1e69e4e799478d73bd11a06f6",
       "version_major": 2,
       "version_minor": 0
      },
      "text/plain": [
       "Canvas(layout=Layout(height='50px', width='400px'), size=(400, 50))"
      ]
     },
     "metadata": {},
     "output_type": "display_data"
    }
   ],
   "source": [
    "canvas = Canvas(size=(400, 50))\n",
    "\n",
    "canvas.font = '32px serif'\n",
    "\n",
    "canvas.stroke_text('Hello There!', 10, 32)\n",
    "canvas"
   ]
  },
  {
   "cell_type": "code",
   "execution_count": 45,
   "metadata": {},
   "outputs": [
    {
     "data": {
      "application/vnd.jupyter.widget-view+json": {
       "model_id": "6a7c85e879834661a474093fe239e338",
       "version_major": 2,
       "version_minor": 0
      },
      "text/plain": [
       "Canvas(layout=Layout(height='50px', width='400px'), size=(400, 50))"
      ]
     },
     "metadata": {},
     "output_type": "display_data"
    }
   ],
   "source": [
    "canvas = Canvas(size=(400, 50))\n",
    "\n",
    "canvas.font = '32px serif'\n",
    "#canvas.fill_style = 'yellow'\n",
    "canvas.stroke_style = 'red'\n",
    "#canvas.shadow_color = 'yellow'\n",
    "canvas.stroke_text('Hello There!', 10, 32)\n",
    "canvas"
   ]
  },
  {
   "cell_type": "code",
   "execution_count": 64,
   "metadata": {},
   "outputs": [
    {
     "data": {
      "application/vnd.jupyter.widget-view+json": {
       "model_id": "965621f7f89c4c40b0f93990d91fdd80",
       "version_major": 2,
       "version_minor": 0
      },
      "text/plain": [
       "Canvas(layout=Layout(height='500px', width='500px'), size=(500, 500))"
      ]
     },
     "metadata": {},
     "output_type": "display_data"
    }
   ],
   "source": [
    "from ipywidgets import Image\n",
    "\n",
    "from ipycanvas import Canvas\n",
    "\n",
    "sprite1 = Image.from_file('1_sunny.jpg')\n",
    "sprite2 = Image.from_file('1_sunny.jpg')\n",
    "\n",
    "canvas = Canvas(size=(500, 500))\n",
    "\n",
    "canvas.fill_style = '#a9cafc'\n",
    "canvas.fill_rect(0, 0, 500, 500)\n",
    "\n",
    "for i in range(1,15):\n",
    "    canvas.draw_image(sprite1, i*10 + 50, i*10 + 50)\n",
    "\n",
    "canvas"
   ]
  },
  {
   "cell_type": "code",
   "execution_count": 61,
   "metadata": {},
   "outputs": [
    {
     "data": {
      "application/vnd.jupyter.widget-view+json": {
       "model_id": "b12cd32165974a0c8376684cbdf0518f",
       "version_major": 2,
       "version_minor": 0
      },
      "text/plain": [
       "Image(value=b'\\xff\\xd8\\xff\\xdb\\x00\\x84\\x00\\x03\\x02\\x02\\x03\\x02\\x02\\x03\\x03\\x03\\x03\\x04\\x03\\x03\\x04\\x05\\x08\\x05…"
      ]
     },
     "metadata": {},
     "output_type": "display_data"
    }
   ],
   "source": [
    "sprite1"
   ]
  },
  {
   "cell_type": "code",
   "execution_count": null,
   "metadata": {},
   "outputs": [],
   "source": []
  }
 ],
 "metadata": {
  "kernelspec": {
   "display_name": "Python 3",
   "language": "python",
   "name": "python3"
  },
  "language_info": {
   "codemirror_mode": {
    "name": "ipython",
    "version": 3
   },
   "file_extension": ".py",
   "mimetype": "text/x-python",
   "name": "python",
   "nbconvert_exporter": "python",
   "pygments_lexer": "ipython3",
   "version": "3.7.3"
  }
 },
 "nbformat": 4,
 "nbformat_minor": 4
}
