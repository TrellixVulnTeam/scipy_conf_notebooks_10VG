{
 "cells": [
  {
   "cell_type": "markdown",
   "metadata": {},
   "source": [
    "# ipywebrtc: Video streaming\n",
    "\n",
    "## https://github.com/maartenbreddels/ipywebrtc\n",
    "\n",
    "\n",
    "ipywebrtc is a jupyter interactive widget library which provides video streaming to the Jupyter notebook.\n",
    "\n",
    "- MIT Licensed\n",
    "\n",
    "It provides means to capture videos/images/audio from the user camera, or from other widgets like a `Video` or an ipyvolume plot.\n",
    "\n",
    "**Installation:**\n",
    "\n",
    "```bash\n",
    "conda install -c conda-forge ipywebrtc\n",
    "```"
   ]
  },
  {
   "cell_type": "code",
   "execution_count": 1,
   "metadata": {},
   "outputs": [],
   "source": [
    "import ipywebrtc as webrtc\n",
    "import ipyvolume as ipv\n",
    "import ipywidgets as widgets"
   ]
  },
  {
   "cell_type": "code",
   "execution_count": 2,
   "metadata": {},
   "outputs": [],
   "source": [
    "video = webrtc.VideoStream.from_file('Big.Buck.Bunny.mp4')"
   ]
  },
  {
   "cell_type": "code",
   "execution_count": 3,
   "metadata": {},
   "outputs": [
    {
     "data": {
      "application/vnd.jupyter.widget-view+json": {
       "model_id": "86949c30750741788591ed2ea9ac5983",
       "version_major": 2,
       "version_minor": 0
      },
      "text/plain": [
       "VideoStream(video=Video(value=b'\\x00\\x00\\x00\\x18ftypmp42\\x00\\x00\\x00\\x00isommp42\\x00\\x00+\\xadmoov\\x00\\x00\\x00l…"
      ]
     },
     "metadata": {},
     "output_type": "display_data"
    }
   ],
   "source": [
    "video"
   ]
  },
  {
   "cell_type": "code",
   "execution_count": 4,
   "metadata": {},
   "outputs": [],
   "source": [
    "camera = webrtc.CameraStream()"
   ]
  },
  {
   "cell_type": "code",
   "execution_count": 5,
   "metadata": {},
   "outputs": [
    {
     "data": {
      "application/vnd.jupyter.widget-view+json": {
       "model_id": "95868fd13b44403e9980122802f68c65",
       "version_major": 2,
       "version_minor": 0
      },
      "text/plain": [
       "CameraStream(constraints={'audio': True, 'video': True})"
      ]
     },
     "metadata": {},
     "output_type": "display_data"
    }
   ],
   "source": [
    "camera"
   ]
  },
  {
   "cell_type": "code",
   "execution_count": 6,
   "metadata": {},
   "outputs": [
    {
     "data": {
      "application/vnd.jupyter.widget-view+json": {
       "model_id": "b3015472b2a84fbeba93e9009ec0f939",
       "version_major": 2,
       "version_minor": 0
      },
      "text/plain": [
       "VBox(children=(Figure(camera=PerspectiveCamera(fov=46.0, position=(0.0, 0.0, 2.0), quaternion=(0.0, 0.0, 0.0, …"
      ]
     },
     "metadata": {},
     "output_type": "display_data"
    }
   ],
   "source": [
    "fig = ipv.figure(render_continuous=True)\n",
    "back = ipv.plot_plane(\"back\", texture=video)\n",
    "right = ipv.plot_plane(\"right\", texture=camera)\n",
    "ipv.show()"
   ]
  },
  {
   "cell_type": "code",
   "execution_count": 7,
   "metadata": {},
   "outputs": [],
   "source": [
    "right.texture = fig"
   ]
  },
  {
   "cell_type": "code",
   "execution_count": 8,
   "metadata": {},
   "outputs": [
    {
     "data": {
      "application/vnd.jupyter.widget-view+json": {
       "model_id": "0dbf6149cce14cd589ba0d016355d887",
       "version_major": 2,
       "version_minor": 0
      },
      "text/plain": [
       "HBox()"
      ]
     },
     "metadata": {},
     "output_type": "display_data"
    }
   ],
   "source": [
    "room = webrtc.chat(room='scipy2018', stream=fig)"
   ]
  },
  {
   "cell_type": "code",
   "execution_count": 9,
   "metadata": {},
   "outputs": [
    {
     "ename": "IndexError",
     "evalue": "list index out of range",
     "output_type": "error",
     "traceback": [
      "\u001b[0;31m---------------------------------------------------------------------------\u001b[0m",
      "\u001b[0;31mIndexError\u001b[0m                                Traceback (most recent call last)",
      "\u001b[0;32m<ipython-input-9-878cd240d44a>\u001b[0m in \u001b[0;36m<module>\u001b[0;34m\u001b[0m\n\u001b[0;32m----> 1\u001b[0;31m \u001b[0mback\u001b[0m\u001b[0;34m.\u001b[0m\u001b[0mtexture\u001b[0m \u001b[0;34m=\u001b[0m \u001b[0mroom\u001b[0m\u001b[0;34m.\u001b[0m\u001b[0mstreams\u001b[0m\u001b[0;34m[\u001b[0m\u001b[0;36m1\u001b[0m\u001b[0;34m]\u001b[0m\u001b[0;34m\u001b[0m\u001b[0;34m\u001b[0m\u001b[0m\n\u001b[0m",
      "\u001b[0;31mIndexError\u001b[0m: list index out of range"
     ]
    }
   ],
   "source": [
    "back.texture = room.streams[1]"
   ]
  },
  {
   "cell_type": "code",
   "execution_count": 10,
   "metadata": {},
   "outputs": [
    {
     "data": {
      "application/vnd.jupyter.widget-view+json": {
       "model_id": "0645af3e5a234261916458e09eef2281",
       "version_major": 2,
       "version_minor": 0
      },
      "text/plain": [
       "VideoRecorder(stream=Figure(camera=PerspectiveCamera(aspect=0.8, fov=46.0, matrixWorldNeedsUpdate=True, positi…"
      ]
     },
     "metadata": {},
     "output_type": "display_data"
    }
   ],
   "source": [
    "recorder = webrtc.VideoRecorder(stream=fig, filename='record')\n",
    "recorder"
   ]
  },
  {
   "cell_type": "code",
   "execution_count": 14,
   "metadata": {},
   "outputs": [
    {
     "data": {
      "text/plain": [
       "b'\\x1aE\\xdf\\xa3\\x9fB\\x86\\x81\\x01B\\xf7\\x81\\x01B\\xf2\\x81\\x04B\\xf3\\x81\\x08B\\x82\\x84webmB\\x87\\x81\\x04B\\x85\\x81\\x02\\x18S\\x80g\\x01\\xff\\xff\\xff\\xff\\xff\\xff\\xff\\x15I\\xa9f\\x99*\\xd7\\xb1\\x83\\x0fB@M\\x80\\x86ChromeWA\\x86Chrome\\x16T\\xaek\\xab\\xae\\xa9\\xd7\\x81\\x01s\\xc5\\x87L\\x9f\\xde\\x80O1\\x06\\x83\\x81\\x01U\\xee\\x81\\x01\\x86\\x85V_VP8\\xe0\\x8c\\xb0\\x82\\x01\\x90\\xba\\x82\\x01\\xf4S\\xc0\\x81\\x01\\x1fC\\xb6u\\x01\\xff\\xff\\xff\\xff\\xff\\xff\\xff\\xe7\\x81\\x00\\xa0c\\xde\\xa1bX\\x81\\x00\\x00\\x00p\\x9c\\x00\\x9d\\x01*\\x90\\x01\\xf4\\x01\\x01\\x07\\x08\\x85\\x85\\x88\\x99\\x84\\x88\\x02\\x03\\xb39\\x15\\xfe\\xbb\\xd0\\xbb,\\xfeW\\xf9\\x01\\xdc\\xa7\\xf9\\xe7\\xe4W\\xf6\\xee\\xcc\\xbf\\xb3~\\x00\\xf2\\x95 ?\\xc2\\xbf\\x82\\xff%\\xfct\\xfe\\xa3\\x90\\x07\\xf8w\\xf0\\xaf\\xea\\xbf\\xd2\\xf5\\x01\\x7f\\x8a\\x7fH\\xfc\\xa3\\xfe\\xc5\\xb6\\x07\\xf8\\x0f\\xf3/\\xe8\\xbeQ\\xff\\xb4\\xffU\\xf3S\\xf8\\x97\\xf6\\x7f\\xf2~\\xc0\\xbf\\x87\\x7f\\x1b\\xfe\\x9d\\xfd?\\xfc\\x07\\xe7\\xef\\xfc\\xef!\\x7f\\xd9\\xaf`o\\xe0?\\xc84R\\xe0\\xef\\xe3\\xdbG8op\\xbaU\\x83c\\xfdk@\\x07\\xfb\\x06\\xa8\\x0f\\xf1\\xcf\\xec\\x1f\\x90\\x1f\\xcc\\xf7\\x18\\xbf(7\\x88\\xbf\\xa7\\xfeGz\\xc1\\xfe\\xcd\\xe4\\x17\\xf0\\xbf\\xf2\\xff\\xd9>\\xd8>\\x80\\xff\\n\\xfe9\\xfd\\x83\\xfa\\xa7\\xf1\\xff\\xf1\\xdf\\xc8\\xbf\\xff\\xff\\xf2\\xe7\\x01\\xfd\\x10\\xfe\\xcd\\xfa\\x81[\\n\\xe6bI\\xe7_\\x90\\x1f\\x96}\\x0f\\x1a\\x8f\\xdem\\xa2B\\xcb\\xe8\\xa7\\xba\\xff\\xa6\\xfe\\x8b\\xfb\\x9b\\xfd\\x83\\xb4\\x0f\\xe6o\\xe8\\x9e\\xe0?\\xa0\\x9f\\xd9\\x7f\"\\xbf\\xb3\\x7f\\xff\\xf9\\x01\\xf5\\x03\\xe6\\x07\\xf8\\xa7\\xf1_\\xf1\\x1f\\xd9\\xbd\\xf3\\xfd\\x00\\xfa\\x00\\xffX\\xfe\\xb9\\xe9W\\xec\\x03\\xe8\\x03\\xfb=\\xe9w\\xfb\\x1f\\xf0=\\xfb#\\xffc\\xfc\\xa7\\xc0\\'\\xf2?\\xea\\x9f\\xed\\xbf>\\xfb\\x80z}\\xfa\\x03\\xfck\\xf0\\x9b\\xf6s\\xe37i_\\x19\\xfc9\\xfd\\xdc\\xfd\\xff\\xef\\xd1\\xec\\xdf\\xaa\\xff\\xb9\\xde\\xc5\\x9f\\x84~\\x1b~\\xe7\\xffb\\xf6C\\xc6\\x7f\\xd0?\\x07=\\xc5\\xfeG\\xf4\\x8f\\xe4?\\xd0\\x7fO\\xff\\xad\\xff\\xe0\\xffO\\xff\\xdf\\xe2\\xaf\\xe2\\xdf\\x86\\xff\\xb7\\xff\\xe3}\\x83\\xf77\\xf9\\x87\\xe3\\x17\\xe5\\x07\\xd8/\\xe5\\x7f\\xc2\\xff\\x8f\\xfe)\\xffu\\xff\\xb7\\xfe\\xc7\\xd9\\xcf\\xf0\\x1f\\xc0\\x1f\\x1c\\xda\\xf5\\xfdw\\xf1\\xbb\\xe0\\x17\\xd6\\x8f\\x86\\xff5\\xfeu\\xfdS\\xfaW\\xf5\\x7f\\xfc\\x9f\\xe5\\xbdd\\xbf3\\xfc\\x89\\xf7\\x07\\xe8\\xf7\\xf9\\xafp\\x1f\\xe6\\xdf\\xc3?\\x94\\xfe%\\x7f[\\xff\\xc7\\xfb\\xff\\xf8o\\xf1_\\xe4\\xbf?\\xfe\\xea\\x7f-\\xfe\\xbd\\xfdW\\xf2\\x83\\xfb7\\xd8\\x0f\\xf0\\x8f\\xe1\\x7f\\xce\\x7f\\xaa\\xff\\x85\\xff%\\xfd7\\xfeg\\xdao\\xe3_\\xcb\\xbf\\xad\\xfe\\xac\\xff=\\xff\\x93\\xfb\\xcf\\xf4\\xfb\\xf2O\\xea\\xbf\\xe2?\\xb6\\xfe\\xc2~\\xff\\xfe\\x01\\x7f\\x1f\\xfe\\x17\\xfc\\xab\\xfb\\'\\xf9/\\xed?\\xd2\\xbf\\xf5\\x7f\\x9d\\xff\\xf5\\xf8\\'\\xfcs\\xd8\\x0f\\xed\\xc7\\xb07\\xe8\\xb7\\xe9g\\xdf\\x0c\\xa5\\xaf_\\r\\xbau\\xee\\xc4:\\x93\\xafv!\\xd4\\x9d{\\xb1\\x0e\\xa4\\xeb\\xdd\\x88u\\'^\\xecC\\xa9:\\xf7b\\x1dI\\xd7\\xbb\\x10\\xeaN\\xbd\\xd8\\x87Ru\\xee\\xc4:\\x93\\xafv!\\xd4\\x9d{\\xb1\\x0e\\xa4\\xeb\\xdd\\x88u\\'^\\xecC\\xa9:\\xf7b\\x1dI\\xd7\\xbb\\x10\\xeaN\\xbd\\xd8\\x87Ru\\xee\\xc4:\\x93\\xafv!\\xd4\\x9d{\\xb1\\x0e\\xa4\\xeb\\xdd\\x88WN\\x85u\\x0bW\\xb1\\x04\\x86\\x9fJ\\x87\\x10\\xeaN\\xbd\\xd8\\x87Ru\\xe8\\x87W\\x85\\x03jn\\x9aq\\x10!\\xb5\\x9b-:\\xdf9\\x06\\x90<\\x85U[\\xe5\\x0b\\xa3\\x97\\xc8\\x04:\\x93\\xafv!\\xd3\\xefAt\\xe0b\\x04K\\x11\\x11\"\\xe0\\x9e\\x7f\\x1e\\xc9\\xd1\\xcd\\xab\\xe44\\xc0[(}\\x1b\\xdcc\\xdd\\x88u\\'!iF\\x12\\xdag*Cy\\xc6J\\xf2\\x1c\\xc6\\x00\\x1d\\x0f\"B\\xd3-\\xaa\\xc7\\xa6\\xd1R#\\xc9\\xd7\\xbb\\x10\\xe5\\xf6\\x84\\xe3I\\xdax`H\\xf0\\xc0\\xa6\\xd4=>\\xb1E\\xb2G)\\x84\\xf8~\\xf8\\xd9q\\xe8\\x9a6\\xfe/\\x8d\\x80\\x9f]\\xd3~h\\x04\\xb4i2!\\xf8\\x08\\x1f4\\xfd\\xc7\\x7f\\x16\\xe9\\xd6\\x81\\xccf\\x1c\\xfe\\x1b51\\xc7\\xb8\\x14T\\x07\\x880\\x98\\x1f5\\xde\\x8d\\xdae\\x04'"
      ]
     },
     "execution_count": 14,
     "metadata": {},
     "output_type": "execute_result"
    }
   ],
   "source": [
    "recorder.video.value[:1000]"
   ]
  },
  {
   "cell_type": "code",
   "execution_count": 11,
   "metadata": {},
   "outputs": [],
   "source": [
    "room.close()\n",
    "camera.close()\n",
    "video.close()"
   ]
  },
  {
   "cell_type": "code",
   "execution_count": 12,
   "metadata": {},
   "outputs": [
    {
     "data": {
      "application/vnd.jupyter.widget-view+json": {
       "model_id": "",
       "version_major": 2,
       "version_minor": 0
      },
      "text/plain": [
       "Figure(camera=PerspectiveCamera(fov=46.0, position=(0.0, 0.0, 2.0), quaternion=(0.0, 0.0, 0.0, 1.0), scale=(1.…"
      ]
     },
     "metadata": {},
     "output_type": "display_data"
    }
   ],
   "source": [
    "from PIL import Image\n",
    "fig = ipv.figure(render_continuous=True, )\n",
    "ipv.plot_plane(where='front', texture = Image.open('1_sunny.jpg'))\n",
    "ipv.plot_plane(where='back', texture = Image.open('2_sunny.jpg'))\n",
    "ipv.plot_plane(where='left', texture = Image.open('3_dolly.jpg'))\n",
    "ipv.plot_plane(where='right', texture = Image.open('3_dolly.jpg'))\n",
    "ipv.plot_plane(where='top', texture = Image.open('4_sunny.jpg'))\n",
    "ipv.plot_plane(where='bottom', texture = Image.open('3_dolly.jpg'))\n",
    "\n",
    "#ipv.xyzlabel('','','')\n",
    "\n",
    "fig"
   ]
  },
  {
   "cell_type": "code",
   "execution_count": 13,
   "metadata": {},
   "outputs": [],
   "source": [
    "video.close_all()"
   ]
  },
  {
   "cell_type": "code",
   "execution_count": null,
   "metadata": {},
   "outputs": [],
   "source": [
    "webrtc."
   ]
  }
 ],
 "metadata": {
  "kernelspec": {
   "display_name": "Python 3",
   "language": "python",
   "name": "python3"
  },
  "language_info": {
   "codemirror_mode": {
    "name": "ipython",
    "version": 3
   },
   "file_extension": ".py",
   "mimetype": "text/x-python",
   "name": "python",
   "nbconvert_exporter": "python",
   "pygments_lexer": "ipython3",
   "version": "3.7.3"
  }
 },
 "nbformat": 4,
 "nbformat_minor": 2
}
