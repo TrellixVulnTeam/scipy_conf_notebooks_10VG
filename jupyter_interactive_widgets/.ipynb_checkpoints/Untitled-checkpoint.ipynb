{
 "cells": [
  {
   "cell_type": "code",
   "execution_count": 27,
   "metadata": {},
   "outputs": [],
   "source": [
    "import pandas as pd\n",
    "\n",
    "list1 = ['Title']\n",
    "list2 = ['apple', 'mango']\n",
    "list3 =['acbc']\n",
    "list4=['','', 'Banana', 'Pear']\n",
    "list5=[]\n",
    "list6=[]\n",
    "\n",
    "all_lists = [list1,list2, list3, list4, list5, list6]\n",
    "max_len = max([len(l) for l in all_lists])\n",
    "\n",
    "total_data = {}\n",
    "for i in range(len(all_lists)):\n",
    "    if len(all_lists[i]) < max_len:\n",
    "        total_data['list%d'%(i+1)] = all_lists[i] + ['']* (max_len-len(all_lists[i]))\n",
    "    else:\n",
    "        total_data['list%d'%(i+1)] = all_lists[i]\n",
    "    \n",
    "df = pd.DataFrame(total_data)\n",
    "\n",
    "df.to_csv('out.csv',index=False)"
   ]
  },
  {
   "cell_type": "code",
   "execution_count": null,
   "metadata": {},
   "outputs": [],
   "source": []
  },
  {
   "cell_type": "code",
   "execution_count": null,
   "metadata": {},
   "outputs": [],
   "source": []
  },
  {
   "cell_type": "code",
   "execution_count": null,
   "metadata": {},
   "outputs": [],
   "source": []
  },
  {
   "cell_type": "code",
   "execution_count": null,
   "metadata": {},
   "outputs": [],
   "source": []
  }
 ],
 "metadata": {
  "kernelspec": {
   "display_name": "Python 3",
   "language": "python",
   "name": "python3"
  },
  "language_info": {
   "codemirror_mode": {
    "name": "ipython",
    "version": 3
   },
   "file_extension": ".py",
   "mimetype": "text/x-python",
   "name": "python",
   "nbconvert_exporter": "python",
   "pygments_lexer": "ipython3",
   "version": "3.7.3"
  }
 },
 "nbformat": 4,
 "nbformat_minor": 2
}
