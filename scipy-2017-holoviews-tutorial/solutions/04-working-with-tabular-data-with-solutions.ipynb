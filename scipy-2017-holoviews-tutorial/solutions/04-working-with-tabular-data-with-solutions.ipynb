{
 "cells": [
  {
   "cell_type": "markdown",
   "metadata": {},
   "source": [
    "<a href='http://www.holoviews.org'><img src=\"assets/hv+bk.png\" alt=\"HV+BK logos\" width=\"40%;\" align=\"left\"/></a>\n",
    "<div style=\"float:right;\"><h2>04. Working with Tabular Datasets</h2></div>"
   ]
  },
  {
   "cell_type": "markdown",
   "metadata": {},
   "source": [
    "As we have already discovered, elements are simple wrappers around your data that provide a semantically meaningful representation. Tabular data (also called columnar data) is one of the most common, general, and versatile data formats, corresponding to how data is laid out in a spreadsheet. There are many different ways to put data into a tabular format, but for interactive analysis having [**tidy data**](http://www.jeannicholashould.com/tidy-data-in-python.html) provides flexibility and simplicity.\n",
    "\n",
    "In this tutorial all the information you have learned in the previous sections will finally really pay off. We will discover how to facet data and use different element types to explore and visualize the data contained in a real dataset."
   ]
  },
  {
   "cell_type": "code",
   "execution_count": null,
   "metadata": {
    "collapsed": true
   },
   "outputs": [],
   "source": [
    "import numpy as np\n",
    "import scipy.stats as ss\n",
    "import pandas as pd\n",
    "import holoviews as hv\n",
    "hv.extension('bokeh')\n",
    "%opts Curve Scatter [tools=['hover']]"
   ]
  },
  {
   "cell_type": "markdown",
   "metadata": {},
   "source": [
    "## What is tabular, tidy data?"
   ]
  },
  {
   "cell_type": "code",
   "execution_count": null,
   "metadata": {
    "collapsed": true
   },
   "outputs": [],
   "source": [
    "macro_df = pd.read_csv('../data/macro.csv')\n",
    "macro_df.head()"
   ]
  },
  {
   "cell_type": "markdown",
   "metadata": {},
   "source": [
    "For tidy data, the **columns** of the table represent **variables** or **dimensions** and the **rows** represent **observations**."
   ]
  },
  {
   "cell_type": "markdown",
   "metadata": {},
   "source": [
    "## Declaring dimensions"
   ]
  },
  {
   "cell_type": "markdown",
   "metadata": {},
   "source": [
    "Mathematical variables can usually be described as **dependent** or **independent**. In HoloViews these correspond to value dimensions and key dimensions (respectively).\n",
    "\n",
    "In this dataset ``'country'`` and ``'year'`` are independent variables or key dimensions, while the remainder are automatically inferred as value dimensions:"
   ]
  },
  {
   "cell_type": "code",
   "execution_count": null,
   "metadata": {
    "collapsed": true
   },
   "outputs": [],
   "source": [
    "macro = hv.Dataset(macro_df, kdims=['country', 'year'])\n",
    "macro"
   ]
  },
  {
   "cell_type": "markdown",
   "metadata": {},
   "source": [
    "We will also give the dimensions more sensible labels using ``redim.label``:"
   ]
  },
  {
   "cell_type": "code",
   "execution_count": null,
   "metadata": {
    "collapsed": true
   },
   "outputs": [],
   "source": [
    "macro = macro.redim.label(growth='GDP Growth', unem='Unemployment', year='Year', country='Country')"
   ]
  },
  {
   "cell_type": "markdown",
   "metadata": {},
   "source": [
    "## Mapping dimensions to elements"
   ]
  },
  {
   "cell_type": "markdown",
   "metadata": {},
   "source": [
    "Once we have a ``Dataset`` with multiple dimensions we can map these dimensions onto elements onto the ``.to`` method. The method takes four main arguments:\n",
    "\n",
    "1. The element you want to convert to\n",
    "2. The key dimensions (or independent variables to display)\n",
    "3. The dependent variables to display\n",
    "4. The dimensions to group by"
   ]
  },
  {
   "cell_type": "markdown",
   "metadata": {},
   "source": [
    "As a first simple example let's go through such a declaration:\n",
    "\n",
    "1. We will use a ``Curve``\n",
    "2. Our independent variable will be the 'year'\n",
    "3. Our dependent variable will be 'unem'\n",
    "4. We will ``groupby`` the 'country'."
   ]
  },
  {
   "cell_type": "code",
   "execution_count": null,
   "metadata": {
    "collapsed": true
   },
   "outputs": [],
   "source": [
    "curves = macro.to(hv.Curve, kdims='year', vdims='unem', groupby='country')\n",
    "curves"
   ]
  },
  {
   "cell_type": "markdown",
   "metadata": {},
   "source": [
    "Alternatively we could also group by the year and view the unemployment rate by country as Bars instead:"
   ]
  },
  {
   "cell_type": "code",
   "execution_count": null,
   "metadata": {
    "collapsed": true
   },
   "outputs": [],
   "source": [
    "%%opts Bars [width=600 xrotation=45]\n",
    "bars = macro.sort('country').to(hv.Bars, kdims='country', vdims='unem', groupby='year')\n",
    "bars"
   ]
  },
  {
   "cell_type": "code",
   "execution_count": null,
   "metadata": {
    "collapsed": true
   },
   "outputs": [],
   "source": [
    "%%opts HeatMap [width=600 xrotation=90 tools=['hover']]\n",
    "# Exercise: Create a HeatMap using ``macro.to``, declaring kdims 'year' and 'country', and vdims 'growth'\n",
    "# You'll need to declare ``width`` and ``xrotation`` plot options for HeatMap to make the plot readable\n",
    "# You can also add ``tools=['hover']`` to get more info\n",
    "macro.to(hv.HeatMap, kdims=['year', 'country'], vdims=['growth'])"
   ]
  },
  {
   "cell_type": "markdown",
   "metadata": {},
   "source": [
    "## Displaying distributions\n",
    "\n",
    "Often we want to summarize the distribution of values, e.g. to reveal the distribution of unemployment rates for each OECD country across time. This means we want to ignore the 'year' dimension in our dataset, letting it be summarized instead. To stop HoloViews from grouping by the extra variable, we pass an empty list to the groupby argument."
   ]
  },
  {
   "cell_type": "code",
   "execution_count": null,
   "metadata": {
    "collapsed": true
   },
   "outputs": [],
   "source": [
    "%%opts BoxWhisker [width=800 xrotation=30] (box_fill_color=Palette('Category20'))\n",
    "macro.to(hv.BoxWhisker, 'country', 'growth', groupby=[])"
   ]
  },
  {
   "cell_type": "code",
   "execution_count": null,
   "metadata": {
    "collapsed": true
   },
   "outputs": [],
   "source": [
    "%%opts BoxWhisker [width=800 xrotation=30] (box_fill_color=Palette('Category20'))\n",
    "# Exercise: Display the distribution of GDP growth by year using the BoxWhisker element\n",
    "macro.to(hv.BoxWhisker, 'year', 'growth', groupby=[])"
   ]
  },
  {
   "cell_type": "markdown",
   "metadata": {},
   "source": [
    "## Faceting dimensions\n",
    "\n",
    "In the previous section we discovered how to facet our data using the ``.overlay``, ``.grid`` and ``.layout`` methods. Instead of working with more abstract FM modulation signals, we now have concrete variables to group by, namely the 'country' and 'year':"
   ]
  },
  {
   "cell_type": "code",
   "execution_count": null,
   "metadata": {
    "collapsed": true
   },
   "outputs": [],
   "source": [
    "%%opts Scatter [width=800 height=400 size_index='growth'] (color=Palette('Category20') size=5)\n",
    "%%opts NdOverlay [legend_position='left']\n",
    "macro.to(hv.Scatter, 'year', ['unem', 'growth']).overlay().relabel('OECD Unemployment 1960 - 1990')"
   ]
  },
  {
   "cell_type": "code",
   "execution_count": null,
   "metadata": {
    "collapsed": true
   },
   "outputs": [],
   "source": [
    "# Exercise: Instead of faceting using an .overlay() of Scatter elements, facet the data using a .grid() \n",
    "# of Curve or Area elements\n",
    "macro.to(hv.Curve, 'year', ['unem', 'growth']).grid().relabel('OECD Unemployment 1960 - 1990')"
   ]
  },
  {
   "cell_type": "code",
   "execution_count": null,
   "metadata": {
    "collapsed": true
   },
   "outputs": [],
   "source": [
    "%%opts GridSpace [shared_yaxis=True]\n",
    "# Exercise: You'll notice that you get quite a lot of countries in the grid. \n",
    "# You can try supplying a short list of countries to the 'macro.select` method to get a more-practical subset.\n",
    "# Hint: You may want to pass the shared_yaxis=True plot option to GridSpace, to get a y-axis\n",
    "macro.select(country=['Italy', 'France', 'Sweden', 'Netherlands']).to(hv.Area, 'year', 'unem').grid()"
   ]
  },
  {
   "cell_type": "markdown",
   "metadata": {},
   "source": [
    "## Aggregating"
   ]
  },
  {
   "cell_type": "markdown",
   "metadata": {},
   "source": [
    "Another common operation is computing aggregates. We can also compute and visualize these easily using the ``aggregate`` method. Simply supply the dimension(s) to aggregate by and supply a function and optionally a secondary function to compute the spread. Once we have computed the aggregate we can simply pass it to the [``Curve``](http://holoviews.org/reference/elements/bokeh/Curve.html) and [``ErrorBars``](http://holoviews.org/reference/elements/bokeh/ErrorBars.html):"
   ]
  },
  {
   "cell_type": "code",
   "execution_count": null,
   "metadata": {
    "collapsed": true
   },
   "outputs": [],
   "source": [
    "%%opts Curve [width=600]\n",
    "agg = macro.aggregate('year', function=np.mean, spreadfn=np.std)\n",
    "(hv.Curve(agg) * hv.ErrorBars(agg, kdims=['year'], vdims=['growth', 'growth_std']))"
   ]
  },
  {
   "cell_type": "code",
   "execution_count": null,
   "metadata": {
    "collapsed": true
   },
   "outputs": [],
   "source": [
    "%%opts Bars [width=800 xrotation=90]\n",
    "# Exercise: Display aggregate GDP growth by country, building it up in a series of steps\n",
    "# Step 1. First, aggregate the data by country rather than by year, using\n",
    "# np.mean and ss.sem as the function and spreadfn, respectively, then \n",
    "# make a `Bars` element from the resulting ``agg``\n",
    "agg = macro.aggregate('country', function=np.mean, spreadfn=ss.sem)\n",
    "hv.Bars(agg).sort() "
   ]
  },
  {
   "cell_type": "code",
   "execution_count": null,
   "metadata": {
    "collapsed": true
   },
   "outputs": [],
   "source": [
    "%%opts Bars [width=800 xrotation=90]\n",
    "# Step 2: You should now have a bars plot, but with no error bars. To add the error bars,\n",
    "# print the 'agg' as text to see which vdims are available (which will be different for \n",
    "# different spreadfns), then overlay ErrorBars as above but for the new kdims and\n",
    "# the appropriate vdims\n",
    "# Hint: You'll want to make the plot wider and use an xrotation to see the labels clearly\n",
    "hv.Bars(agg).sort()  * hv.ErrorBars(agg, kdims=['country'], vdims=['growth', 'growth_sem'])"
   ]
  },
  {
   "cell_type": "markdown",
   "metadata": {},
   "source": [
    "## Onward\n",
    "\n",
    "* Go through the Tabular Data [getting started](http://build.holoviews.org/getting_started/Tabular_Datasets.html) and [user guide](http://build.holoviews.org/user_guide/Tabular_Datasets.html).\n",
    "* Learn about slicing, indexing and sampling in the [Indexing and Selecting Data](http://holoviews.org/user_guide/Indexing_and_Selecting_Data.html) user guide.\n",
    "\n",
    "The next section shows a similar approach, but for working with gridded data, in multidimensional array formats."
   ]
  }
 ],
 "metadata": {
  "kernelspec": {
   "display_name": "Python 3",
   "language": "python",
   "name": "python3"
  },
  "language_info": {
   "codemirror_mode": {
    "name": "ipython",
    "version": 3
   },
   "file_extension": ".py",
   "mimetype": "text/x-python",
   "name": "python",
   "nbconvert_exporter": "python",
   "pygments_lexer": "ipython3",
   "version": "3.6.1"
  }
 },
 "nbformat": 4,
 "nbformat_minor": 2
}
