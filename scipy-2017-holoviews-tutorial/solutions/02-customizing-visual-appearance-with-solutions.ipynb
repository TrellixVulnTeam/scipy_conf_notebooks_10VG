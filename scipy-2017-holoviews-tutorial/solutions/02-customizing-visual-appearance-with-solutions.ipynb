{
 "cells": [
  {
   "cell_type": "markdown",
   "metadata": {},
   "source": [
    "<a href='http://www.holoviews.org'><img src=\"assets/hv+bk.png\" alt=\"HV+BK logos\" width=\"40%;\" align=\"left\"/></a>\n",
    "<div style=\"float:right;\"><h2>02. Customizing Visual Appearance</h2></div>"
   ]
  },
  {
   "cell_type": "markdown",
   "metadata": {},
   "source": [
    "Section 01 focused on specifying elements and simple collections of them.  This section explains how the visual appearance can be adjusted to bring out the most salient aspects of your data, or just to make the style match the overall theme of your document.\n",
    "\n",
    "\n",
    "## Preliminaries\n",
    "\n",
    "In the [introduction to elements](./01-introduction-to-elements), ``hv.extension('bokeh')`` was used at the start to load and activate the bokeh plotting extension. In this notebook, we will also briefly use [matplotlib](www.matplotlib.org) which we will load, but not yet activate, by listing it second:"
   ]
  },
  {
   "cell_type": "code",
   "execution_count": null,
   "metadata": {},
   "outputs": [],
   "source": [
    "import pandas as pd\n",
    "import holoviews as hv\n",
    "hv.extension('bokeh', 'matplotlib')"
   ]
  },
  {
   "cell_type": "markdown",
   "metadata": {},
   "source": [
    "## Visualizing eclipse data\n",
    "\n",
    "Let us find some interesting data to generate elements from, before we consider how to customize them. Here is a dataset containing information about all the [eclipses of the 21st century](https://en.wikipedia.org/wiki/List_of_solar_eclipses_in_the_21st_century):"
   ]
  },
  {
   "cell_type": "code",
   "execution_count": null,
   "metadata": {},
   "outputs": [],
   "source": [
    "eclipses = pd.read_csv('../data/eclipses_21C.csv', parse_dates=['date'])\n",
    "eclipses.head()"
   ]
  },
  {
   "cell_type": "markdown",
   "metadata": {},
   "source": [
    "Here we have the date of each eclipse, what time of day the eclipse reached its peak in both local time and in UTC, the type of eclipse, its magnitude (fraction of the Sun's diameter obscured by the Moon) and the position of the peak in latitude and longitude.\n",
    "\n",
    "Let's see what happens if we pass this dataframe to the [``Curve``](http://build.holoviews.org/reference/elements/bokeh/Curve.html) element:"
   ]
  },
  {
   "cell_type": "code",
   "execution_count": null,
   "metadata": {},
   "outputs": [],
   "source": [
    "hv.Curve(eclipses)"
   ]
  },
  {
   "cell_type": "markdown",
   "metadata": {},
   "source": [
    "We see that, by default, the first dataframe column becomes the *key dimension* (corresponding to the x-axis) and the second column becomes the *value dimension* (corresponding to the y-axis). There is clearly structure in this data, but the plot is too highly compressed in the x direction to see much detail, and you may not like the particular color or line style. So we can start customizing the appearance of this curve using the HoloViews [options system](http://holoviews.org/user_guide/Customizing_Plots.html).\n",
    "\n",
    "## Types of option\n",
    "\n",
    "If we want to change the appearance of what we can already see in the plot, we're no longer focusing on the data and metadata stored in the elements, but about details of the presentation.  Details specific to the final plo tare handled by the separate \"options\" system, not the element objects.  HoloViews allows you to set three types of options:\n",
    "\n",
    "* **plot options**: Options that tell *HoloViews* how to *construct* the plot.\n",
    "* **style options**: Options that tell the underlying *plotting extension* (Bokeh, matplotlib, etc.) how to *style* the plot\n",
    "* **normalization options**: Options that tell *HoloViews* how to *normalize* the various elements in the plot against each other (not covered in this tutorial)\n",
    "\n",
    "\n",
    "### Plot options\n",
    "\n",
    "We noted that the data is too compressed in the x direction. Let us fix that by specifying the ``width`` plot option:"
   ]
  },
  {
   "cell_type": "code",
   "execution_count": null,
   "metadata": {},
   "outputs": [],
   "source": [
    "%%opts Curve [width=900]\n",
    "hour_curve = hv.Curve(eclipses).redim.label(hour_local='Hour (local time)', date='Date (21st century)')\n",
    "hour_curve"
   ]
  },
  {
   "cell_type": "markdown",
   "metadata": {},
   "source": [
    "The top line uses a special IPython/Jupyter syntax called the ``%%opts`` *cell magic* to specify the ``width`` plot option for all [``Curve``](http://build.holoviews.org/reference/elements/bokeh/Curve.html) objects in this cell.  ``%%opts`` accepts a simple specification where we pass the ``width=900`` keyword argument to  [``Curve``](http://build.holoviews.org/reference/elements/bokeh/Curve.html) as a plot option (denoted by the *square brackets*).\n",
    "\n",
    "Of course, there are other ways of applying options in HoloViews that do not require this IPython-specific syntax, but for this tutorial, we will only be covering the more-convenient magic-based syntax. You can read about the alternative approaches in the [user guide](http://holoviews.org/user_guide/Customizing_Plots.html)."
   ]
  },
  {
   "cell_type": "code",
   "execution_count": null,
   "metadata": {},
   "outputs": [],
   "source": [
    "%%opts Curve [width=900 height=200]\n",
    "# Exercise: Try setting the height plot option of the Curve above.\n",
    "# Hint: the magic supports tab completion when the cursor is in the square brackets!\n",
    "# Note: The %%opts cell magic *must* appear at the top of the code cell!\n",
    "hour_curve = hv.Curve(eclipses).redim.label(hour_local='Hour (local time)', date='Date (21st century)')\n",
    "hour_curve"
   ]
  },
  {
   "cell_type": "code",
   "execution_count": null,
   "metadata": {},
   "outputs": [],
   "source": [
    "%%opts Curve [width=900 show_grid=True]\n",
    "# Exercise: Try enabling the boolean show_grid plot option for the curve above\n",
    "# Note: The %%opts cell magic *must* appear at the top of the code cell!\n",
    "hour_curve = hv.Curve(eclipses).redim.label(hour_local='Hour (local time)', date='Date (21st century)')\n",
    "hour_curve"
   ]
  },
  {
   "cell_type": "code",
   "execution_count": null,
   "metadata": {},
   "outputs": [],
   "source": [
    "%%opts Curve [width=900 xrotation=45]\n",
    "# Exercise: Try set the x-axis label rotation (in degrees) with the xrotation plot option\n",
    "# Note: The %%opts cell magic *must* appear at the top of the code cell!\n",
    "hour_curve = hv.Curve(eclipses).redim.label(hour_local='Hour (local time)', date='Date (21st century)')\n",
    "hour_curve"
   ]
  },
  {
   "cell_type": "markdown",
   "metadata": {},
   "source": [
    "#### Aside: ``hv.help``\n",
    "\n",
    "Tab completion helps discover what keywords are available but you can get more complete help using the ``hv.help`` utility. For instance, to learn more about the options for ``hv.Curve`` run ``hv.help(hv.Curve)``:"
   ]
  },
  {
   "cell_type": "code",
   "execution_count": null,
   "metadata": {
    "scrolled": false
   },
   "outputs": [],
   "source": [
    "hv.help(hv.Curve, pattern='lod') # Example of help, matching 'lod' substring"
   ]
  },
  {
   "cell_type": "markdown",
   "metadata": {},
   "source": [
    "### Style options\n",
    "\n",
    "The plot options earlier instructed HoloViews to build a plot 900 pixels wide, when rendered with the Bokeh plotting extension. Now let's specify that the Bokeh glyph should be 'red' and slightly thicker, which is information passed on directly to Bokeh (making it a style option):"
   ]
  },
  {
   "cell_type": "code",
   "execution_count": null,
   "metadata": {},
   "outputs": [],
   "source": [
    "%%opts Curve (color='red' line_width=2)\n",
    "# Note: The %%opts cell magic *must* appear at the top of the code cell!\n",
    "hour_curve"
   ]
  },
  {
   "cell_type": "markdown",
   "metadata": {},
   "source": [
    "Note how the plot options applied above to ``hour_curve`` are remembered! The ``%%opts`` magic is used to customize the *object* displayed as output for a particular code cell: behind the scenes HoloViews has linked the specified options to the ``hour_curve`` object via a hidden integer id attribute.\n",
    "\n",
    "Having used the ``%%opts`` magic on ``hour_curve`` again, we have now associated the 'red' ``color`` *style option* to it. In the options specification syntax, style options are the keywords in *parentheses* and are keywords defined and used by Bokeh to style [line glyphs](http://bokeh.pydata.org/en/latest/docs/user_guide/plotting.html#line-glyphs).\n",
    "\n"
   ]
  },
  {
   "cell_type": "code",
   "execution_count": null,
   "metadata": {},
   "outputs": [],
   "source": [
    "# Exercise: Display hour_curve without any new options to verify it stays red\n",
    "hour_curve"
   ]
  },
  {
   "cell_type": "code",
   "execution_count": null,
   "metadata": {},
   "outputs": [],
   "source": [
    "%%opts Curve (color='red' line_width=1)\n",
    "# Exercise: Try setting the line_width style options to 1\n",
    "# Note: The %%opts cell magic *must* appear at the top of the code cell!\n",
    "hour_curve"
   ]
  },
  {
   "cell_type": "code",
   "execution_count": null,
   "metadata": {},
   "outputs": [],
   "source": [
    "%%opts Curve (color='red' line_dash='dotdash')\n",
    "# Exercise: Try setting the  line_dash style option to 'dotdash'\n",
    "# Note: The %%opts cell magic *must* appear at the top of the code cell!\n",
    "hour_curve"
   ]
  },
  {
   "cell_type": "markdown",
   "metadata": {},
   "source": [
    "## Switching to matplotlib\n",
    "\n",
    "Let us now view our curve with matplotlib using the ``%%output`` cell magic:"
   ]
  },
  {
   "cell_type": "code",
   "execution_count": null,
   "metadata": {},
   "outputs": [],
   "source": [
    "%%output backend='matplotlib'\n",
    "hour_curve"
   ]
  },
  {
   "cell_type": "markdown",
   "metadata": {},
   "source": [
    "All our options are gone! This is because the options are associated with the corresponding plotting extension---if you switch back to 'bokeh', the options will be applicable again. In general, options have to be specific to backends; e.g. the ``line_width`` style option accepted by Bokeh is called ``linewidth`` in matplotlib:"
   ]
  },
  {
   "cell_type": "code",
   "execution_count": null,
   "metadata": {},
   "outputs": [],
   "source": [
    "%%output backend='matplotlib'\n",
    "%%opts Curve [aspect=4 fig_size=400 xrotation=90] (color='blue' linewidth=2)\n",
    "# Note: Both the %%output and %%opts cell magics *must* appear at the top of the code cell!\n",
    "hour_curve"
   ]
  },
  {
   "cell_type": "code",
   "execution_count": null,
   "metadata": {},
   "outputs": [],
   "source": [
    "%%output backend='matplotlib'\n",
    "%%opts Curve [aspect=4 fig_size=400 xrotation=90] (color='blue' linewidth=2 linestyle='-.')\n",
    "# Exercise: Apply the matplotlib equivalent to line_dash above using linestyle='-.'\n",
    "# Note: Both the %%output and %%opts cell magics *must* appear at the top of the code cell!\n",
    "hour_curve"
   ]
  },
  {
   "cell_type": "markdown",
   "metadata": {},
   "source": [
    "### The ``%output`` line magic\n",
    "\n",
    "In the two cells above we repeated ``%%output backend='matplotlib'`` to use matplotlib to render those two cells. Instead of repeating ourselves with the cell magic, we can use a \"line magic\" (similar syntax to the cell magic but with one ``%``) to set things globally. Let us switch to matplotlib with a line magic and specify that we want SVG output:"
   ]
  },
  {
   "cell_type": "code",
   "execution_count": null,
   "metadata": {
    "collapsed": true
   },
   "outputs": [],
   "source": [
    "%output backend='matplotlib' fig='svg'"
   ]
  },
  {
   "cell_type": "markdown",
   "metadata": {},
   "source": [
    "Unlike the cell magic, the line magic doesn't need to be followed by any expression and can be used anywhere in the notebook. Both the ``%output`` and ``%opts`` line magics set things globally so it is recommended you declare them at the top of your notebooks. Now let us look at the SVG matplotlib output we requested:"
   ]
  },
  {
   "cell_type": "code",
   "execution_count": null,
   "metadata": {},
   "outputs": [],
   "source": [
    "%%opts Curve [aspect=4 fig_size=400 xrotation=70] (color='green' linestyle='--')\n",
    "hour_curve"
   ]
  },
  {
   "cell_type": "code",
   "execution_count": null,
   "metadata": {
    "collapsed": true
   },
   "outputs": [],
   "source": [
    "# Exercise: Verify for yourself that the output above is SVG and not PNG\n",
    "# You can do this by right-clicking above then selecting 'Open Image in a new Tab' (Chrome) or 'View Image' (Firefox)\n",
    "\n",
    "# Solution: Look at the URL in the new tab, it will start with 'data:image/svg+xml;base64,' as the output is SVG"
   ]
  },
  {
   "cell_type": "markdown",
   "metadata": {},
   "source": [
    "## Switching back to bokeh\n",
    "\n",
    "In previous releases of HoloViews, it was typical to switch to matplotlib in order to export to PNG or SVG, because Bokeh did not support these file formats. Since [Bokeh 0.12.6](https://bokeh.github.io/blog/2017/6/13/release-0-12-6/) we can now easily use HoloViews to export Bokeh plots to a PNG file, as we will now demonstrate:"
   ]
  },
  {
   "cell_type": "code",
   "execution_count": null,
   "metadata": {
    "collapsed": true
   },
   "outputs": [],
   "source": [
    "%output backend='bokeh'"
   ]
  },
  {
   "cell_type": "markdown",
   "metadata": {},
   "source": [
    "By passing ``fig='png'`` and a ``filename='eclipses'`` to ``%output`` we can both render to PNG and save the output to file:"
   ]
  },
  {
   "cell_type": "code",
   "execution_count": null,
   "metadata": {},
   "outputs": [],
   "source": [
    "%%output fig='png' filename='eclipses'\n",
    "hour_curve.clone()"
   ]
  },
  {
   "cell_type": "markdown",
   "metadata": {},
   "source": [
    "Here we have requested PNG format using ``fig='png'`` and that the output is output to eclipses.png using ``filename='eclipses'``:"
   ]
  },
  {
   "cell_type": "code",
   "execution_count": null,
   "metadata": {},
   "outputs": [],
   "source": [
    "ls *.png"
   ]
  },
  {
   "cell_type": "markdown",
   "metadata": {},
   "source": [
    "Bokeh also has some SVG support, but it is not yet exposed in HoloViews."
   ]
  },
  {
   "cell_type": "markdown",
   "metadata": {},
   "source": [
    "## Using ``group`` and ``label``"
   ]
  },
  {
   "cell_type": "markdown",
   "metadata": {},
   "source": [
    "The above examples showed how to customize by type, but HoloViews offers multiple additional levels of customization that should be sufficient to cover any purpose. For our last example, let us split our eclipse dataframe based on the type ('Total' or 'Partial'):"
   ]
  },
  {
   "cell_type": "code",
   "execution_count": null,
   "metadata": {
    "collapsed": true
   },
   "outputs": [],
   "source": [
    "total_eclipses = eclipses[eclipses.type=='Total']\n",
    "partial_eclipses = eclipses[eclipses.type=='Partial']"
   ]
  },
  {
   "cell_type": "markdown",
   "metadata": {},
   "source": [
    "We'll now introduce the [``Spikes``](http://build.holoviews.org/reference/elements/bokeh/Spikes.html) element, and display it with a large width and without a y-axis. We can specify those options for all following [``Spikes``](http://build.holoviews.org/reference/elements/bokeh/Spikes.html) elements using the ``%opts`` *line magic*:"
   ]
  },
  {
   "cell_type": "code",
   "execution_count": null,
   "metadata": {
    "collapsed": true
   },
   "outputs": [],
   "source": [
    "%opts Spikes [width=900 yaxis=None] "
   ]
  },
  {
   "cell_type": "markdown",
   "metadata": {},
   "source": [
    "Now let us look at the hour of day at which these two types of eclipses occur (local time) by overlaying the two types of eclipse as [``Spikes``](http://build.holoviews.org/reference/elements/bokeh/Spikes.html) elements.  The problem then is finding a way to visually distinguish the spikes corresponding to the different ellipse types.\n",
    "\n",
    "We can do this using the element ``group`` and ``label`` introduced in the [introduction to elements](./01-introduction-to-elements.ipynb) section as follows:"
   ]
  },
  {
   "cell_type": "code",
   "execution_count": null,
   "metadata": {},
   "outputs": [],
   "source": [
    "%%opts Spikes.Eclipses.Total (line_dash='solid')\n",
    "%%opts Spikes.Eclipses.Partial (line_dash='dotted')\n",
    "total =   hv.Spikes(total_eclipses,   kdims=['hour_local'], vdims=[], group='Eclipses', label='Total')\n",
    "partial = hv.Spikes(partial_eclipses, kdims=['hour_local'], vdims=[], group='Eclipses', label='Partial')\n",
    "(total * partial).redim.label(hour_local='Local time (hour)')"
   ]
  },
  {
   "cell_type": "markdown",
   "metadata": {},
   "source": [
    "Using these options to distinguish between the two categories of data with the same type, you can now see clear patterns of grouping between the two types, with many more total eclipses around noon in local time.  Similar techniques can be used to provide arbitrarily specific customizations when needed."
   ]
  },
  {
   "cell_type": "code",
   "execution_count": null,
   "metadata": {},
   "outputs": [],
   "source": [
    "# Exercise: Remove the two %%opts lines above and observe the effect\n",
    "\n",
    "# Solution: We can no longer distinguish between the total and partial eclipses as they all have solid lines!\n",
    "total =   hv.Spikes(total_eclipses,   kdims=['hour_local'], vdims=[], group='Eclipses', label='Total')\n",
    "partial = hv.Spikes(partial_eclipses, kdims=['hour_local'], vdims=[], group='Eclipses', label='Partial')\n",
    "(total * partial).redim.label(hour_local='Local time (hour)')"
   ]
  },
  {
   "cell_type": "code",
   "execution_count": null,
   "metadata": {},
   "outputs": [],
   "source": [
    "%%opts Spikes.Eclipses.Total (line_dash='solid' color='black')\n",
    "%%opts Spikes.Eclipses.Partial (line_dash='solid' color='lightgray')\n",
    "# Exercise: Show all spikes with 'solid' line_dash, total eclipses in black and the partial ones in 'lightgray'\n",
    "# Note: The %%opts cell magic *must* appear at the top of the code cell!\n",
    "total =   hv.Spikes(total_eclipses,   kdims=['hour_local'], vdims=[], group='Eclipses', label='Total')\n",
    "partial = hv.Spikes(partial_eclipses, kdims=['hour_local'], vdims=[], group='Eclipses', label='Partial')\n",
    "(total * partial).redim.label(hour_local='Local time (hour)')"
   ]
  },
  {
   "cell_type": "code",
   "execution_count": null,
   "metadata": {},
   "outputs": [],
   "source": [
    "%%opts Spikes.Total_Eclipses (line_dash='solid' color='black')\n",
    "%%opts Spikes.Partial_Eclipses (line_dash='solid' color='lightgray')\n",
    "# Optional Exercise: Try differentiating the two sets of spikes by group and not label\n",
    "# Note: The %%opts cell magic *must* appear at the top of the code cell!\n",
    "total =   hv.Spikes(total_eclipses,   kdims=['hour_local'], vdims=[], group='Total_Eclipses')\n",
    "partial = hv.Spikes(partial_eclipses, kdims=['hour_local'], vdims=[], group='Partial_Eclipses')\n",
    "(total * partial).redim.label(hour_local='Local time (hour)')"
   ]
  },
  {
   "cell_type": "markdown",
   "metadata": {},
   "source": [
    "# Onwards\n",
    "\n",
    "We have now seen some of the ways you can customize the appearance of your visualizations. You can consult our [Customizing Plots](http://holoviews.org/user_guide/Customizing_Plots.html) user guide to learn about other approaches, including the ``hv.opts`` and ``hv.output`` utilities which do not rely on notebook specific syntax. One last approach worth mentioning is the ``.opts`` method which accepts a customization specification dictionary or string to customize a particular object directly. When called without any arguments ``.opts()`` clears any customizations that may be set on that object.\n",
    "\n",
    "In the [exploration with containers](./03-exploration-with-containers.ipynb) section that follows, you will also see a few examples of how the appearance of elements can be customized when viewed in containers."
   ]
  }
 ],
 "metadata": {
  "kernelspec": {
   "display_name": "Python 3",
   "language": "python",
   "name": "python3"
  },
  "language_info": {
   "codemirror_mode": {
    "name": "ipython",
    "version": 3
   },
   "file_extension": ".py",
   "mimetype": "text/x-python",
   "name": "python",
   "nbconvert_exporter": "python",
   "pygments_lexer": "ipython3",
   "version": "3.6.1"
  }
 },
 "nbformat": 4,
 "nbformat_minor": 2
}
