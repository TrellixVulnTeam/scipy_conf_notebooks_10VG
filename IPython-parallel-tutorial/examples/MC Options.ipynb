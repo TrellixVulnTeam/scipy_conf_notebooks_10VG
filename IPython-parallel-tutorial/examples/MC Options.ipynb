{
 "metadata": {
  "name": "",
  "signature": "sha256:209151f66e872710532565f2f42c8ee65c33b71fe9eff13118f5791667d90cf8"
 },
 "nbformat": 3,
 "nbformat_minor": 0,
 "worksheets": [
  {
   "cells": [
    {
     "cell_type": "markdown",
     "metadata": {},
     "source": [
      "# Parallel Monto-Carlo options pricing"
     ]
    },
    {
     "cell_type": "markdown",
     "metadata": {},
     "source": [
      "## Problem setup"
     ]
    },
    {
     "cell_type": "code",
     "collapsed": false,
     "input": [
      "%matplotlib inline"
     ],
     "language": "python",
     "metadata": {},
     "outputs": []
    },
    {
     "cell_type": "code",
     "collapsed": true,
     "input": [
      "import sys\n",
      "import time\n",
      "import numpy as np\n",
      "\n",
      "from matplotlib import pyplot as plt\n",
      "try:\n",
      "    import seaborn\n",
      "except ImportError:\n",
      "    pass\n",
      "\n",
      "from IPython import parallel\n"
     ],
     "language": "python",
     "metadata": {},
     "outputs": []
    },
    {
     "cell_type": "code",
     "collapsed": true,
     "input": [
      "def price_options(S=100.0, K=100.0, sigma=0.25, r=0.05, days=260, paths=10000):\n",
      "    \"\"\"\n",
      "    Price European and Asian options using a Monte Carlo method.\n",
      "\n",
      "    Parameters\n",
      "    ----------\n",
      "    S : float\n",
      "        The initial price of the stock.\n",
      "    K : float\n",
      "        The strike price of the option.\n",
      "    sigma : float\n",
      "        The volatility of the stock.\n",
      "    r : float\n",
      "        The risk free interest rate.\n",
      "    days : int\n",
      "        The number of days until the option expires.\n",
      "    paths : int\n",
      "        The number of Monte Carlo paths used to price the option.\n",
      "\n",
      "    Returns\n",
      "    -------\n",
      "    A tuple of (E. call, E. put, A. call, A. put) option prices.\n",
      "    \"\"\"\n",
      "    import numpy as np\n",
      "    from math import exp,sqrt\n",
      "    \n",
      "    h = 1.0/days\n",
      "    const1 = exp((r-0.5*sigma**2)*h)\n",
      "    const2 = sigma*sqrt(h)\n",
      "    stock_price = S*np.ones(paths, dtype='float64')\n",
      "    stock_price_sum = np.zeros(paths, dtype='float64')\n",
      "    for j in range(days):\n",
      "        growth_factor = const1*np.exp(const2*np.random.standard_normal(paths))\n",
      "        stock_price = stock_price*growth_factor\n",
      "        stock_price_sum = stock_price_sum + stock_price\n",
      "    stock_price_avg = stock_price_sum/days\n",
      "    zeros = np.zeros(paths, dtype='float64')\n",
      "    r_factor = exp(-r*h*days)\n",
      "    euro_put = r_factor*np.mean(np.maximum(zeros, K-stock_price))\n",
      "    asian_put = r_factor*np.mean(np.maximum(zeros, K-stock_price_avg))\n",
      "    euro_call = r_factor*np.mean(np.maximum(zeros, stock_price-K))\n",
      "    asian_call = r_factor*np.mean(np.maximum(zeros, stock_price_avg-K))\n",
      "    return (euro_call, euro_put, asian_call, asian_put)"
     ],
     "language": "python",
     "metadata": {},
     "outputs": []
    },
    {
     "cell_type": "code",
     "collapsed": true,
     "input": [
      "price = 100.0  # Initial price\n",
      "rate = 0.05  # Interest rate\n",
      "days = 260  # Days to expiration\n",
      "paths = 10000  # Number of MC paths\n",
      "n_strikes = 6  # Number of strike values\n",
      "min_strike = 90.0  # Min strike price\n",
      "max_strike = 110.0  # Max strike price\n",
      "n_sigmas = 5  # Number of volatility values\n",
      "min_sigma = 0.1  # Min volatility\n",
      "max_sigma = 0.4  # Max volatility"
     ],
     "language": "python",
     "metadata": {},
     "outputs": []
    },
    {
     "cell_type": "code",
     "collapsed": true,
     "input": [
      "strike_vals = np.linspace(min_strike, max_strike, n_strikes)\n",
      "sigma_vals = np.linspace(min_sigma, max_sigma, n_sigmas)"
     ],
     "language": "python",
     "metadata": {},
     "outputs": []
    },
    {
     "cell_type": "markdown",
     "metadata": {},
     "source": [
      "## Parallel computation across strike prices and volatilities"
     ]
    },
    {
     "cell_type": "markdown",
     "metadata": {},
     "source": [
      "The Client is used to setup the calculation and works with all engines."
     ]
    },
    {
     "cell_type": "code",
     "collapsed": false,
     "input": [
      "rc = parallel.Client()"
     ],
     "language": "python",
     "metadata": {},
     "outputs": []
    },
    {
     "cell_type": "markdown",
     "metadata": {},
     "source": [
      "A LoadBalancedView is an interface to the engines that provides dynamic load\n",
      "balancing at the expense of not knowing which engine will execute the code."
     ]
    },
    {
     "cell_type": "code",
     "collapsed": true,
     "input": [
      "view = rc.load_balanced_view()"
     ],
     "language": "python",
     "metadata": {},
     "outputs": []
    },
    {
     "cell_type": "code",
     "collapsed": false,
     "input": [
      "print \"Strike prices: \", strike_vals\n",
      "print \"Volatilities: \", sigma_vals"
     ],
     "language": "python",
     "metadata": {},
     "outputs": []
    },
    {
     "cell_type": "markdown",
     "metadata": {},
     "source": [
      "Submit tasks for each (strike, sigma) pair."
     ]
    },
    {
     "cell_type": "code",
     "collapsed": true,
     "input": [
      "t1 = time.time()\n",
      "async_results = []\n",
      "for strike in strike_vals:\n",
      "    for sigma in sigma_vals:\n",
      "        ar = view.apply_async(price_options, price, strike, sigma, rate, days, paths)\n",
      "        async_results.append(ar)"
     ],
     "language": "python",
     "metadata": {},
     "outputs": []
    },
    {
     "cell_type": "code",
     "collapsed": false,
     "input": [
      "print \"Submitted tasks: \", len(async_results)"
     ],
     "language": "python",
     "metadata": {},
     "outputs": []
    },
    {
     "cell_type": "markdown",
     "metadata": {},
     "source": [
      "Block until all tasks are completed."
     ]
    },
    {
     "cell_type": "code",
     "collapsed": false,
     "input": [
      "rc.wait(async_results)\n",
      "t2 = time.time()\n",
      "t = t2-t1\n",
      "\n",
      "print \"Parallel calculation completed, time = %s s\" % t"
     ],
     "language": "python",
     "metadata": {},
     "outputs": []
    },
    {
     "cell_type": "markdown",
     "metadata": {},
     "source": [
      "## Process and visualize results"
     ]
    },
    {
     "cell_type": "markdown",
     "metadata": {},
     "source": [
      "Get the results using the `get` method:"
     ]
    },
    {
     "cell_type": "code",
     "collapsed": true,
     "input": [
      "results = [ar.get() for ar in async_results]"
     ],
     "language": "python",
     "metadata": {},
     "outputs": []
    },
    {
     "cell_type": "markdown",
     "metadata": {},
     "source": [
      "Assemble the result into a structured NumPy array."
     ]
    },
    {
     "cell_type": "code",
     "collapsed": true,
     "input": [
      "prices = np.empty(n_strikes*n_sigmas,\n",
      "    dtype=[('ecall',float),('eput',float),('acall',float),('aput',float)]\n",
      ")\n",
      "\n",
      "for i, price in enumerate(results):\n",
      "    prices[i] = tuple(price)\n",
      "\n",
      "prices.shape = (n_strikes, n_sigmas)"
     ],
     "language": "python",
     "metadata": {},
     "outputs": []
    },
    {
     "cell_type": "markdown",
     "metadata": {},
     "source": [
      "Plot the value of the European call in (volatility, strike) space."
     ]
    },
    {
     "cell_type": "code",
     "collapsed": false,
     "input": [
      "plt.figure()\n",
      "plt.contourf(sigma_vals, strike_vals, prices['ecall'])\n",
      "plt.axis('tight')\n",
      "plt.colorbar()\n",
      "plt.title('European Call')\n",
      "plt.xlabel(\"Volatility\")\n",
      "plt.ylabel(\"Strike Price\")"
     ],
     "language": "python",
     "metadata": {},
     "outputs": []
    },
    {
     "cell_type": "markdown",
     "metadata": {},
     "source": [
      "Plot the value of the Asian call in (volatility, strike) space."
     ]
    },
    {
     "cell_type": "code",
     "collapsed": false,
     "input": [
      "plt.figure()\n",
      "plt.contourf(sigma_vals, strike_vals, prices['acall'])\n",
      "plt.axis('tight')\n",
      "plt.colorbar()\n",
      "plt.title(\"Asian Call\")\n",
      "plt.xlabel(\"Volatility\")\n",
      "plt.ylabel(\"Strike Price\")"
     ],
     "language": "python",
     "metadata": {},
     "outputs": []
    },
    {
     "cell_type": "markdown",
     "metadata": {},
     "source": [
      "Plot the value of the European put in (volatility, strike) space."
     ]
    },
    {
     "cell_type": "code",
     "collapsed": false,
     "input": [
      "plt.figure()\n",
      "plt.contourf(sigma_vals, strike_vals, prices['eput'])\n",
      "plt.axis('tight')\n",
      "plt.colorbar()\n",
      "plt.title(\"European Put\")\n",
      "plt.xlabel(\"Volatility\")\n",
      "plt.ylabel(\"Strike Price\")"
     ],
     "language": "python",
     "metadata": {},
     "outputs": []
    },
    {
     "cell_type": "markdown",
     "metadata": {},
     "source": [
      "Plot the value of the Asian put in (volatility, strike) space."
     ]
    },
    {
     "cell_type": "code",
     "collapsed": false,
     "input": [
      "plt.figure()\n",
      "plt.contourf(sigma_vals, strike_vals, prices['aput'])\n",
      "plt.axis('tight')\n",
      "plt.colorbar()\n",
      "plt.title(\"Asian Put\")\n",
      "plt.xlabel(\"Volatility\")\n",
      "plt.ylabel(\"Strike Price\")"
     ],
     "language": "python",
     "metadata": {},
     "outputs": []
    }
   ],
   "metadata": {}
  }
 ]
}