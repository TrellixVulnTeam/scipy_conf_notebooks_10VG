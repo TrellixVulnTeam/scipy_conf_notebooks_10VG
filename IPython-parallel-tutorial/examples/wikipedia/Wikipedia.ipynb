{
 "metadata": {
  "name": "",
  "signature": "sha256:07b06af47856760f4b8fd7d0ee04bd3d6d2038a9a1be22dcd94ee62d8df15fe3"
 },
 "nbformat": 3,
 "nbformat_minor": 0,
 "worksheets": [
  {
   "cells": [
    {
     "cell_type": "heading",
     "level": 1,
     "metadata": {},
     "source": [
      "Crawling Wikipedia"
     ]
    },
    {
     "cell_type": "markdown",
     "metadata": {},
     "source": [
      "This notebook crawls links on Wikipedia\n",
      "and visualizes the graph with NetworkX and d3."
     ]
    },
    {
     "cell_type": "code",
     "collapsed": false,
     "input": [
      "%matplotlib inline\n",
      "import matplotlib.pyplot as plt"
     ],
     "language": "python",
     "metadata": {},
     "outputs": []
    },
    {
     "cell_type": "code",
     "collapsed": false,
     "input": [
      "from IPython.html import widgets\n",
      "from IPython.display import display\n",
      "from eventful_graph import EventfulGraph\n",
      "from widget_forcedirectedgraph import ForceDirectedGraphWidget, publish_js\n",
      "publish_js()"
     ],
     "language": "python",
     "metadata": {},
     "outputs": []
    },
    {
     "cell_type": "code",
     "collapsed": false,
     "input": [
      "import networkx as nx"
     ],
     "language": "python",
     "metadata": {},
     "outputs": []
    },
    {
     "cell_type": "code",
     "collapsed": false,
     "input": [
      "from IPython import parallel\n",
      "rc = parallel.Client()\n",
      "lbv = rc.load_balanced_view()"
     ],
     "language": "python",
     "metadata": {},
     "outputs": []
    },
    {
     "cell_type": "code",
     "collapsed": false,
     "input": [
      "%%px --local\n",
      "\n",
      "import requests\n",
      "from bs4 import BeautifulSoup\n",
      "\n",
      "import re\n",
      "wiki_pat = re.compile(r'^/wiki/([^:]*)$')\n"
     ],
     "language": "python",
     "metadata": {},
     "outputs": []
    },
    {
     "cell_type": "code",
     "collapsed": false,
     "input": [
      "def links_for_page(title):\n",
      "    page = BeautifulSoup(requests.get('http://en.wikipedia.org/wiki/%s' % title).text)\n",
      "    links = page.find(\"div\", id=\"content\").findAll(\"a\", href=wiki_pat)\n",
      "    \n",
      "    titles = []\n",
      "    for link in links:\n",
      "        title = wiki_pat.match(link['href']).group(1)\n",
      "        titles.append(title)\n",
      "        \n",
      "    return titles"
     ],
     "language": "python",
     "metadata": {},
     "outputs": []
    },
    {
     "cell_type": "code",
     "collapsed": false,
     "input": [
      "def add_node(g, label, **kwargs):\n",
      "    \"\"\"add a node to a graph, with some default fill and color\"\"\"\n",
      "    kwargs.setdefault('fill', '#ccc')\n",
      "    kwargs.setdefault('color', 'black')\n",
      "    g.add_node(label, label=label, **kwargs)"
     ],
     "language": "python",
     "metadata": {},
     "outputs": []
    },
    {
     "cell_type": "code",
     "collapsed": false,
     "input": [
      "def add_links(graph, src, links):\n",
      "    \"\"\"Add links from src to links in graph\"\"\"\n",
      "    new_nodes = []\n",
      "    add_node(graph, src)\n",
      "    n = len(links)\n",
      "    for i,link in enumerate(links):\n",
      "        if link not in graph:\n",
      "            new_nodes.append(link)\n",
      "            add_node(graph, link)\n",
      "            \n",
      "        graph.add_edge(src, link)#, distance=(i+0.2))\n",
      "    return new_nodes"
     ],
     "language": "python",
     "metadata": {},
     "outputs": []
    },
    {
     "cell_type": "code",
     "collapsed": false,
     "input": [
      "def wikipedia_graph(lbview, root, limit=32, in_degree_limit=3):\n",
      "    \"\"\"build a graph by crawling Wikipedia from a root page\n",
      "    \n",
      "    The visualized graph will be limited to pages linked from several other pages\n",
      "    \"\"\"\n",
      "    graph = nx.DiGraph()\n",
      "    egraph = EventfulGraph()\n",
      "\n",
      "    graph_widget = ForceDirectedGraphWidget(egraph, width=800, height=600)\n",
      "    display(graph_widget)\n",
      "    \n",
      "    add_node(graph, root)\n",
      "    add_node(egraph, root, r=16, fill='#aef')\n",
      "    surface = [root]\n",
      "    while len(egraph) < limit:\n",
      "        surface = [ node for node in graph if graph.out_degree(node) == 0 ]\n",
      "        amr = lbview.map_async(links_for_page, surface)\n",
      "        for i, links in enumerate(amr):\n",
      "            src = surface[i]\n",
      "            links = links[:20]\n",
      "            add_links(graph, src, links)\n",
      "            for node in links:\n",
      "                if graph.in_degree(node) >= in_degree_limit:\n",
      "                    path = nx.shortest_path(graph, root, node)\n",
      "                    prv = root\n",
      "                    for nxt in path[1:]:\n",
      "                        if nxt not in egraph:\n",
      "                            add_node(egraph, nxt)\n",
      "                        egraph.add_edge(prv, nxt)\n",
      "                        egraph.node[nxt]['r'] = min(3 * graph.in_degree(nxt), 24)\n",
      "                        prv = nxt\n",
      "                    for parent in graph.predecessors(node):\n",
      "                        if parent in egraph:\n",
      "                            egraph.add_edge(parent, node)\n",
      "                    egraph.node[node]['r'] = min(3 * graph.in_degree(node), 24)\n",
      "                    for child in graph.successors(node):\n",
      "                        if child in egraph:\n",
      "                            egraph.add_edge(node, child)\n",
      "                            egraph.node[child]['r'] = min(3 * graph.in_degree(child), 24)\n",
      "                    time.sleep(0.3)\n",
      "                if len(egraph) > limit:\n",
      "                    return graph, egraph\n",
      "            print('%s: %i' % (src, len(graph)))\n",
      "            sys.stdout.flush()\n",
      "    return graph, egraph\n",
      "    "
     ],
     "language": "python",
     "metadata": {},
     "outputs": [],
     "prompt_number": 73
    },
    {
     "cell_type": "code",
     "collapsed": false,
     "input": [
      "g, eg = wikipedia_graph(lbv, 'SciPy', limit=20)"
     ],
     "language": "python",
     "metadata": {},
     "outputs": []
    },
    {
     "cell_type": "code",
     "collapsed": false,
     "input": [
      "g, eg = wikipedia_graph(lbv, 'Austin, TX', limit=12)"
     ],
     "language": "python",
     "metadata": {},
     "outputs": []
    },
    {
     "cell_type": "code",
     "collapsed": false,
     "input": [],
     "language": "python",
     "metadata": {},
     "outputs": []
    }
   ],
   "metadata": {}
  }
 ]
}