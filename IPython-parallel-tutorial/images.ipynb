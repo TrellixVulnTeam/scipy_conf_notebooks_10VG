{
 "metadata": {
  "name": "",
  "signature": "sha256:f2e82c16d9cee459e904f8a76e6dc4a91ccbd2bfe24c9be7442156572cdd0966"
 },
 "nbformat": 3,
 "nbformat_minor": 0,
 "worksheets": [
  {
   "cells": [
    {
     "cell_type": "heading",
     "level": 1,
     "metadata": {},
     "source": [
      "Downloading images from Wikimedia Commons"
     ]
    },
    {
     "cell_type": "markdown",
     "metadata": {},
     "source": [
      "This notebook defines a few functions to download images with specified search terms from Wikimedia, via the mediawiki search API.\n",
      "\n",
      "The results are used in the [Parallel face detection notebook](Parallel%20face%20detection.ipynb)."
     ]
    },
    {
     "cell_type": "code",
     "collapsed": false,
     "input": [
      "import sys, os\n",
      "\n",
      "import requests\n",
      "try:\n",
      "    import requests_cache\n",
      "except ImportError:\n",
      "    print(\"no cache, no worries\")\n",
      "else:\n",
      "    requests_cache.install_cache(\"mediawiki\")\n",
      "\n",
      "api_url = \"http://commons.wikimedia.org/w/api.php\""
     ],
     "language": "python",
     "metadata": {},
     "outputs": [
      {
       "output_type": "stream",
       "stream": "stdout",
       "text": [
        "no cache, no worries\n"
       ]
      }
     ],
     "prompt_number": 2
    },
    {
     "cell_type": "code",
     "collapsed": false,
     "input": [
      "def api_request(**kwargs):\n",
      "    \"\"\"Make a request of the Wikimedia Commons API\n",
      "    \n",
      "    Returns data after parsing JSON\n",
      "    \"\"\"\n",
      "    sys.stdout.write('.')\n",
      "    sys.stdout.flush()\n",
      "    \n",
      "\n",
      "    params = dict(\n",
      "        action='query',\n",
      "        format='json',\n",
      "    )\n",
      "    params.update(kwargs)\n",
      "    r = requests.get(api_url, params=params)\n",
      "    r.raise_for_status()\n",
      "    return r.json()\n",
      "\n",
      "\n",
      "import json\n",
      "\n",
      "def search_images(search, limit=100, size_limit=400000):\n",
      "    \"\"\"search wikimedia commons for a given term\n",
      "    \n",
      "    returns a list of `limit` URLs for images\n",
      "    \"\"\"\n",
      "    urls = []\n",
      "    continue_params = {}\n",
      "    while limit > 0:\n",
      "        data = api_request(\n",
      "                srnamespace=6,\n",
      "                prop='imageinfo',\n",
      "                list='search',\n",
      "                srsearch=search,\n",
      "                srlimit=min(limit, 50),\n",
      "                **continue_params\n",
      "        )\n",
      "        continue_params = data['query-continue']['search']\n",
      "        total = data['query']['searchinfo']['totalhits']\n",
      "        results = data['query']['search']\n",
      "        for r in results:\n",
      "            title = r['title']\n",
      "            data = api_request(\n",
      "                            prop='imageinfo',\n",
      "                            titles=title,\n",
      "                            iiprop='url|size|mime')\n",
      "            imageinfo = data['query']['pages'].values()[0]['imageinfo'][0]\n",
      "            if imageinfo['mime'] in ('image/png', 'image/jpeg') and imageinfo['size'] <= size_limit:\n",
      "                urls.append(imageinfo['url'])\n",
      "                limit -= 1\n",
      " \n",
      "    return urls"
     ],
     "language": "python",
     "metadata": {},
     "outputs": [],
     "prompt_number": 3
    },
    {
     "cell_type": "code",
     "collapsed": false,
     "input": [
      "def download_images(search, n):\n",
      "    \"\"\"download images from mediawiki commons to folders based on the search term\"\"\"\n",
      "    if not os.path.exists('images'):\n",
      "        os.mkdir('images')\n",
      "    tagdir = os.path.join('images', search)\n",
      "    if not os.path.exists(tagdir):\n",
      "        os.mkdir(tagdir)\n",
      "    for url in search_images(search, n):\n",
      "        r = requests.get(url)\n",
      "        fname = url.rsplit('/')[-1]\n",
      "        dest = os.path.join(tagdir, fname)\n",
      "        # print(\"downloading %s => %s\" % (url, dest))\n",
      "        sys.stdout.write('+')\n",
      "        sys.stdout.flush()\n",
      "        with open(dest, 'wb') as f:\n",
      "            f.write(r.content)"
     ],
     "language": "python",
     "metadata": {},
     "outputs": [],
     "prompt_number": 4
    },
    {
     "cell_type": "code",
     "collapsed": false,
     "input": [
      "download_images('portrait', 100)"
     ],
     "language": "python",
     "metadata": {},
     "outputs": [
      {
       "output_type": "stream",
       "stream": "stdout",
       "text": [
        "."
       ]
      },
      {
       "output_type": "stream",
       "stream": "stdout",
       "text": [
        "."
       ]
      },
      {
       "output_type": "stream",
       "stream": "stdout",
       "text": [
        "."
       ]
      },
      {
       "output_type": "stream",
       "stream": "stdout",
       "text": [
        "."
       ]
      },
      {
       "output_type": "stream",
       "stream": "stdout",
       "text": [
        "."
       ]
      },
      {
       "output_type": "stream",
       "stream": "stdout",
       "text": [
        "."
       ]
      },
      {
       "output_type": "stream",
       "stream": "stdout",
       "text": [
        "."
       ]
      },
      {
       "output_type": "stream",
       "stream": "stdout",
       "text": [
        "."
       ]
      },
      {
       "output_type": "stream",
       "stream": "stdout",
       "text": [
        "."
       ]
      },
      {
       "output_type": "stream",
       "stream": "stdout",
       "text": [
        "."
       ]
      },
      {
       "output_type": "stream",
       "stream": "stdout",
       "text": [
        "."
       ]
      },
      {
       "output_type": "stream",
       "stream": "stdout",
       "text": [
        "."
       ]
      },
      {
       "output_type": "stream",
       "stream": "stdout",
       "text": [
        "."
       ]
      },
      {
       "output_type": "stream",
       "stream": "stdout",
       "text": [
        "."
       ]
      },
      {
       "output_type": "stream",
       "stream": "stdout",
       "text": [
        "."
       ]
      },
      {
       "output_type": "stream",
       "stream": "stdout",
       "text": [
        "."
       ]
      },
      {
       "output_type": "stream",
       "stream": "stdout",
       "text": [
        "."
       ]
      },
      {
       "output_type": "stream",
       "stream": "stdout",
       "text": [
        "."
       ]
      },
      {
       "output_type": "stream",
       "stream": "stdout",
       "text": [
        "."
       ]
      },
      {
       "output_type": "stream",
       "stream": "stdout",
       "text": [
        "."
       ]
      },
      {
       "output_type": "stream",
       "stream": "stdout",
       "text": [
        "."
       ]
      },
      {
       "output_type": "stream",
       "stream": "stdout",
       "text": [
        "."
       ]
      },
      {
       "output_type": "stream",
       "stream": "stdout",
       "text": [
        "."
       ]
      },
      {
       "output_type": "stream",
       "stream": "stdout",
       "text": [
        "."
       ]
      },
      {
       "output_type": "stream",
       "stream": "stdout",
       "text": [
        "."
       ]
      },
      {
       "output_type": "stream",
       "stream": "stdout",
       "text": [
        "."
       ]
      },
      {
       "output_type": "stream",
       "stream": "stdout",
       "text": [
        "."
       ]
      },
      {
       "output_type": "stream",
       "stream": "stdout",
       "text": [
        "."
       ]
      },
      {
       "output_type": "stream",
       "stream": "stdout",
       "text": [
        "."
       ]
      },
      {
       "output_type": "stream",
       "stream": "stdout",
       "text": [
        "."
       ]
      },
      {
       "output_type": "stream",
       "stream": "stdout",
       "text": [
        "."
       ]
      },
      {
       "output_type": "stream",
       "stream": "stdout",
       "text": [
        "."
       ]
      },
      {
       "output_type": "stream",
       "stream": "stdout",
       "text": [
        "."
       ]
      },
      {
       "output_type": "stream",
       "stream": "stdout",
       "text": [
        "."
       ]
      },
      {
       "output_type": "stream",
       "stream": "stdout",
       "text": [
        "."
       ]
      },
      {
       "output_type": "stream",
       "stream": "stdout",
       "text": [
        "."
       ]
      },
      {
       "output_type": "stream",
       "stream": "stdout",
       "text": [
        "."
       ]
      },
      {
       "output_type": "stream",
       "stream": "stdout",
       "text": [
        "."
       ]
      },
      {
       "output_type": "stream",
       "stream": "stdout",
       "text": [
        "."
       ]
      },
      {
       "output_type": "stream",
       "stream": "stdout",
       "text": [
        "."
       ]
      },
      {
       "output_type": "stream",
       "stream": "stdout",
       "text": [
        "."
       ]
      },
      {
       "output_type": "stream",
       "stream": "stdout",
       "text": [
        "."
       ]
      },
      {
       "output_type": "stream",
       "stream": "stdout",
       "text": [
        "."
       ]
      },
      {
       "output_type": "stream",
       "stream": "stdout",
       "text": [
        "."
       ]
      },
      {
       "output_type": "stream",
       "stream": "stdout",
       "text": [
        "."
       ]
      },
      {
       "output_type": "stream",
       "stream": "stdout",
       "text": [
        "."
       ]
      },
      {
       "output_type": "stream",
       "stream": "stdout",
       "text": [
        "."
       ]
      },
      {
       "output_type": "stream",
       "stream": "stdout",
       "text": [
        "."
       ]
      },
      {
       "output_type": "stream",
       "stream": "stdout",
       "text": [
        "."
       ]
      },
      {
       "output_type": "stream",
       "stream": "stdout",
       "text": [
        "."
       ]
      },
      {
       "output_type": "stream",
       "stream": "stdout",
       "text": [
        "."
       ]
      },
      {
       "output_type": "stream",
       "stream": "stdout",
       "text": [
        "."
       ]
      },
      {
       "output_type": "stream",
       "stream": "stdout",
       "text": [
        "."
       ]
      },
      {
       "output_type": "stream",
       "stream": "stdout",
       "text": [
        "."
       ]
      },
      {
       "output_type": "stream",
       "stream": "stdout",
       "text": [
        "."
       ]
      },
      {
       "output_type": "stream",
       "stream": "stdout",
       "text": [
        "."
       ]
      },
      {
       "output_type": "stream",
       "stream": "stdout",
       "text": [
        "."
       ]
      },
      {
       "output_type": "stream",
       "stream": "stdout",
       "text": [
        "."
       ]
      },
      {
       "output_type": "stream",
       "stream": "stdout",
       "text": [
        "."
       ]
      },
      {
       "output_type": "stream",
       "stream": "stdout",
       "text": [
        "."
       ]
      },
      {
       "output_type": "stream",
       "stream": "stdout",
       "text": [
        "."
       ]
      },
      {
       "output_type": "stream",
       "stream": "stdout",
       "text": [
        "."
       ]
      },
      {
       "output_type": "stream",
       "stream": "stdout",
       "text": [
        "."
       ]
      },
      {
       "output_type": "stream",
       "stream": "stdout",
       "text": [
        "."
       ]
      },
      {
       "output_type": "stream",
       "stream": "stdout",
       "text": [
        "."
       ]
      },
      {
       "output_type": "stream",
       "stream": "stdout",
       "text": [
        "."
       ]
      },
      {
       "output_type": "stream",
       "stream": "stdout",
       "text": [
        "."
       ]
      },
      {
       "output_type": "stream",
       "stream": "stdout",
       "text": [
        "."
       ]
      },
      {
       "output_type": "stream",
       "stream": "stdout",
       "text": [
        "."
       ]
      },
      {
       "output_type": "stream",
       "stream": "stdout",
       "text": [
        "."
       ]
      },
      {
       "output_type": "stream",
       "stream": "stdout",
       "text": [
        "."
       ]
      },
      {
       "output_type": "stream",
       "stream": "stdout",
       "text": [
        "."
       ]
      },
      {
       "output_type": "stream",
       "stream": "stdout",
       "text": [
        "."
       ]
      },
      {
       "output_type": "stream",
       "stream": "stdout",
       "text": [
        "."
       ]
      },
      {
       "output_type": "stream",
       "stream": "stdout",
       "text": [
        "."
       ]
      },
      {
       "output_type": "stream",
       "stream": "stdout",
       "text": [
        "."
       ]
      },
      {
       "output_type": "stream",
       "stream": "stdout",
       "text": [
        "."
       ]
      },
      {
       "output_type": "stream",
       "stream": "stdout",
       "text": [
        "."
       ]
      },
      {
       "output_type": "stream",
       "stream": "stdout",
       "text": [
        "."
       ]
      },
      {
       "output_type": "stream",
       "stream": "stdout",
       "text": [
        "."
       ]
      },
      {
       "output_type": "stream",
       "stream": "stdout",
       "text": [
        "."
       ]
      },
      {
       "output_type": "stream",
       "stream": "stdout",
       "text": [
        "."
       ]
      },
      {
       "output_type": "stream",
       "stream": "stdout",
       "text": [
        "."
       ]
      },
      {
       "output_type": "stream",
       "stream": "stdout",
       "text": [
        "."
       ]
      },
      {
       "output_type": "stream",
       "stream": "stdout",
       "text": [
        "."
       ]
      },
      {
       "output_type": "stream",
       "stream": "stdout",
       "text": [
        "."
       ]
      },
      {
       "output_type": "stream",
       "stream": "stdout",
       "text": [
        "."
       ]
      },
      {
       "output_type": "stream",
       "stream": "stdout",
       "text": [
        "."
       ]
      },
      {
       "output_type": "stream",
       "stream": "stdout",
       "text": [
        "."
       ]
      },
      {
       "output_type": "stream",
       "stream": "stdout",
       "text": [
        "."
       ]
      },
      {
       "output_type": "stream",
       "stream": "stdout",
       "text": [
        "."
       ]
      },
      {
       "output_type": "stream",
       "stream": "stdout",
       "text": [
        "."
       ]
      },
      {
       "output_type": "stream",
       "stream": "stdout",
       "text": [
        "."
       ]
      },
      {
       "output_type": "stream",
       "stream": "stdout",
       "text": [
        "."
       ]
      },
      {
       "output_type": "stream",
       "stream": "stdout",
       "text": [
        "."
       ]
      },
      {
       "output_type": "stream",
       "stream": "stdout",
       "text": [
        "."
       ]
      },
      {
       "output_type": "stream",
       "stream": "stdout",
       "text": [
        "."
       ]
      },
      {
       "output_type": "stream",
       "stream": "stdout",
       "text": [
        "."
       ]
      },
      {
       "output_type": "stream",
       "stream": "stdout",
       "text": [
        "."
       ]
      },
      {
       "output_type": "stream",
       "stream": "stdout",
       "text": [
        "."
       ]
      },
      {
       "output_type": "stream",
       "stream": "stdout",
       "text": [
        "."
       ]
      },
      {
       "output_type": "stream",
       "stream": "stdout",
       "text": [
        "."
       ]
      },
      {
       "output_type": "stream",
       "stream": "stdout",
       "text": [
        "."
       ]
      },
      {
       "output_type": "stream",
       "stream": "stdout",
       "text": [
        "."
       ]
      },
      {
       "output_type": "stream",
       "stream": "stdout",
       "text": [
        "."
       ]
      },
      {
       "output_type": "stream",
       "stream": "stdout",
       "text": [
        "."
       ]
      },
      {
       "output_type": "stream",
       "stream": "stdout",
       "text": [
        "."
       ]
      },
      {
       "output_type": "stream",
       "stream": "stdout",
       "text": [
        "."
       ]
      },
      {
       "output_type": "stream",
       "stream": "stdout",
       "text": [
        "."
       ]
      },
      {
       "output_type": "stream",
       "stream": "stdout",
       "text": [
        "."
       ]
      },
      {
       "output_type": "stream",
       "stream": "stdout",
       "text": [
        "."
       ]
      },
      {
       "output_type": "stream",
       "stream": "stdout",
       "text": [
        "."
       ]
      },
      {
       "output_type": "stream",
       "stream": "stdout",
       "text": [
        "."
       ]
      },
      {
       "output_type": "stream",
       "stream": "stdout",
       "text": [
        "."
       ]
      },
      {
       "output_type": "stream",
       "stream": "stdout",
       "text": [
        "."
       ]
      },
      {
       "output_type": "stream",
       "stream": "stdout",
       "text": [
        "."
       ]
      },
      {
       "output_type": "stream",
       "stream": "stdout",
       "text": [
        "."
       ]
      },
      {
       "output_type": "stream",
       "stream": "stdout",
       "text": [
        "."
       ]
      },
      {
       "output_type": "stream",
       "stream": "stdout",
       "text": [
        "."
       ]
      },
      {
       "output_type": "stream",
       "stream": "stdout",
       "text": [
        "."
       ]
      },
      {
       "output_type": "stream",
       "stream": "stdout",
       "text": [
        "."
       ]
      },
      {
       "output_type": "stream",
       "stream": "stdout",
       "text": [
        "."
       ]
      },
      {
       "output_type": "stream",
       "stream": "stdout",
       "text": [
        "."
       ]
      },
      {
       "output_type": "stream",
       "stream": "stdout",
       "text": [
        "."
       ]
      },
      {
       "output_type": "stream",
       "stream": "stdout",
       "text": [
        "."
       ]
      },
      {
       "output_type": "stream",
       "stream": "stdout",
       "text": [
        "."
       ]
      },
      {
       "output_type": "stream",
       "stream": "stdout",
       "text": [
        "."
       ]
      },
      {
       "output_type": "stream",
       "stream": "stdout",
       "text": [
        "."
       ]
      },
      {
       "output_type": "stream",
       "stream": "stdout",
       "text": [
        "."
       ]
      },
      {
       "output_type": "stream",
       "stream": "stdout",
       "text": [
        "."
       ]
      },
      {
       "output_type": "stream",
       "stream": "stdout",
       "text": [
        "."
       ]
      },
      {
       "output_type": "stream",
       "stream": "stdout",
       "text": [
        "."
       ]
      },
      {
       "output_type": "stream",
       "stream": "stdout",
       "text": [
        "."
       ]
      },
      {
       "output_type": "stream",
       "stream": "stdout",
       "text": [
        "."
       ]
      },
      {
       "output_type": "stream",
       "stream": "stdout",
       "text": [
        "."
       ]
      },
      {
       "output_type": "stream",
       "stream": "stdout",
       "text": [
        "."
       ]
      },
      {
       "output_type": "stream",
       "stream": "stdout",
       "text": [
        "."
       ]
      },
      {
       "output_type": "stream",
       "stream": "stdout",
       "text": [
        "."
       ]
      },
      {
       "output_type": "stream",
       "stream": "stdout",
       "text": [
        "."
       ]
      },
      {
       "output_type": "stream",
       "stream": "stdout",
       "text": [
        "."
       ]
      },
      {
       "output_type": "stream",
       "stream": "stdout",
       "text": [
        "."
       ]
      },
      {
       "output_type": "stream",
       "stream": "stdout",
       "text": [
        "."
       ]
      },
      {
       "output_type": "stream",
       "stream": "stdout",
       "text": [
        "."
       ]
      },
      {
       "output_type": "stream",
       "stream": "stdout",
       "text": [
        "."
       ]
      },
      {
       "output_type": "stream",
       "stream": "stdout",
       "text": [
        "."
       ]
      },
      {
       "output_type": "stream",
       "stream": "stdout",
       "text": [
        "."
       ]
      },
      {
       "output_type": "stream",
       "stream": "stdout",
       "text": [
        "."
       ]
      },
      {
       "output_type": "stream",
       "stream": "stdout",
       "text": [
        "."
       ]
      },
      {
       "output_type": "stream",
       "stream": "stdout",
       "text": [
        "."
       ]
      },
      {
       "output_type": "stream",
       "stream": "stdout",
       "text": [
        "."
       ]
      },
      {
       "output_type": "stream",
       "stream": "stdout",
       "text": [
        "."
       ]
      },
      {
       "output_type": "stream",
       "stream": "stdout",
       "text": [
        "."
       ]
      },
      {
       "output_type": "stream",
       "stream": "stdout",
       "text": [
        "."
       ]
      },
      {
       "output_type": "stream",
       "stream": "stdout",
       "text": [
        "."
       ]
      },
      {
       "output_type": "stream",
       "stream": "stdout",
       "text": [
        "."
       ]
      },
      {
       "output_type": "stream",
       "stream": "stdout",
       "text": [
        "."
       ]
      },
      {
       "output_type": "stream",
       "stream": "stdout",
       "text": [
        "."
       ]
      },
      {
       "output_type": "stream",
       "stream": "stdout",
       "text": [
        "."
       ]
      },
      {
       "output_type": "stream",
       "stream": "stdout",
       "text": [
        "."
       ]
      },
      {
       "output_type": "stream",
       "stream": "stdout",
       "text": [
        "."
       ]
      },
      {
       "output_type": "stream",
       "stream": "stdout",
       "text": [
        "."
       ]
      },
      {
       "output_type": "stream",
       "stream": "stdout",
       "text": [
        "."
       ]
      },
      {
       "output_type": "stream",
       "stream": "stdout",
       "text": [
        "."
       ]
      },
      {
       "output_type": "stream",
       "stream": "stdout",
       "text": [
        "."
       ]
      },
      {
       "output_type": "stream",
       "stream": "stdout",
       "text": [
        "+"
       ]
      },
      {
       "output_type": "stream",
       "stream": "stdout",
       "text": [
        "+"
       ]
      },
      {
       "output_type": "stream",
       "stream": "stdout",
       "text": [
        "+"
       ]
      },
      {
       "output_type": "stream",
       "stream": "stdout",
       "text": [
        "+"
       ]
      },
      {
       "output_type": "stream",
       "stream": "stdout",
       "text": [
        "+"
       ]
      },
      {
       "output_type": "stream",
       "stream": "stdout",
       "text": [
        "+"
       ]
      },
      {
       "output_type": "stream",
       "stream": "stdout",
       "text": [
        "+"
       ]
      },
      {
       "output_type": "stream",
       "stream": "stdout",
       "text": [
        "+"
       ]
      },
      {
       "output_type": "stream",
       "stream": "stdout",
       "text": [
        "+"
       ]
      },
      {
       "output_type": "stream",
       "stream": "stdout",
       "text": [
        "+"
       ]
      },
      {
       "output_type": "stream",
       "stream": "stdout",
       "text": [
        "+"
       ]
      },
      {
       "output_type": "stream",
       "stream": "stdout",
       "text": [
        "+"
       ]
      },
      {
       "output_type": "stream",
       "stream": "stdout",
       "text": [
        "+"
       ]
      },
      {
       "output_type": "stream",
       "stream": "stdout",
       "text": [
        "+"
       ]
      },
      {
       "output_type": "stream",
       "stream": "stdout",
       "text": [
        "+"
       ]
      },
      {
       "output_type": "stream",
       "stream": "stdout",
       "text": [
        "+"
       ]
      },
      {
       "output_type": "stream",
       "stream": "stdout",
       "text": [
        "+"
       ]
      },
      {
       "output_type": "stream",
       "stream": "stdout",
       "text": [
        "+"
       ]
      },
      {
       "output_type": "stream",
       "stream": "stdout",
       "text": [
        "+"
       ]
      },
      {
       "output_type": "stream",
       "stream": "stdout",
       "text": [
        "+"
       ]
      },
      {
       "output_type": "stream",
       "stream": "stdout",
       "text": [
        "+"
       ]
      },
      {
       "output_type": "stream",
       "stream": "stdout",
       "text": [
        "+"
       ]
      },
      {
       "output_type": "stream",
       "stream": "stdout",
       "text": [
        "+"
       ]
      },
      {
       "output_type": "stream",
       "stream": "stdout",
       "text": [
        "+"
       ]
      },
      {
       "output_type": "stream",
       "stream": "stdout",
       "text": [
        "+"
       ]
      },
      {
       "output_type": "stream",
       "stream": "stdout",
       "text": [
        "+"
       ]
      },
      {
       "output_type": "stream",
       "stream": "stdout",
       "text": [
        "+"
       ]
      },
      {
       "output_type": "stream",
       "stream": "stdout",
       "text": [
        "+"
       ]
      },
      {
       "output_type": "stream",
       "stream": "stdout",
       "text": [
        "+"
       ]
      },
      {
       "output_type": "stream",
       "stream": "stdout",
       "text": [
        "+"
       ]
      },
      {
       "output_type": "stream",
       "stream": "stdout",
       "text": [
        "+"
       ]
      },
      {
       "output_type": "stream",
       "stream": "stdout",
       "text": [
        "+"
       ]
      },
      {
       "output_type": "stream",
       "stream": "stdout",
       "text": [
        "+"
       ]
      },
      {
       "output_type": "stream",
       "stream": "stdout",
       "text": [
        "+"
       ]
      },
      {
       "output_type": "stream",
       "stream": "stdout",
       "text": [
        "+"
       ]
      },
      {
       "output_type": "stream",
       "stream": "stdout",
       "text": [
        "+"
       ]
      },
      {
       "output_type": "stream",
       "stream": "stdout",
       "text": [
        "+"
       ]
      },
      {
       "output_type": "stream",
       "stream": "stdout",
       "text": [
        "+"
       ]
      },
      {
       "output_type": "stream",
       "stream": "stdout",
       "text": [
        "+"
       ]
      },
      {
       "output_type": "stream",
       "stream": "stdout",
       "text": [
        "+"
       ]
      },
      {
       "output_type": "stream",
       "stream": "stdout",
       "text": [
        "+"
       ]
      },
      {
       "output_type": "stream",
       "stream": "stdout",
       "text": [
        "+"
       ]
      },
      {
       "output_type": "stream",
       "stream": "stdout",
       "text": [
        "+"
       ]
      },
      {
       "output_type": "stream",
       "stream": "stdout",
       "text": [
        "+"
       ]
      },
      {
       "output_type": "stream",
       "stream": "stdout",
       "text": [
        "+"
       ]
      },
      {
       "output_type": "stream",
       "stream": "stdout",
       "text": [
        "+"
       ]
      },
      {
       "output_type": "stream",
       "stream": "stdout",
       "text": [
        "+"
       ]
      },
      {
       "output_type": "stream",
       "stream": "stdout",
       "text": [
        "+"
       ]
      },
      {
       "output_type": "stream",
       "stream": "stdout",
       "text": [
        "+"
       ]
      },
      {
       "output_type": "stream",
       "stream": "stdout",
       "text": [
        "+"
       ]
      },
      {
       "output_type": "stream",
       "stream": "stdout",
       "text": [
        "+"
       ]
      },
      {
       "output_type": "stream",
       "stream": "stdout",
       "text": [
        "+"
       ]
      },
      {
       "output_type": "stream",
       "stream": "stdout",
       "text": [
        "+"
       ]
      },
      {
       "output_type": "stream",
       "stream": "stdout",
       "text": [
        "+"
       ]
      },
      {
       "output_type": "stream",
       "stream": "stdout",
       "text": [
        "+"
       ]
      },
      {
       "output_type": "stream",
       "stream": "stdout",
       "text": [
        "+"
       ]
      },
      {
       "output_type": "stream",
       "stream": "stdout",
       "text": [
        "+"
       ]
      },
      {
       "output_type": "stream",
       "stream": "stdout",
       "text": [
        "+"
       ]
      },
      {
       "output_type": "stream",
       "stream": "stdout",
       "text": [
        "+"
       ]
      },
      {
       "output_type": "stream",
       "stream": "stdout",
       "text": [
        "+"
       ]
      },
      {
       "output_type": "stream",
       "stream": "stdout",
       "text": [
        "+"
       ]
      },
      {
       "output_type": "stream",
       "stream": "stdout",
       "text": [
        "+"
       ]
      },
      {
       "output_type": "stream",
       "stream": "stdout",
       "text": [
        "+"
       ]
      },
      {
       "output_type": "stream",
       "stream": "stdout",
       "text": [
        "+"
       ]
      },
      {
       "output_type": "stream",
       "stream": "stdout",
       "text": [
        "+"
       ]
      },
      {
       "output_type": "stream",
       "stream": "stdout",
       "text": [
        "+"
       ]
      },
      {
       "output_type": "stream",
       "stream": "stdout",
       "text": [
        "+"
       ]
      },
      {
       "output_type": "stream",
       "stream": "stdout",
       "text": [
        "+"
       ]
      },
      {
       "output_type": "stream",
       "stream": "stdout",
       "text": [
        "+"
       ]
      },
      {
       "output_type": "stream",
       "stream": "stdout",
       "text": [
        "+"
       ]
      },
      {
       "output_type": "stream",
       "stream": "stdout",
       "text": [
        "+"
       ]
      },
      {
       "output_type": "stream",
       "stream": "stdout",
       "text": [
        "+"
       ]
      },
      {
       "output_type": "stream",
       "stream": "stdout",
       "text": [
        "+"
       ]
      },
      {
       "output_type": "stream",
       "stream": "stdout",
       "text": [
        "+"
       ]
      },
      {
       "output_type": "stream",
       "stream": "stdout",
       "text": [
        "+"
       ]
      },
      {
       "output_type": "stream",
       "stream": "stdout",
       "text": [
        "+"
       ]
      },
      {
       "output_type": "stream",
       "stream": "stdout",
       "text": [
        "+"
       ]
      },
      {
       "output_type": "stream",
       "stream": "stdout",
       "text": [
        "+"
       ]
      },
      {
       "output_type": "stream",
       "stream": "stdout",
       "text": [
        "+"
       ]
      },
      {
       "output_type": "stream",
       "stream": "stdout",
       "text": [
        "+"
       ]
      },
      {
       "output_type": "stream",
       "stream": "stdout",
       "text": [
        "+"
       ]
      },
      {
       "output_type": "stream",
       "stream": "stdout",
       "text": [
        "+"
       ]
      },
      {
       "output_type": "stream",
       "stream": "stdout",
       "text": [
        "+"
       ]
      },
      {
       "output_type": "stream",
       "stream": "stdout",
       "text": [
        "+"
       ]
      },
      {
       "output_type": "stream",
       "stream": "stdout",
       "text": [
        "+"
       ]
      },
      {
       "output_type": "stream",
       "stream": "stdout",
       "text": [
        "+"
       ]
      },
      {
       "output_type": "stream",
       "stream": "stdout",
       "text": [
        "+"
       ]
      },
      {
       "output_type": "stream",
       "stream": "stdout",
       "text": [
        "+"
       ]
      },
      {
       "output_type": "stream",
       "stream": "stdout",
       "text": [
        "+"
       ]
      },
      {
       "output_type": "stream",
       "stream": "stdout",
       "text": [
        "+"
       ]
      },
      {
       "output_type": "stream",
       "stream": "stdout",
       "text": [
        "+"
       ]
      },
      {
       "output_type": "stream",
       "stream": "stdout",
       "text": [
        "+"
       ]
      },
      {
       "output_type": "stream",
       "stream": "stdout",
       "text": [
        "+"
       ]
      },
      {
       "output_type": "stream",
       "stream": "stdout",
       "text": [
        "+"
       ]
      },
      {
       "output_type": "stream",
       "stream": "stdout",
       "text": [
        "+"
       ]
      },
      {
       "output_type": "stream",
       "stream": "stdout",
       "text": [
        "+"
       ]
      },
      {
       "output_type": "stream",
       "stream": "stdout",
       "text": [
        "+"
       ]
      },
      {
       "output_type": "stream",
       "stream": "stdout",
       "text": [
        "+"
       ]
      },
      {
       "output_type": "stream",
       "stream": "stdout",
       "text": [
        "+"
       ]
      },
      {
       "output_type": "stream",
       "stream": "stdout",
       "text": [
        "+"
       ]
      }
     ],
     "prompt_number": 5
    },
    {
     "cell_type": "code",
     "collapsed": false,
     "input": [
      "download_images('face', 100)"
     ],
     "language": "python",
     "metadata": {},
     "outputs": [
      {
       "output_type": "stream",
       "stream": "stdout",
       "text": [
        "."
       ]
      },
      {
       "output_type": "stream",
       "stream": "stdout",
       "text": [
        "."
       ]
      },
      {
       "output_type": "stream",
       "stream": "stdout",
       "text": [
        "."
       ]
      },
      {
       "output_type": "stream",
       "stream": "stdout",
       "text": [
        "."
       ]
      },
      {
       "output_type": "stream",
       "stream": "stdout",
       "text": [
        "."
       ]
      },
      {
       "output_type": "stream",
       "stream": "stdout",
       "text": [
        "."
       ]
      },
      {
       "output_type": "stream",
       "stream": "stdout",
       "text": [
        "."
       ]
      },
      {
       "output_type": "stream",
       "stream": "stdout",
       "text": [
        "."
       ]
      },
      {
       "output_type": "stream",
       "stream": "stdout",
       "text": [
        "."
       ]
      },
      {
       "output_type": "stream",
       "stream": "stdout",
       "text": [
        "."
       ]
      },
      {
       "output_type": "stream",
       "stream": "stdout",
       "text": [
        "."
       ]
      },
      {
       "output_type": "stream",
       "stream": "stdout",
       "text": [
        "."
       ]
      },
      {
       "output_type": "stream",
       "stream": "stdout",
       "text": [
        "."
       ]
      },
      {
       "output_type": "stream",
       "stream": "stdout",
       "text": [
        "."
       ]
      },
      {
       "output_type": "stream",
       "stream": "stdout",
       "text": [
        "."
       ]
      },
      {
       "output_type": "stream",
       "stream": "stdout",
       "text": [
        "."
       ]
      },
      {
       "output_type": "stream",
       "stream": "stdout",
       "text": [
        "."
       ]
      },
      {
       "output_type": "stream",
       "stream": "stdout",
       "text": [
        "."
       ]
      },
      {
       "output_type": "stream",
       "stream": "stdout",
       "text": [
        "."
       ]
      },
      {
       "output_type": "stream",
       "stream": "stdout",
       "text": [
        "."
       ]
      },
      {
       "output_type": "stream",
       "stream": "stdout",
       "text": [
        "."
       ]
      },
      {
       "output_type": "stream",
       "stream": "stdout",
       "text": [
        "."
       ]
      },
      {
       "output_type": "stream",
       "stream": "stdout",
       "text": [
        "."
       ]
      },
      {
       "output_type": "stream",
       "stream": "stdout",
       "text": [
        "."
       ]
      },
      {
       "output_type": "stream",
       "stream": "stdout",
       "text": [
        "."
       ]
      },
      {
       "output_type": "stream",
       "stream": "stdout",
       "text": [
        "."
       ]
      },
      {
       "output_type": "stream",
       "stream": "stdout",
       "text": [
        "."
       ]
      },
      {
       "output_type": "stream",
       "stream": "stdout",
       "text": [
        "."
       ]
      },
      {
       "output_type": "stream",
       "stream": "stdout",
       "text": [
        "."
       ]
      },
      {
       "output_type": "stream",
       "stream": "stdout",
       "text": [
        "."
       ]
      },
      {
       "output_type": "stream",
       "stream": "stdout",
       "text": [
        "."
       ]
      },
      {
       "output_type": "stream",
       "stream": "stdout",
       "text": [
        "."
       ]
      },
      {
       "output_type": "stream",
       "stream": "stdout",
       "text": [
        "."
       ]
      },
      {
       "output_type": "stream",
       "stream": "stdout",
       "text": [
        "."
       ]
      },
      {
       "output_type": "stream",
       "stream": "stdout",
       "text": [
        "."
       ]
      },
      {
       "output_type": "stream",
       "stream": "stdout",
       "text": [
        "."
       ]
      },
      {
       "output_type": "stream",
       "stream": "stdout",
       "text": [
        "."
       ]
      },
      {
       "output_type": "stream",
       "stream": "stdout",
       "text": [
        "."
       ]
      },
      {
       "output_type": "stream",
       "stream": "stdout",
       "text": [
        "."
       ]
      },
      {
       "output_type": "stream",
       "stream": "stdout",
       "text": [
        "."
       ]
      },
      {
       "output_type": "stream",
       "stream": "stdout",
       "text": [
        "."
       ]
      },
      {
       "output_type": "stream",
       "stream": "stdout",
       "text": [
        "."
       ]
      },
      {
       "output_type": "stream",
       "stream": "stdout",
       "text": [
        "."
       ]
      },
      {
       "output_type": "stream",
       "stream": "stdout",
       "text": [
        "."
       ]
      },
      {
       "output_type": "stream",
       "stream": "stdout",
       "text": [
        "."
       ]
      },
      {
       "output_type": "stream",
       "stream": "stdout",
       "text": [
        "."
       ]
      },
      {
       "output_type": "stream",
       "stream": "stdout",
       "text": [
        "."
       ]
      },
      {
       "output_type": "stream",
       "stream": "stdout",
       "text": [
        "."
       ]
      },
      {
       "output_type": "stream",
       "stream": "stdout",
       "text": [
        "."
       ]
      },
      {
       "output_type": "stream",
       "stream": "stdout",
       "text": [
        "."
       ]
      },
      {
       "output_type": "stream",
       "stream": "stdout",
       "text": [
        "."
       ]
      },
      {
       "output_type": "stream",
       "stream": "stdout",
       "text": [
        "."
       ]
      },
      {
       "output_type": "stream",
       "stream": "stdout",
       "text": [
        "."
       ]
      },
      {
       "output_type": "stream",
       "stream": "stdout",
       "text": [
        "."
       ]
      },
      {
       "output_type": "stream",
       "stream": "stdout",
       "text": [
        "."
       ]
      },
      {
       "output_type": "stream",
       "stream": "stdout",
       "text": [
        "."
       ]
      },
      {
       "output_type": "stream",
       "stream": "stdout",
       "text": [
        "."
       ]
      },
      {
       "output_type": "stream",
       "stream": "stdout",
       "text": [
        "."
       ]
      },
      {
       "output_type": "stream",
       "stream": "stdout",
       "text": [
        "."
       ]
      },
      {
       "output_type": "stream",
       "stream": "stdout",
       "text": [
        "."
       ]
      },
      {
       "output_type": "stream",
       "stream": "stdout",
       "text": [
        "."
       ]
      },
      {
       "output_type": "stream",
       "stream": "stdout",
       "text": [
        "."
       ]
      },
      {
       "output_type": "stream",
       "stream": "stdout",
       "text": [
        "."
       ]
      },
      {
       "output_type": "stream",
       "stream": "stdout",
       "text": [
        "."
       ]
      },
      {
       "output_type": "stream",
       "stream": "stdout",
       "text": [
        "."
       ]
      },
      {
       "output_type": "stream",
       "stream": "stdout",
       "text": [
        "."
       ]
      },
      {
       "output_type": "stream",
       "stream": "stdout",
       "text": [
        "."
       ]
      },
      {
       "output_type": "stream",
       "stream": "stdout",
       "text": [
        "."
       ]
      },
      {
       "output_type": "stream",
       "stream": "stdout",
       "text": [
        "."
       ]
      },
      {
       "output_type": "stream",
       "stream": "stdout",
       "text": [
        "."
       ]
      },
      {
       "output_type": "stream",
       "stream": "stdout",
       "text": [
        "."
       ]
      },
      {
       "output_type": "stream",
       "stream": "stdout",
       "text": [
        "."
       ]
      },
      {
       "output_type": "stream",
       "stream": "stdout",
       "text": [
        "."
       ]
      },
      {
       "output_type": "stream",
       "stream": "stdout",
       "text": [
        "."
       ]
      },
      {
       "output_type": "stream",
       "stream": "stdout",
       "text": [
        "."
       ]
      },
      {
       "output_type": "stream",
       "stream": "stdout",
       "text": [
        "."
       ]
      },
      {
       "output_type": "stream",
       "stream": "stdout",
       "text": [
        "."
       ]
      },
      {
       "output_type": "stream",
       "stream": "stdout",
       "text": [
        "."
       ]
      },
      {
       "output_type": "stream",
       "stream": "stdout",
       "text": [
        "."
       ]
      },
      {
       "output_type": "stream",
       "stream": "stdout",
       "text": [
        "."
       ]
      },
      {
       "output_type": "stream",
       "stream": "stdout",
       "text": [
        "."
       ]
      },
      {
       "output_type": "stream",
       "stream": "stdout",
       "text": [
        "."
       ]
      },
      {
       "output_type": "stream",
       "stream": "stdout",
       "text": [
        "."
       ]
      },
      {
       "output_type": "stream",
       "stream": "stdout",
       "text": [
        "."
       ]
      },
      {
       "output_type": "stream",
       "stream": "stdout",
       "text": [
        "."
       ]
      },
      {
       "output_type": "stream",
       "stream": "stdout",
       "text": [
        "."
       ]
      },
      {
       "output_type": "stream",
       "stream": "stdout",
       "text": [
        "."
       ]
      },
      {
       "output_type": "stream",
       "stream": "stdout",
       "text": [
        "."
       ]
      },
      {
       "output_type": "stream",
       "stream": "stdout",
       "text": [
        "."
       ]
      },
      {
       "output_type": "stream",
       "stream": "stdout",
       "text": [
        "."
       ]
      },
      {
       "output_type": "stream",
       "stream": "stdout",
       "text": [
        "."
       ]
      },
      {
       "output_type": "stream",
       "stream": "stdout",
       "text": [
        "."
       ]
      },
      {
       "output_type": "stream",
       "stream": "stdout",
       "text": [
        "."
       ]
      },
      {
       "output_type": "stream",
       "stream": "stdout",
       "text": [
        "."
       ]
      },
      {
       "output_type": "stream",
       "stream": "stdout",
       "text": [
        "."
       ]
      },
      {
       "output_type": "stream",
       "stream": "stdout",
       "text": [
        "."
       ]
      },
      {
       "output_type": "stream",
       "stream": "stdout",
       "text": [
        "."
       ]
      },
      {
       "output_type": "stream",
       "stream": "stdout",
       "text": [
        "."
       ]
      },
      {
       "output_type": "stream",
       "stream": "stdout",
       "text": [
        "."
       ]
      },
      {
       "output_type": "stream",
       "stream": "stdout",
       "text": [
        "."
       ]
      },
      {
       "output_type": "stream",
       "stream": "stdout",
       "text": [
        "."
       ]
      },
      {
       "output_type": "stream",
       "stream": "stdout",
       "text": [
        "."
       ]
      },
      {
       "output_type": "stream",
       "stream": "stdout",
       "text": [
        "."
       ]
      },
      {
       "output_type": "stream",
       "stream": "stdout",
       "text": [
        "."
       ]
      },
      {
       "output_type": "stream",
       "stream": "stdout",
       "text": [
        "."
       ]
      },
      {
       "output_type": "stream",
       "stream": "stdout",
       "text": [
        "."
       ]
      },
      {
       "output_type": "stream",
       "stream": "stdout",
       "text": [
        "."
       ]
      },
      {
       "output_type": "stream",
       "stream": "stdout",
       "text": [
        "."
       ]
      },
      {
       "output_type": "stream",
       "stream": "stdout",
       "text": [
        "."
       ]
      },
      {
       "output_type": "stream",
       "stream": "stdout",
       "text": [
        "."
       ]
      },
      {
       "output_type": "stream",
       "stream": "stdout",
       "text": [
        "."
       ]
      },
      {
       "output_type": "stream",
       "stream": "stdout",
       "text": [
        "."
       ]
      },
      {
       "output_type": "stream",
       "stream": "stdout",
       "text": [
        "."
       ]
      },
      {
       "output_type": "stream",
       "stream": "stdout",
       "text": [
        "."
       ]
      },
      {
       "output_type": "stream",
       "stream": "stdout",
       "text": [
        "."
       ]
      },
      {
       "output_type": "stream",
       "stream": "stdout",
       "text": [
        "."
       ]
      },
      {
       "output_type": "stream",
       "stream": "stdout",
       "text": [
        "."
       ]
      },
      {
       "output_type": "stream",
       "stream": "stdout",
       "text": [
        "."
       ]
      },
      {
       "output_type": "stream",
       "stream": "stdout",
       "text": [
        "."
       ]
      },
      {
       "output_type": "stream",
       "stream": "stdout",
       "text": [
        "."
       ]
      },
      {
       "output_type": "stream",
       "stream": "stdout",
       "text": [
        "."
       ]
      },
      {
       "output_type": "stream",
       "stream": "stdout",
       "text": [
        "."
       ]
      },
      {
       "output_type": "stream",
       "stream": "stdout",
       "text": [
        "."
       ]
      },
      {
       "output_type": "stream",
       "stream": "stdout",
       "text": [
        "."
       ]
      },
      {
       "output_type": "stream",
       "stream": "stdout",
       "text": [
        "."
       ]
      },
      {
       "output_type": "stream",
       "stream": "stdout",
       "text": [
        "."
       ]
      },
      {
       "output_type": "stream",
       "stream": "stdout",
       "text": [
        "."
       ]
      },
      {
       "output_type": "stream",
       "stream": "stdout",
       "text": [
        "."
       ]
      },
      {
       "output_type": "stream",
       "stream": "stdout",
       "text": [
        "."
       ]
      },
      {
       "output_type": "stream",
       "stream": "stdout",
       "text": [
        "."
       ]
      },
      {
       "output_type": "stream",
       "stream": "stdout",
       "text": [
        "."
       ]
      },
      {
       "output_type": "stream",
       "stream": "stdout",
       "text": [
        "."
       ]
      },
      {
       "output_type": "stream",
       "stream": "stdout",
       "text": [
        "."
       ]
      },
      {
       "output_type": "stream",
       "stream": "stdout",
       "text": [
        "."
       ]
      },
      {
       "output_type": "stream",
       "stream": "stdout",
       "text": [
        "."
       ]
      },
      {
       "output_type": "stream",
       "stream": "stdout",
       "text": [
        "."
       ]
      },
      {
       "output_type": "stream",
       "stream": "stdout",
       "text": [
        "."
       ]
      },
      {
       "output_type": "stream",
       "stream": "stdout",
       "text": [
        "."
       ]
      },
      {
       "output_type": "stream",
       "stream": "stdout",
       "text": [
        "."
       ]
      },
      {
       "output_type": "stream",
       "stream": "stdout",
       "text": [
        "."
       ]
      },
      {
       "output_type": "stream",
       "stream": "stdout",
       "text": [
        "."
       ]
      },
      {
       "output_type": "stream",
       "stream": "stdout",
       "text": [
        "."
       ]
      },
      {
       "output_type": "stream",
       "stream": "stdout",
       "text": [
        "."
       ]
      },
      {
       "output_type": "stream",
       "stream": "stdout",
       "text": [
        "."
       ]
      },
      {
       "output_type": "stream",
       "stream": "stdout",
       "text": [
        "."
       ]
      },
      {
       "output_type": "stream",
       "stream": "stdout",
       "text": [
        "."
       ]
      },
      {
       "output_type": "stream",
       "stream": "stdout",
       "text": [
        "."
       ]
      },
      {
       "output_type": "stream",
       "stream": "stdout",
       "text": [
        "."
       ]
      },
      {
       "output_type": "stream",
       "stream": "stdout",
       "text": [
        "."
       ]
      },
      {
       "output_type": "stream",
       "stream": "stdout",
       "text": [
        "."
       ]
      },
      {
       "output_type": "stream",
       "stream": "stdout",
       "text": [
        "."
       ]
      },
      {
       "output_type": "stream",
       "stream": "stdout",
       "text": [
        "."
       ]
      },
      {
       "output_type": "stream",
       "stream": "stdout",
       "text": [
        "."
       ]
      },
      {
       "output_type": "stream",
       "stream": "stdout",
       "text": [
        "."
       ]
      },
      {
       "output_type": "stream",
       "stream": "stdout",
       "text": [
        "."
       ]
      },
      {
       "output_type": "stream",
       "stream": "stdout",
       "text": [
        "."
       ]
      },
      {
       "output_type": "stream",
       "stream": "stdout",
       "text": [
        "."
       ]
      },
      {
       "output_type": "stream",
       "stream": "stdout",
       "text": [
        "."
       ]
      },
      {
       "output_type": "stream",
       "stream": "stdout",
       "text": [
        "."
       ]
      },
      {
       "output_type": "stream",
       "stream": "stdout",
       "text": [
        "."
       ]
      },
      {
       "output_type": "stream",
       "stream": "stdout",
       "text": [
        "."
       ]
      },
      {
       "output_type": "stream",
       "stream": "stdout",
       "text": [
        "."
       ]
      },
      {
       "output_type": "stream",
       "stream": "stdout",
       "text": [
        "."
       ]
      },
      {
       "output_type": "stream",
       "stream": "stdout",
       "text": [
        "."
       ]
      },
      {
       "output_type": "stream",
       "stream": "stdout",
       "text": [
        "."
       ]
      },
      {
       "output_type": "stream",
       "stream": "stdout",
       "text": [
        "."
       ]
      },
      {
       "output_type": "stream",
       "stream": "stdout",
       "text": [
        "."
       ]
      },
      {
       "output_type": "stream",
       "stream": "stdout",
       "text": [
        "."
       ]
      },
      {
       "output_type": "stream",
       "stream": "stdout",
       "text": [
        "."
       ]
      },
      {
       "output_type": "stream",
       "stream": "stdout",
       "text": [
        "."
       ]
      },
      {
       "output_type": "stream",
       "stream": "stdout",
       "text": [
        "."
       ]
      },
      {
       "output_type": "stream",
       "stream": "stdout",
       "text": [
        "."
       ]
      },
      {
       "output_type": "stream",
       "stream": "stdout",
       "text": [
        "."
       ]
      },
      {
       "output_type": "stream",
       "stream": "stdout",
       "text": [
        "."
       ]
      },
      {
       "output_type": "stream",
       "stream": "stdout",
       "text": [
        "."
       ]
      },
      {
       "output_type": "stream",
       "stream": "stdout",
       "text": [
        "."
       ]
      },
      {
       "output_type": "stream",
       "stream": "stdout",
       "text": [
        "."
       ]
      },
      {
       "output_type": "stream",
       "stream": "stdout",
       "text": [
        "."
       ]
      },
      {
       "output_type": "stream",
       "stream": "stdout",
       "text": [
        "."
       ]
      },
      {
       "output_type": "stream",
       "stream": "stdout",
       "text": [
        "."
       ]
      },
      {
       "output_type": "stream",
       "stream": "stdout",
       "text": [
        "."
       ]
      },
      {
       "output_type": "stream",
       "stream": "stdout",
       "text": [
        "."
       ]
      },
      {
       "output_type": "stream",
       "stream": "stdout",
       "text": [
        "."
       ]
      },
      {
       "output_type": "stream",
       "stream": "stdout",
       "text": [
        "."
       ]
      },
      {
       "output_type": "stream",
       "stream": "stdout",
       "text": [
        "."
       ]
      },
      {
       "output_type": "stream",
       "stream": "stdout",
       "text": [
        "."
       ]
      },
      {
       "output_type": "stream",
       "stream": "stdout",
       "text": [
        "."
       ]
      },
      {
       "output_type": "stream",
       "stream": "stdout",
       "text": [
        "."
       ]
      },
      {
       "output_type": "stream",
       "stream": "stdout",
       "text": [
        "."
       ]
      },
      {
       "output_type": "stream",
       "stream": "stdout",
       "text": [
        "."
       ]
      },
      {
       "output_type": "stream",
       "stream": "stdout",
       "text": [
        "."
       ]
      },
      {
       "output_type": "stream",
       "stream": "stdout",
       "text": [
        "."
       ]
      },
      {
       "output_type": "stream",
       "stream": "stdout",
       "text": [
        "."
       ]
      },
      {
       "output_type": "stream",
       "stream": "stdout",
       "text": [
        "."
       ]
      },
      {
       "output_type": "stream",
       "stream": "stdout",
       "text": [
        "."
       ]
      },
      {
       "output_type": "stream",
       "stream": "stdout",
       "text": [
        "."
       ]
      },
      {
       "output_type": "stream",
       "stream": "stdout",
       "text": [
        "."
       ]
      },
      {
       "output_type": "stream",
       "stream": "stdout",
       "text": [
        "."
       ]
      },
      {
       "output_type": "stream",
       "stream": "stdout",
       "text": [
        "."
       ]
      },
      {
       "output_type": "stream",
       "stream": "stdout",
       "text": [
        "."
       ]
      },
      {
       "output_type": "stream",
       "stream": "stdout",
       "text": [
        "."
       ]
      },
      {
       "output_type": "stream",
       "stream": "stdout",
       "text": [
        "."
       ]
      },
      {
       "output_type": "stream",
       "stream": "stdout",
       "text": [
        "."
       ]
      },
      {
       "output_type": "stream",
       "stream": "stdout",
       "text": [
        "."
       ]
      },
      {
       "output_type": "stream",
       "stream": "stdout",
       "text": [
        "."
       ]
      },
      {
       "output_type": "stream",
       "stream": "stdout",
       "text": [
        "."
       ]
      },
      {
       "output_type": "stream",
       "stream": "stdout",
       "text": [
        "."
       ]
      },
      {
       "output_type": "stream",
       "stream": "stdout",
       "text": [
        "."
       ]
      },
      {
       "output_type": "stream",
       "stream": "stdout",
       "text": [
        "."
       ]
      },
      {
       "output_type": "stream",
       "stream": "stdout",
       "text": [
        "."
       ]
      },
      {
       "output_type": "stream",
       "stream": "stdout",
       "text": [
        "."
       ]
      },
      {
       "output_type": "stream",
       "stream": "stdout",
       "text": [
        "."
       ]
      },
      {
       "output_type": "stream",
       "stream": "stdout",
       "text": [
        "."
       ]
      },
      {
       "output_type": "stream",
       "stream": "stdout",
       "text": [
        "."
       ]
      },
      {
       "output_type": "stream",
       "stream": "stdout",
       "text": [
        "."
       ]
      },
      {
       "output_type": "stream",
       "stream": "stdout",
       "text": [
        "."
       ]
      },
      {
       "output_type": "stream",
       "stream": "stdout",
       "text": [
        "."
       ]
      },
      {
       "output_type": "stream",
       "stream": "stdout",
       "text": [
        "."
       ]
      },
      {
       "output_type": "stream",
       "stream": "stdout",
       "text": [
        "."
       ]
      },
      {
       "output_type": "stream",
       "stream": "stdout",
       "text": [
        "."
       ]
      },
      {
       "output_type": "stream",
       "stream": "stdout",
       "text": [
        "."
       ]
      },
      {
       "output_type": "stream",
       "stream": "stdout",
       "text": [
        "."
       ]
      },
      {
       "output_type": "stream",
       "stream": "stdout",
       "text": [
        "."
       ]
      },
      {
       "output_type": "stream",
       "stream": "stdout",
       "text": [
        "."
       ]
      },
      {
       "output_type": "stream",
       "stream": "stdout",
       "text": [
        "."
       ]
      },
      {
       "output_type": "stream",
       "stream": "stdout",
       "text": [
        "."
       ]
      },
      {
       "output_type": "stream",
       "stream": "stdout",
       "text": [
        "."
       ]
      },
      {
       "output_type": "stream",
       "stream": "stdout",
       "text": [
        "."
       ]
      },
      {
       "output_type": "stream",
       "stream": "stdout",
       "text": [
        "."
       ]
      },
      {
       "output_type": "stream",
       "stream": "stdout",
       "text": [
        "."
       ]
      },
      {
       "output_type": "stream",
       "stream": "stdout",
       "text": [
        "."
       ]
      },
      {
       "output_type": "stream",
       "stream": "stdout",
       "text": [
        "."
       ]
      },
      {
       "output_type": "stream",
       "stream": "stdout",
       "text": [
        "."
       ]
      },
      {
       "output_type": "stream",
       "stream": "stdout",
       "text": [
        "."
       ]
      },
      {
       "output_type": "stream",
       "stream": "stdout",
       "text": [
        "."
       ]
      },
      {
       "output_type": "stream",
       "stream": "stdout",
       "text": [
        "."
       ]
      },
      {
       "output_type": "stream",
       "stream": "stdout",
       "text": [
        "."
       ]
      },
      {
       "output_type": "stream",
       "stream": "stdout",
       "text": [
        "."
       ]
      },
      {
       "output_type": "stream",
       "stream": "stdout",
       "text": [
        "."
       ]
      },
      {
       "output_type": "stream",
       "stream": "stdout",
       "text": [
        "."
       ]
      },
      {
       "output_type": "stream",
       "stream": "stdout",
       "text": [
        "."
       ]
      },
      {
       "output_type": "stream",
       "stream": "stdout",
       "text": [
        "."
       ]
      },
      {
       "output_type": "stream",
       "stream": "stdout",
       "text": [
        "."
       ]
      },
      {
       "output_type": "stream",
       "stream": "stdout",
       "text": [
        "."
       ]
      },
      {
       "output_type": "stream",
       "stream": "stdout",
       "text": [
        "."
       ]
      },
      {
       "output_type": "stream",
       "stream": "stdout",
       "text": [
        "+"
       ]
      },
      {
       "output_type": "stream",
       "stream": "stdout",
       "text": [
        "+"
       ]
      },
      {
       "output_type": "stream",
       "stream": "stdout",
       "text": [
        "+"
       ]
      },
      {
       "output_type": "stream",
       "stream": "stdout",
       "text": [
        "+"
       ]
      },
      {
       "output_type": "stream",
       "stream": "stdout",
       "text": [
        "+"
       ]
      },
      {
       "output_type": "stream",
       "stream": "stdout",
       "text": [
        "+"
       ]
      },
      {
       "output_type": "stream",
       "stream": "stdout",
       "text": [
        "+"
       ]
      },
      {
       "output_type": "stream",
       "stream": "stdout",
       "text": [
        "+"
       ]
      },
      {
       "output_type": "stream",
       "stream": "stdout",
       "text": [
        "+"
       ]
      },
      {
       "output_type": "stream",
       "stream": "stdout",
       "text": [
        "+"
       ]
      },
      {
       "output_type": "stream",
       "stream": "stdout",
       "text": [
        "+"
       ]
      },
      {
       "output_type": "stream",
       "stream": "stdout",
       "text": [
        "+"
       ]
      },
      {
       "output_type": "stream",
       "stream": "stdout",
       "text": [
        "+"
       ]
      },
      {
       "output_type": "stream",
       "stream": "stdout",
       "text": [
        "+"
       ]
      },
      {
       "output_type": "stream",
       "stream": "stdout",
       "text": [
        "+"
       ]
      },
      {
       "output_type": "stream",
       "stream": "stdout",
       "text": [
        "+"
       ]
      },
      {
       "output_type": "stream",
       "stream": "stdout",
       "text": [
        "+"
       ]
      },
      {
       "output_type": "stream",
       "stream": "stdout",
       "text": [
        "+"
       ]
      },
      {
       "output_type": "stream",
       "stream": "stdout",
       "text": [
        "+"
       ]
      },
      {
       "output_type": "stream",
       "stream": "stdout",
       "text": [
        "+"
       ]
      },
      {
       "output_type": "stream",
       "stream": "stdout",
       "text": [
        "+"
       ]
      },
      {
       "output_type": "stream",
       "stream": "stdout",
       "text": [
        "+"
       ]
      },
      {
       "output_type": "stream",
       "stream": "stdout",
       "text": [
        "+"
       ]
      },
      {
       "output_type": "stream",
       "stream": "stdout",
       "text": [
        "+"
       ]
      },
      {
       "output_type": "stream",
       "stream": "stdout",
       "text": [
        "+"
       ]
      },
      {
       "output_type": "stream",
       "stream": "stdout",
       "text": [
        "+"
       ]
      },
      {
       "output_type": "stream",
       "stream": "stdout",
       "text": [
        "+"
       ]
      },
      {
       "output_type": "stream",
       "stream": "stdout",
       "text": [
        "+"
       ]
      },
      {
       "output_type": "stream",
       "stream": "stdout",
       "text": [
        "+"
       ]
      },
      {
       "output_type": "stream",
       "stream": "stdout",
       "text": [
        "+"
       ]
      },
      {
       "output_type": "stream",
       "stream": "stdout",
       "text": [
        "+"
       ]
      },
      {
       "output_type": "stream",
       "stream": "stdout",
       "text": [
        "+"
       ]
      },
      {
       "output_type": "stream",
       "stream": "stdout",
       "text": [
        "+"
       ]
      },
      {
       "output_type": "stream",
       "stream": "stdout",
       "text": [
        "+"
       ]
      },
      {
       "output_type": "stream",
       "stream": "stdout",
       "text": [
        "+"
       ]
      },
      {
       "output_type": "stream",
       "stream": "stdout",
       "text": [
        "+"
       ]
      },
      {
       "output_type": "stream",
       "stream": "stdout",
       "text": [
        "+"
       ]
      },
      {
       "output_type": "stream",
       "stream": "stdout",
       "text": [
        "+"
       ]
      },
      {
       "output_type": "stream",
       "stream": "stdout",
       "text": [
        "+"
       ]
      },
      {
       "output_type": "stream",
       "stream": "stdout",
       "text": [
        "+"
       ]
      },
      {
       "output_type": "stream",
       "stream": "stdout",
       "text": [
        "+"
       ]
      },
      {
       "output_type": "stream",
       "stream": "stdout",
       "text": [
        "+"
       ]
      },
      {
       "output_type": "stream",
       "stream": "stdout",
       "text": [
        "+"
       ]
      },
      {
       "output_type": "stream",
       "stream": "stdout",
       "text": [
        "+"
       ]
      },
      {
       "output_type": "stream",
       "stream": "stdout",
       "text": [
        "+"
       ]
      },
      {
       "output_type": "stream",
       "stream": "stdout",
       "text": [
        "+"
       ]
      },
      {
       "output_type": "stream",
       "stream": "stdout",
       "text": [
        "+"
       ]
      },
      {
       "output_type": "stream",
       "stream": "stdout",
       "text": [
        "+"
       ]
      },
      {
       "output_type": "stream",
       "stream": "stdout",
       "text": [
        "+"
       ]
      },
      {
       "output_type": "stream",
       "stream": "stdout",
       "text": [
        "+"
       ]
      },
      {
       "output_type": "stream",
       "stream": "stdout",
       "text": [
        "+"
       ]
      },
      {
       "output_type": "stream",
       "stream": "stdout",
       "text": [
        "+"
       ]
      },
      {
       "output_type": "stream",
       "stream": "stdout",
       "text": [
        "+"
       ]
      },
      {
       "output_type": "stream",
       "stream": "stdout",
       "text": [
        "+"
       ]
      },
      {
       "output_type": "stream",
       "stream": "stdout",
       "text": [
        "+"
       ]
      },
      {
       "output_type": "stream",
       "stream": "stdout",
       "text": [
        "+"
       ]
      },
      {
       "output_type": "stream",
       "stream": "stdout",
       "text": [
        "+"
       ]
      },
      {
       "output_type": "stream",
       "stream": "stdout",
       "text": [
        "+"
       ]
      },
      {
       "output_type": "stream",
       "stream": "stdout",
       "text": [
        "+"
       ]
      },
      {
       "output_type": "stream",
       "stream": "stdout",
       "text": [
        "+"
       ]
      },
      {
       "output_type": "stream",
       "stream": "stdout",
       "text": [
        "+"
       ]
      },
      {
       "output_type": "stream",
       "stream": "stdout",
       "text": [
        "+"
       ]
      },
      {
       "output_type": "stream",
       "stream": "stdout",
       "text": [
        "+"
       ]
      },
      {
       "output_type": "stream",
       "stream": "stdout",
       "text": [
        "+"
       ]
      },
      {
       "output_type": "stream",
       "stream": "stdout",
       "text": [
        "+"
       ]
      },
      {
       "output_type": "stream",
       "stream": "stdout",
       "text": [
        "+"
       ]
      },
      {
       "output_type": "stream",
       "stream": "stdout",
       "text": [
        "+"
       ]
      },
      {
       "output_type": "stream",
       "stream": "stdout",
       "text": [
        "+"
       ]
      },
      {
       "output_type": "stream",
       "stream": "stdout",
       "text": [
        "+"
       ]
      },
      {
       "output_type": "stream",
       "stream": "stdout",
       "text": [
        "+"
       ]
      },
      {
       "output_type": "stream",
       "stream": "stdout",
       "text": [
        "+"
       ]
      },
      {
       "output_type": "stream",
       "stream": "stdout",
       "text": [
        "+"
       ]
      },
      {
       "output_type": "stream",
       "stream": "stdout",
       "text": [
        "+"
       ]
      },
      {
       "output_type": "stream",
       "stream": "stdout",
       "text": [
        "+"
       ]
      },
      {
       "output_type": "stream",
       "stream": "stdout",
       "text": [
        "+"
       ]
      },
      {
       "output_type": "stream",
       "stream": "stdout",
       "text": [
        "+"
       ]
      },
      {
       "output_type": "stream",
       "stream": "stdout",
       "text": [
        "+"
       ]
      },
      {
       "output_type": "stream",
       "stream": "stdout",
       "text": [
        "+"
       ]
      },
      {
       "output_type": "stream",
       "stream": "stdout",
       "text": [
        "+"
       ]
      },
      {
       "output_type": "stream",
       "stream": "stdout",
       "text": [
        "+"
       ]
      },
      {
       "output_type": "stream",
       "stream": "stdout",
       "text": [
        "+"
       ]
      },
      {
       "output_type": "stream",
       "stream": "stdout",
       "text": [
        "+"
       ]
      },
      {
       "output_type": "stream",
       "stream": "stdout",
       "text": [
        "+"
       ]
      },
      {
       "output_type": "stream",
       "stream": "stdout",
       "text": [
        "+"
       ]
      },
      {
       "output_type": "stream",
       "stream": "stdout",
       "text": [
        "+"
       ]
      },
      {
       "output_type": "stream",
       "stream": "stdout",
       "text": [
        "+"
       ]
      },
      {
       "output_type": "stream",
       "stream": "stdout",
       "text": [
        "+"
       ]
      },
      {
       "output_type": "stream",
       "stream": "stdout",
       "text": [
        "+"
       ]
      },
      {
       "output_type": "stream",
       "stream": "stdout",
       "text": [
        "+"
       ]
      },
      {
       "output_type": "stream",
       "stream": "stdout",
       "text": [
        "+"
       ]
      },
      {
       "output_type": "stream",
       "stream": "stdout",
       "text": [
        "+"
       ]
      },
      {
       "output_type": "stream",
       "stream": "stdout",
       "text": [
        "+"
       ]
      },
      {
       "output_type": "stream",
       "stream": "stdout",
       "text": [
        "+"
       ]
      },
      {
       "output_type": "stream",
       "stream": "stdout",
       "text": [
        "+"
       ]
      },
      {
       "output_type": "stream",
       "stream": "stdout",
       "text": [
        "+"
       ]
      },
      {
       "output_type": "stream",
       "stream": "stdout",
       "text": [
        "+"
       ]
      },
      {
       "output_type": "stream",
       "stream": "stdout",
       "text": [
        "+"
       ]
      },
      {
       "output_type": "stream",
       "stream": "stdout",
       "text": [
        "+"
       ]
      },
      {
       "output_type": "stream",
       "stream": "stdout",
       "text": [
        "+"
       ]
      },
      {
       "output_type": "stream",
       "stream": "stdout",
       "text": [
        "+"
       ]
      }
     ],
     "prompt_number": 74
    },
    {
     "cell_type": "code",
     "collapsed": false,
     "input": [
      "download_images('headshot', 100)"
     ],
     "language": "python",
     "metadata": {},
     "outputs": [
      {
       "output_type": "stream",
       "stream": "stdout",
       "text": [
        "."
       ]
      },
      {
       "output_type": "stream",
       "stream": "stdout",
       "text": [
        "."
       ]
      },
      {
       "output_type": "stream",
       "stream": "stdout",
       "text": [
        "."
       ]
      },
      {
       "output_type": "stream",
       "stream": "stdout",
       "text": [
        "."
       ]
      },
      {
       "output_type": "stream",
       "stream": "stdout",
       "text": [
        "."
       ]
      },
      {
       "output_type": "stream",
       "stream": "stdout",
       "text": [
        "."
       ]
      },
      {
       "output_type": "stream",
       "stream": "stdout",
       "text": [
        "."
       ]
      },
      {
       "output_type": "stream",
       "stream": "stdout",
       "text": [
        "."
       ]
      },
      {
       "output_type": "stream",
       "stream": "stdout",
       "text": [
        "."
       ]
      },
      {
       "output_type": "stream",
       "stream": "stdout",
       "text": [
        "."
       ]
      },
      {
       "output_type": "stream",
       "stream": "stdout",
       "text": [
        "."
       ]
      },
      {
       "output_type": "stream",
       "stream": "stdout",
       "text": [
        "."
       ]
      },
      {
       "output_type": "stream",
       "stream": "stdout",
       "text": [
        "."
       ]
      },
      {
       "output_type": "stream",
       "stream": "stdout",
       "text": [
        "."
       ]
      },
      {
       "output_type": "stream",
       "stream": "stdout",
       "text": [
        "."
       ]
      },
      {
       "output_type": "stream",
       "stream": "stdout",
       "text": [
        "."
       ]
      },
      {
       "output_type": "stream",
       "stream": "stdout",
       "text": [
        "."
       ]
      },
      {
       "output_type": "stream",
       "stream": "stdout",
       "text": [
        "."
       ]
      },
      {
       "output_type": "stream",
       "stream": "stdout",
       "text": [
        "."
       ]
      },
      {
       "output_type": "stream",
       "stream": "stdout",
       "text": [
        "."
       ]
      },
      {
       "output_type": "stream",
       "stream": "stdout",
       "text": [
        "."
       ]
      },
      {
       "output_type": "stream",
       "stream": "stdout",
       "text": [
        "."
       ]
      },
      {
       "output_type": "stream",
       "stream": "stdout",
       "text": [
        "."
       ]
      },
      {
       "output_type": "stream",
       "stream": "stdout",
       "text": [
        "."
       ]
      },
      {
       "output_type": "stream",
       "stream": "stdout",
       "text": [
        "."
       ]
      },
      {
       "output_type": "stream",
       "stream": "stdout",
       "text": [
        "."
       ]
      },
      {
       "output_type": "stream",
       "stream": "stdout",
       "text": [
        "."
       ]
      },
      {
       "output_type": "stream",
       "stream": "stdout",
       "text": [
        "."
       ]
      },
      {
       "output_type": "stream",
       "stream": "stdout",
       "text": [
        "."
       ]
      },
      {
       "output_type": "stream",
       "stream": "stdout",
       "text": [
        "."
       ]
      },
      {
       "output_type": "stream",
       "stream": "stdout",
       "text": [
        "."
       ]
      },
      {
       "output_type": "stream",
       "stream": "stdout",
       "text": [
        "."
       ]
      },
      {
       "output_type": "stream",
       "stream": "stdout",
       "text": [
        "."
       ]
      },
      {
       "output_type": "stream",
       "stream": "stdout",
       "text": [
        "."
       ]
      },
      {
       "output_type": "stream",
       "stream": "stdout",
       "text": [
        "."
       ]
      },
      {
       "output_type": "stream",
       "stream": "stdout",
       "text": [
        "."
       ]
      },
      {
       "output_type": "stream",
       "stream": "stdout",
       "text": [
        "."
       ]
      },
      {
       "output_type": "stream",
       "stream": "stdout",
       "text": [
        "."
       ]
      },
      {
       "output_type": "stream",
       "stream": "stdout",
       "text": [
        "."
       ]
      },
      {
       "output_type": "stream",
       "stream": "stdout",
       "text": [
        "."
       ]
      },
      {
       "output_type": "stream",
       "stream": "stdout",
       "text": [
        "."
       ]
      },
      {
       "output_type": "stream",
       "stream": "stdout",
       "text": [
        "."
       ]
      },
      {
       "output_type": "stream",
       "stream": "stdout",
       "text": [
        "."
       ]
      },
      {
       "output_type": "stream",
       "stream": "stdout",
       "text": [
        "."
       ]
      },
      {
       "output_type": "stream",
       "stream": "stdout",
       "text": [
        "."
       ]
      },
      {
       "output_type": "stream",
       "stream": "stdout",
       "text": [
        "."
       ]
      },
      {
       "output_type": "stream",
       "stream": "stdout",
       "text": [
        "."
       ]
      },
      {
       "output_type": "stream",
       "stream": "stdout",
       "text": [
        "."
       ]
      },
      {
       "output_type": "stream",
       "stream": "stdout",
       "text": [
        "."
       ]
      },
      {
       "output_type": "stream",
       "stream": "stdout",
       "text": [
        "."
       ]
      },
      {
       "output_type": "stream",
       "stream": "stdout",
       "text": [
        "."
       ]
      },
      {
       "output_type": "stream",
       "stream": "stdout",
       "text": [
        "."
       ]
      },
      {
       "output_type": "stream",
       "stream": "stdout",
       "text": [
        "."
       ]
      },
      {
       "output_type": "stream",
       "stream": "stdout",
       "text": [
        "."
       ]
      },
      {
       "output_type": "stream",
       "stream": "stdout",
       "text": [
        "."
       ]
      },
      {
       "output_type": "stream",
       "stream": "stdout",
       "text": [
        "."
       ]
      },
      {
       "output_type": "stream",
       "stream": "stdout",
       "text": [
        "."
       ]
      },
      {
       "output_type": "stream",
       "stream": "stdout",
       "text": [
        "."
       ]
      },
      {
       "output_type": "stream",
       "stream": "stdout",
       "text": [
        "."
       ]
      },
      {
       "output_type": "stream",
       "stream": "stdout",
       "text": [
        "."
       ]
      },
      {
       "output_type": "stream",
       "stream": "stdout",
       "text": [
        "."
       ]
      },
      {
       "output_type": "stream",
       "stream": "stdout",
       "text": [
        "."
       ]
      },
      {
       "output_type": "stream",
       "stream": "stdout",
       "text": [
        "."
       ]
      },
      {
       "output_type": "stream",
       "stream": "stdout",
       "text": [
        "."
       ]
      },
      {
       "output_type": "stream",
       "stream": "stdout",
       "text": [
        "."
       ]
      },
      {
       "output_type": "stream",
       "stream": "stdout",
       "text": [
        "."
       ]
      },
      {
       "output_type": "stream",
       "stream": "stdout",
       "text": [
        "."
       ]
      },
      {
       "output_type": "stream",
       "stream": "stdout",
       "text": [
        "."
       ]
      },
      {
       "output_type": "stream",
       "stream": "stdout",
       "text": [
        "."
       ]
      },
      {
       "output_type": "stream",
       "stream": "stdout",
       "text": [
        "."
       ]
      },
      {
       "output_type": "stream",
       "stream": "stdout",
       "text": [
        "."
       ]
      },
      {
       "output_type": "stream",
       "stream": "stdout",
       "text": [
        "."
       ]
      },
      {
       "output_type": "stream",
       "stream": "stdout",
       "text": [
        "."
       ]
      },
      {
       "output_type": "stream",
       "stream": "stdout",
       "text": [
        "."
       ]
      },
      {
       "output_type": "stream",
       "stream": "stdout",
       "text": [
        "."
       ]
      },
      {
       "output_type": "stream",
       "stream": "stdout",
       "text": [
        "."
       ]
      },
      {
       "output_type": "stream",
       "stream": "stdout",
       "text": [
        "."
       ]
      },
      {
       "output_type": "stream",
       "stream": "stdout",
       "text": [
        "."
       ]
      },
      {
       "output_type": "stream",
       "stream": "stdout",
       "text": [
        "."
       ]
      },
      {
       "output_type": "stream",
       "stream": "stdout",
       "text": [
        "."
       ]
      },
      {
       "output_type": "stream",
       "stream": "stdout",
       "text": [
        "."
       ]
      },
      {
       "output_type": "stream",
       "stream": "stdout",
       "text": [
        "."
       ]
      },
      {
       "output_type": "stream",
       "stream": "stdout",
       "text": [
        "."
       ]
      },
      {
       "output_type": "stream",
       "stream": "stdout",
       "text": [
        "."
       ]
      },
      {
       "output_type": "stream",
       "stream": "stdout",
       "text": [
        "."
       ]
      },
      {
       "output_type": "stream",
       "stream": "stdout",
       "text": [
        "."
       ]
      },
      {
       "output_type": "stream",
       "stream": "stdout",
       "text": [
        "."
       ]
      },
      {
       "output_type": "stream",
       "stream": "stdout",
       "text": [
        "."
       ]
      },
      {
       "output_type": "stream",
       "stream": "stdout",
       "text": [
        "."
       ]
      },
      {
       "output_type": "stream",
       "stream": "stdout",
       "text": [
        "."
       ]
      },
      {
       "output_type": "stream",
       "stream": "stdout",
       "text": [
        "."
       ]
      },
      {
       "output_type": "stream",
       "stream": "stdout",
       "text": [
        "."
       ]
      },
      {
       "output_type": "stream",
       "stream": "stdout",
       "text": [
        "."
       ]
      },
      {
       "output_type": "stream",
       "stream": "stdout",
       "text": [
        "."
       ]
      },
      {
       "output_type": "stream",
       "stream": "stdout",
       "text": [
        "."
       ]
      },
      {
       "output_type": "stream",
       "stream": "stdout",
       "text": [
        "."
       ]
      },
      {
       "output_type": "stream",
       "stream": "stdout",
       "text": [
        "."
       ]
      },
      {
       "output_type": "stream",
       "stream": "stdout",
       "text": [
        "."
       ]
      },
      {
       "output_type": "stream",
       "stream": "stdout",
       "text": [
        "."
       ]
      },
      {
       "output_type": "stream",
       "stream": "stdout",
       "text": [
        "."
       ]
      },
      {
       "output_type": "stream",
       "stream": "stdout",
       "text": [
        "."
       ]
      },
      {
       "output_type": "stream",
       "stream": "stdout",
       "text": [
        "."
       ]
      },
      {
       "output_type": "stream",
       "stream": "stdout",
       "text": [
        "."
       ]
      },
      {
       "output_type": "stream",
       "stream": "stdout",
       "text": [
        "."
       ]
      },
      {
       "output_type": "stream",
       "stream": "stdout",
       "text": [
        "."
       ]
      },
      {
       "output_type": "stream",
       "stream": "stdout",
       "text": [
        "."
       ]
      },
      {
       "output_type": "stream",
       "stream": "stdout",
       "text": [
        "."
       ]
      },
      {
       "output_type": "stream",
       "stream": "stdout",
       "text": [
        "."
       ]
      },
      {
       "output_type": "stream",
       "stream": "stdout",
       "text": [
        "."
       ]
      },
      {
       "output_type": "stream",
       "stream": "stdout",
       "text": [
        "."
       ]
      },
      {
       "output_type": "stream",
       "stream": "stdout",
       "text": [
        "."
       ]
      },
      {
       "output_type": "stream",
       "stream": "stdout",
       "text": [
        "."
       ]
      },
      {
       "output_type": "stream",
       "stream": "stdout",
       "text": [
        "."
       ]
      },
      {
       "output_type": "stream",
       "stream": "stdout",
       "text": [
        "."
       ]
      },
      {
       "output_type": "stream",
       "stream": "stdout",
       "text": [
        "."
       ]
      },
      {
       "output_type": "stream",
       "stream": "stdout",
       "text": [
        "."
       ]
      },
      {
       "output_type": "stream",
       "stream": "stdout",
       "text": [
        "."
       ]
      },
      {
       "output_type": "stream",
       "stream": "stdout",
       "text": [
        "."
       ]
      },
      {
       "output_type": "stream",
       "stream": "stdout",
       "text": [
        "."
       ]
      },
      {
       "output_type": "stream",
       "stream": "stdout",
       "text": [
        "."
       ]
      },
      {
       "output_type": "stream",
       "stream": "stdout",
       "text": [
        "."
       ]
      },
      {
       "output_type": "stream",
       "stream": "stdout",
       "text": [
        "."
       ]
      },
      {
       "output_type": "stream",
       "stream": "stdout",
       "text": [
        "."
       ]
      },
      {
       "output_type": "stream",
       "stream": "stdout",
       "text": [
        "."
       ]
      },
      {
       "output_type": "stream",
       "stream": "stdout",
       "text": [
        "."
       ]
      },
      {
       "output_type": "stream",
       "stream": "stdout",
       "text": [
        "."
       ]
      },
      {
       "output_type": "stream",
       "stream": "stdout",
       "text": [
        "."
       ]
      },
      {
       "output_type": "stream",
       "stream": "stdout",
       "text": [
        "."
       ]
      },
      {
       "output_type": "stream",
       "stream": "stdout",
       "text": [
        "."
       ]
      },
      {
       "output_type": "stream",
       "stream": "stdout",
       "text": [
        "."
       ]
      },
      {
       "output_type": "stream",
       "stream": "stdout",
       "text": [
        "."
       ]
      },
      {
       "output_type": "stream",
       "stream": "stdout",
       "text": [
        "."
       ]
      },
      {
       "output_type": "stream",
       "stream": "stdout",
       "text": [
        "."
       ]
      },
      {
       "output_type": "stream",
       "stream": "stdout",
       "text": [
        "."
       ]
      },
      {
       "output_type": "stream",
       "stream": "stdout",
       "text": [
        "."
       ]
      },
      {
       "output_type": "stream",
       "stream": "stdout",
       "text": [
        "."
       ]
      },
      {
       "output_type": "stream",
       "stream": "stdout",
       "text": [
        "."
       ]
      },
      {
       "output_type": "stream",
       "stream": "stdout",
       "text": [
        "."
       ]
      },
      {
       "output_type": "stream",
       "stream": "stdout",
       "text": [
        "."
       ]
      },
      {
       "output_type": "stream",
       "stream": "stdout",
       "text": [
        "."
       ]
      },
      {
       "output_type": "stream",
       "stream": "stdout",
       "text": [
        "."
       ]
      },
      {
       "output_type": "stream",
       "stream": "stdout",
       "text": [
        "."
       ]
      },
      {
       "output_type": "stream",
       "stream": "stdout",
       "text": [
        "."
       ]
      },
      {
       "output_type": "stream",
       "stream": "stdout",
       "text": [
        "."
       ]
      },
      {
       "output_type": "stream",
       "stream": "stdout",
       "text": [
        "."
       ]
      },
      {
       "output_type": "stream",
       "stream": "stdout",
       "text": [
        "."
       ]
      },
      {
       "output_type": "stream",
       "stream": "stdout",
       "text": [
        "."
       ]
      },
      {
       "output_type": "stream",
       "stream": "stdout",
       "text": [
        "."
       ]
      },
      {
       "output_type": "stream",
       "stream": "stdout",
       "text": [
        "."
       ]
      },
      {
       "output_type": "stream",
       "stream": "stdout",
       "text": [
        "."
       ]
      },
      {
       "output_type": "stream",
       "stream": "stdout",
       "text": [
        "."
       ]
      },
      {
       "output_type": "stream",
       "stream": "stdout",
       "text": [
        "."
       ]
      },
      {
       "output_type": "stream",
       "stream": "stdout",
       "text": [
        "."
       ]
      },
      {
       "output_type": "stream",
       "stream": "stdout",
       "text": [
        "."
       ]
      },
      {
       "output_type": "stream",
       "stream": "stdout",
       "text": [
        "."
       ]
      },
      {
       "output_type": "stream",
       "stream": "stdout",
       "text": [
        "."
       ]
      },
      {
       "output_type": "stream",
       "stream": "stdout",
       "text": [
        "."
       ]
      },
      {
       "output_type": "stream",
       "stream": "stdout",
       "text": [
        "."
       ]
      },
      {
       "output_type": "stream",
       "stream": "stdout",
       "text": [
        "."
       ]
      },
      {
       "output_type": "stream",
       "stream": "stdout",
       "text": [
        "."
       ]
      },
      {
       "output_type": "stream",
       "stream": "stdout",
       "text": [
        "."
       ]
      },
      {
       "output_type": "stream",
       "stream": "stdout",
       "text": [
        "."
       ]
      },
      {
       "output_type": "stream",
       "stream": "stdout",
       "text": [
        "."
       ]
      },
      {
       "output_type": "stream",
       "stream": "stdout",
       "text": [
        "."
       ]
      },
      {
       "output_type": "stream",
       "stream": "stdout",
       "text": [
        "."
       ]
      },
      {
       "output_type": "stream",
       "stream": "stdout",
       "text": [
        "."
       ]
      },
      {
       "output_type": "stream",
       "stream": "stdout",
       "text": [
        "."
       ]
      },
      {
       "output_type": "stream",
       "stream": "stdout",
       "text": [
        "."
       ]
      },
      {
       "output_type": "stream",
       "stream": "stdout",
       "text": [
        "."
       ]
      },
      {
       "output_type": "stream",
       "stream": "stdout",
       "text": [
        "."
       ]
      },
      {
       "output_type": "stream",
       "stream": "stdout",
       "text": [
        "."
       ]
      },
      {
       "output_type": "stream",
       "stream": "stdout",
       "text": [
        "."
       ]
      },
      {
       "output_type": "stream",
       "stream": "stdout",
       "text": [
        "."
       ]
      },
      {
       "output_type": "stream",
       "stream": "stdout",
       "text": [
        "."
       ]
      },
      {
       "output_type": "stream",
       "stream": "stdout",
       "text": [
        "."
       ]
      },
      {
       "output_type": "stream",
       "stream": "stdout",
       "text": [
        "."
       ]
      },
      {
       "output_type": "stream",
       "stream": "stdout",
       "text": [
        "."
       ]
      },
      {
       "output_type": "stream",
       "stream": "stdout",
       "text": [
        "."
       ]
      },
      {
       "output_type": "stream",
       "stream": "stdout",
       "text": [
        "."
       ]
      },
      {
       "output_type": "stream",
       "stream": "stdout",
       "text": [
        "."
       ]
      },
      {
       "output_type": "stream",
       "stream": "stdout",
       "text": [
        "."
       ]
      },
      {
       "output_type": "stream",
       "stream": "stdout",
       "text": [
        "."
       ]
      },
      {
       "output_type": "stream",
       "stream": "stdout",
       "text": [
        "."
       ]
      },
      {
       "output_type": "stream",
       "stream": "stdout",
       "text": [
        "."
       ]
      },
      {
       "output_type": "stream",
       "stream": "stdout",
       "text": [
        "."
       ]
      },
      {
       "output_type": "stream",
       "stream": "stdout",
       "text": [
        "."
       ]
      },
      {
       "output_type": "stream",
       "stream": "stdout",
       "text": [
        "."
       ]
      },
      {
       "output_type": "stream",
       "stream": "stdout",
       "text": [
        "."
       ]
      },
      {
       "output_type": "stream",
       "stream": "stdout",
       "text": [
        "."
       ]
      },
      {
       "output_type": "stream",
       "stream": "stdout",
       "text": [
        "."
       ]
      },
      {
       "output_type": "stream",
       "stream": "stdout",
       "text": [
        "+"
       ]
      },
      {
       "output_type": "stream",
       "stream": "stdout",
       "text": [
        "+"
       ]
      },
      {
       "output_type": "stream",
       "stream": "stdout",
       "text": [
        "+"
       ]
      },
      {
       "output_type": "stream",
       "stream": "stdout",
       "text": [
        "+"
       ]
      },
      {
       "output_type": "stream",
       "stream": "stdout",
       "text": [
        "+"
       ]
      },
      {
       "output_type": "stream",
       "stream": "stdout",
       "text": [
        "+"
       ]
      },
      {
       "output_type": "stream",
       "stream": "stdout",
       "text": [
        "+"
       ]
      },
      {
       "output_type": "stream",
       "stream": "stdout",
       "text": [
        "+"
       ]
      },
      {
       "output_type": "stream",
       "stream": "stdout",
       "text": [
        "+"
       ]
      },
      {
       "output_type": "stream",
       "stream": "stdout",
       "text": [
        "+"
       ]
      },
      {
       "output_type": "stream",
       "stream": "stdout",
       "text": [
        "+"
       ]
      },
      {
       "output_type": "stream",
       "stream": "stdout",
       "text": [
        "+"
       ]
      },
      {
       "output_type": "stream",
       "stream": "stdout",
       "text": [
        "+"
       ]
      },
      {
       "output_type": "stream",
       "stream": "stdout",
       "text": [
        "+"
       ]
      },
      {
       "output_type": "stream",
       "stream": "stdout",
       "text": [
        "+"
       ]
      },
      {
       "output_type": "stream",
       "stream": "stdout",
       "text": [
        "+"
       ]
      },
      {
       "output_type": "stream",
       "stream": "stdout",
       "text": [
        "+"
       ]
      },
      {
       "output_type": "stream",
       "stream": "stdout",
       "text": [
        "+"
       ]
      },
      {
       "output_type": "stream",
       "stream": "stdout",
       "text": [
        "+"
       ]
      },
      {
       "output_type": "stream",
       "stream": "stdout",
       "text": [
        "+"
       ]
      },
      {
       "output_type": "stream",
       "stream": "stdout",
       "text": [
        "+"
       ]
      },
      {
       "output_type": "stream",
       "stream": "stdout",
       "text": [
        "+"
       ]
      },
      {
       "output_type": "stream",
       "stream": "stdout",
       "text": [
        "+"
       ]
      },
      {
       "output_type": "stream",
       "stream": "stdout",
       "text": [
        "+"
       ]
      },
      {
       "output_type": "stream",
       "stream": "stdout",
       "text": [
        "+"
       ]
      },
      {
       "output_type": "stream",
       "stream": "stdout",
       "text": [
        "+"
       ]
      },
      {
       "output_type": "stream",
       "stream": "stdout",
       "text": [
        "+"
       ]
      },
      {
       "output_type": "stream",
       "stream": "stdout",
       "text": [
        "+"
       ]
      },
      {
       "output_type": "stream",
       "stream": "stdout",
       "text": [
        "+"
       ]
      },
      {
       "output_type": "stream",
       "stream": "stdout",
       "text": [
        "+"
       ]
      },
      {
       "output_type": "stream",
       "stream": "stdout",
       "text": [
        "+"
       ]
      },
      {
       "output_type": "stream",
       "stream": "stdout",
       "text": [
        "+"
       ]
      },
      {
       "output_type": "stream",
       "stream": "stdout",
       "text": [
        "+"
       ]
      },
      {
       "output_type": "stream",
       "stream": "stdout",
       "text": [
        "+"
       ]
      },
      {
       "output_type": "stream",
       "stream": "stdout",
       "text": [
        "+"
       ]
      },
      {
       "output_type": "stream",
       "stream": "stdout",
       "text": [
        "+"
       ]
      },
      {
       "output_type": "stream",
       "stream": "stdout",
       "text": [
        "+"
       ]
      },
      {
       "output_type": "stream",
       "stream": "stdout",
       "text": [
        "+"
       ]
      },
      {
       "output_type": "stream",
       "stream": "stdout",
       "text": [
        "+"
       ]
      },
      {
       "output_type": "stream",
       "stream": "stdout",
       "text": [
        "+"
       ]
      },
      {
       "output_type": "stream",
       "stream": "stdout",
       "text": [
        "+"
       ]
      },
      {
       "output_type": "stream",
       "stream": "stdout",
       "text": [
        "+"
       ]
      },
      {
       "output_type": "stream",
       "stream": "stdout",
       "text": [
        "+"
       ]
      },
      {
       "output_type": "stream",
       "stream": "stdout",
       "text": [
        "+"
       ]
      },
      {
       "output_type": "stream",
       "stream": "stdout",
       "text": [
        "+"
       ]
      },
      {
       "output_type": "stream",
       "stream": "stdout",
       "text": [
        "+"
       ]
      },
      {
       "output_type": "stream",
       "stream": "stdout",
       "text": [
        "+"
       ]
      },
      {
       "output_type": "stream",
       "stream": "stdout",
       "text": [
        "+"
       ]
      },
      {
       "output_type": "stream",
       "stream": "stdout",
       "text": [
        "+"
       ]
      },
      {
       "output_type": "stream",
       "stream": "stdout",
       "text": [
        "+"
       ]
      },
      {
       "output_type": "stream",
       "stream": "stdout",
       "text": [
        "+"
       ]
      },
      {
       "output_type": "stream",
       "stream": "stdout",
       "text": [
        "+"
       ]
      },
      {
       "output_type": "stream",
       "stream": "stdout",
       "text": [
        "+"
       ]
      },
      {
       "output_type": "stream",
       "stream": "stdout",
       "text": [
        "+"
       ]
      },
      {
       "output_type": "stream",
       "stream": "stdout",
       "text": [
        "+"
       ]
      },
      {
       "output_type": "stream",
       "stream": "stdout",
       "text": [
        "+"
       ]
      },
      {
       "output_type": "stream",
       "stream": "stdout",
       "text": [
        "+"
       ]
      },
      {
       "output_type": "stream",
       "stream": "stdout",
       "text": [
        "+"
       ]
      },
      {
       "output_type": "stream",
       "stream": "stdout",
       "text": [
        "+"
       ]
      },
      {
       "output_type": "stream",
       "stream": "stdout",
       "text": [
        "+"
       ]
      },
      {
       "output_type": "stream",
       "stream": "stdout",
       "text": [
        "+"
       ]
      },
      {
       "output_type": "stream",
       "stream": "stdout",
       "text": [
        "+"
       ]
      },
      {
       "output_type": "stream",
       "stream": "stdout",
       "text": [
        "+"
       ]
      },
      {
       "output_type": "stream",
       "stream": "stdout",
       "text": [
        "+"
       ]
      },
      {
       "output_type": "stream",
       "stream": "stdout",
       "text": [
        "+"
       ]
      },
      {
       "output_type": "stream",
       "stream": "stdout",
       "text": [
        "+"
       ]
      },
      {
       "output_type": "stream",
       "stream": "stdout",
       "text": [
        "+"
       ]
      },
      {
       "output_type": "stream",
       "stream": "stdout",
       "text": [
        "+"
       ]
      },
      {
       "output_type": "stream",
       "stream": "stdout",
       "text": [
        "+"
       ]
      },
      {
       "output_type": "stream",
       "stream": "stdout",
       "text": [
        "+"
       ]
      },
      {
       "output_type": "stream",
       "stream": "stdout",
       "text": [
        "+"
       ]
      },
      {
       "output_type": "stream",
       "stream": "stdout",
       "text": [
        "+"
       ]
      },
      {
       "output_type": "stream",
       "stream": "stdout",
       "text": [
        "+"
       ]
      },
      {
       "output_type": "stream",
       "stream": "stdout",
       "text": [
        "+"
       ]
      },
      {
       "output_type": "stream",
       "stream": "stdout",
       "text": [
        "+"
       ]
      },
      {
       "output_type": "stream",
       "stream": "stdout",
       "text": [
        "+"
       ]
      },
      {
       "output_type": "stream",
       "stream": "stdout",
       "text": [
        "+"
       ]
      },
      {
       "output_type": "stream",
       "stream": "stdout",
       "text": [
        "+"
       ]
      },
      {
       "output_type": "stream",
       "stream": "stdout",
       "text": [
        "+"
       ]
      },
      {
       "output_type": "stream",
       "stream": "stdout",
       "text": [
        "+"
       ]
      },
      {
       "output_type": "stream",
       "stream": "stdout",
       "text": [
        "+"
       ]
      },
      {
       "output_type": "stream",
       "stream": "stdout",
       "text": [
        "+"
       ]
      },
      {
       "output_type": "stream",
       "stream": "stdout",
       "text": [
        "+"
       ]
      },
      {
       "output_type": "stream",
       "stream": "stdout",
       "text": [
        "+"
       ]
      },
      {
       "output_type": "stream",
       "stream": "stdout",
       "text": [
        "+"
       ]
      },
      {
       "output_type": "stream",
       "stream": "stdout",
       "text": [
        "+"
       ]
      },
      {
       "output_type": "stream",
       "stream": "stdout",
       "text": [
        "+"
       ]
      },
      {
       "output_type": "stream",
       "stream": "stdout",
       "text": [
        "+"
       ]
      },
      {
       "output_type": "stream",
       "stream": "stdout",
       "text": [
        "+"
       ]
      },
      {
       "output_type": "stream",
       "stream": "stdout",
       "text": [
        "+"
       ]
      },
      {
       "output_type": "stream",
       "stream": "stdout",
       "text": [
        "+"
       ]
      },
      {
       "output_type": "stream",
       "stream": "stdout",
       "text": [
        "+"
       ]
      },
      {
       "output_type": "stream",
       "stream": "stdout",
       "text": [
        "+"
       ]
      },
      {
       "output_type": "stream",
       "stream": "stdout",
       "text": [
        "+"
       ]
      },
      {
       "output_type": "stream",
       "stream": "stdout",
       "text": [
        "+"
       ]
      },
      {
       "output_type": "stream",
       "stream": "stdout",
       "text": [
        "+"
       ]
      },
      {
       "output_type": "stream",
       "stream": "stdout",
       "text": [
        "+"
       ]
      },
      {
       "output_type": "stream",
       "stream": "stdout",
       "text": [
        "+"
       ]
      },
      {
       "output_type": "stream",
       "stream": "stdout",
       "text": [
        "+"
       ]
      },
      {
       "output_type": "stream",
       "stream": "stdout",
       "text": [
        "+"
       ]
      }
     ],
     "prompt_number": 75
    },
    {
     "cell_type": "code",
     "collapsed": false,
     "input": [
      "download_images('castle', 100)"
     ],
     "language": "python",
     "metadata": {},
     "outputs": [
      {
       "ename": "NameError",
       "evalue": "name 'download_images' is not defined",
       "output_type": "pyerr",
       "traceback": [
        "\u001b[1;31m---------------------------------------------------------------------------\u001b[0m\n\u001b[1;31mNameError\u001b[0m                                 Traceback (most recent call last)",
        "\u001b[1;32m<ipython-input-2-bf59cc0f091f>\u001b[0m in \u001b[0;36m<module>\u001b[1;34m()\u001b[0m\n\u001b[1;32m----> 1\u001b[1;33m \u001b[0mdownload_images\u001b[0m\u001b[1;33m(\u001b[0m\u001b[1;34m'castle'\u001b[0m\u001b[1;33m,\u001b[0m \u001b[1;36m100\u001b[0m\u001b[1;33m)\u001b[0m\u001b[1;33m\u001b[0m\u001b[0m\n\u001b[0m",
        "\u001b[1;31mNameError\u001b[0m: name 'download_images' is not defined"
       ]
      }
     ],
     "prompt_number": 2
    }
   ],
   "metadata": {}
  }
 ]
}